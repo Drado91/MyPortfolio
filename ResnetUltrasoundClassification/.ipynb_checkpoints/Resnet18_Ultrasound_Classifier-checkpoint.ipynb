{
 "cells": [
  {
   "cell_type": "markdown",
   "id": "1f16e6e9-1537-4fe5-b86b-1d5c17de0777",
   "metadata": {},
   "source": [
    "## Ultrasound images classification using ResNet18"
   ]
  },
  {
   "cell_type": "code",
   "execution_count": 202,
   "id": "a177bdf2-63ae-42df-aea4-b5064e01a507",
   "metadata": {},
   "outputs": [],
   "source": [
    "from PIL import Image\n",
    "import os\n",
    "import zipfile\n",
    "from pathlib import Path\n",
    "from tqdm import tqdm\n",
    "import matplotlib.pyplot as plt\n",
    "import numpy as np\n",
    "import pandas as pd\n",
    "import shutil\n",
    "import torch\n",
    "from torch.utils.data import DataLoader\n",
    "from torchvision.io import read_image\n",
    "import torchvision\n",
    "from torchvision import transforms\n",
    "from torch.utils.data import Dataset\n",
    "import warnings\n",
    "warnings.filterwarnings('ignore')"
   ]
  },
  {
   "cell_type": "markdown",
   "id": "3f1772b4-0f92-4af7-b2ef-7d68c8770b25",
   "metadata": {},
   "source": [
    "### Data"
   ]
  },
  {
   "cell_type": "markdown",
   "id": "8d26b2ee-108e-4cd9-8a0f-30d1adfffa35",
   "metadata": {},
   "source": [
    "Breast cancer is one of the most common causes of death among women worldwide. Early detection helps in reducing the number of early deaths. The data reviews the medical images of breast cancer using ultrasound scan. Breast Ultrasound Dataset is categorized into three classes: normal, benign, and malignant images. Breast ultrasound images can produce great results in classification, detection, and segmentation of breast cancer when combined with machine learning.\n",
    "\n",
    "Data\n",
    "The data collected at baseline include breast ultrasound images among women in ages between 25 and 75 years old. This data was collected in 2018. The number of patients is 600 female patients. The dataset consists of 780 images with an average image size of 500*500 pixels. The images are in PNG format. The ground truth images are presented with original images. The images are categorized into three classes, which are normal, benign, and malignant."
   ]
  },
  {
   "cell_type": "markdown",
   "id": "bb5349a5-6769-43b7-b990-f45416e2870f",
   "metadata": {
    "tags": []
   },
   "source": [
    "### Preprocess"
   ]
  },
  {
   "cell_type": "markdown",
   "id": "904f424c-3efc-4019-83f7-ce5540950c24",
   "metadata": {},
   "source": [
    "I have downloaded the dataset from kaggle. Dataset was not seperated to train/test so I've created some functions in order to split it by given ratio. Also, data included mask images that I have seperated and used only ultrasound images.\n",
    "Ultrasound images in the dataset were given in a different size so I resized and center-cropped it to fit to ResNet18 input size.\n",
    "Dataset has different amount of images per class so I checked which class has the minimum number of images ('normal' - 133 imags) and set this number * ratio (106) to be number of images of one class of train set. total number of train set images is (106*3=318). The rest moved for test set. (it makes sense for me that train should have equal number of images per class)"
   ]
  },
  {
   "cell_type": "code",
   "execution_count": 219,
   "id": "f9fe68f2-e09d-464f-aa2b-76673c2a23f5",
   "metadata": {},
   "outputs": [],
   "source": [
    "#Extract dataset\n",
    "main_path=os.getcwd()\n",
    "zip_file_path = '{}/archive.zip'.format(main_path)\n",
    "target_dir = '{}/dataset'.format(main_path)"
   ]
  },
  {
   "cell_type": "code",
   "execution_count": 220,
   "id": "9431541e-6d9a-449a-903a-ea145625c6b8",
   "metadata": {},
   "outputs": [
    {
     "name": "stderr",
     "output_type": "stream",
     "text": [
      "Extracting : 100%|████████████████████████████████████████████████████████████████| 1578/1578 [00:03<00:00, 415.18it/s]\n"
     ]
    }
   ],
   "source": [
    "with zipfile.ZipFile(zip_file_path) as zf:\n",
    "     for member in tqdm(zf.infolist(), desc='Extracting '):\n",
    "        try:\n",
    "            zf.extract(member, target_dir)\n",
    "        except zipfile.error as e:\n",
    "            pass"
   ]
  },
  {
   "cell_type": "code",
   "execution_count": 221,
   "id": "57a44bf2-d50f-47aa-bd58-b937f97ef4e8",
   "metadata": {},
   "outputs": [],
   "source": [
    "#Print dataset directory\n",
    "def print_dir_hir(path):\n",
    "    for dirpath, dirnames, filenames in os.walk(path):\n",
    "        directory_level = dirpath.replace(path, \"\")\n",
    "        directory_level = directory_level.count(os.sep)\n",
    "        indent = \" \" * 4\n",
    "        print(\"{}{}/\".format(indent*directory_level, os.path.basename(dirpath)))"
   ]
  },
  {
   "cell_type": "code",
   "execution_count": 222,
   "id": "3d41a8b7-4439-467f-885e-7ff895600c7b",
   "metadata": {},
   "outputs": [
    {
     "name": "stdout",
     "output_type": "stream",
     "text": [
      "dataset/\n",
      "    .ipynb_checkpoints/\n",
      "    Dataset_BUSI_with_GT/\n",
      "        benign/\n",
      "        malignant/\n",
      "        normal/\n"
     ]
    }
   ],
   "source": [
    "dataset_path=main_path+'/dataset'\n",
    "print_dir_hir(dataset_path)"
   ]
  },
  {
   "cell_type": "code",
   "execution_count": 297,
   "id": "dfcab4e6-ac6f-4b79-be2f-8c75b0d0a2be",
   "metadata": {},
   "outputs": [],
   "source": [
    "#Few specific functions for dataset directory hierarchy\n",
    "def move_files_by_str(source_dir,dest_dir,substr):\n",
    "    for top, dirs, files in  os.walk(source_dir):\n",
    "        for filename in files:\n",
    "            if substr not in filename:\n",
    "                continue\n",
    "            file_path = os.path.join(top, filename)\n",
    "            dest_path = os.path.join(dest_dir, filename)\n",
    "            os.replace(file_path, dest_path)\n",
    "\n",
    "def count_files_in_dir(dir_path):\n",
    "    count = 0\n",
    "    # Iterate directory\n",
    "    for path in os.listdir(dir_path):\n",
    "        # check if current path is a file\n",
    "        if os.path.isfile(os.path.join(dir_path, path)):\n",
    "            count += 1\n",
    "    return count\n",
    "\n",
    "def move_files_by_percentage(source_dir, dest_dir, ratio,num_files):\n",
    "    num_train_files=int(num_files*ratio)\n",
    "    test_samples_cnt=0\n",
    "    for top, dirs, files in os.walk(source_dir):\n",
    "        for i,filename in enumerate(files):\n",
    "            label = source_dir.split('//')[-1]\n",
    "            if i <= num_train_files:\n",
    "                file_path = os.path.join(source_dir, filename)\n",
    "                train_dest_path = os.path.join(dest_dir,'Train',label, filename)\n",
    "                shutil.copyfile(file_path, train_dest_path)\n",
    "                #os.replace(file_path, train_dest_path)\n",
    "            else:\n",
    "                test_samples_cnt+=1\n",
    "                file_path = os.path.join(source_dir, filename)\n",
    "                train_dest_path = os.path.join(dest_dir,'Test',label, filename)\n",
    "                shutil.copyfile(file_path, train_dest_path)\n",
    "                #os.replace(file_path, train_dest_path)\n",
    "    print(f'{num_train_files} of label {label} files copied to Train, {test_samples_cnt} to test')\n",
    "\n",
    "def annotations_files_from_folder(root):\n",
    "    annotations_file = pd.DataFrame()\n",
    "    for path, subdirs, files in os.walk(root):\n",
    "        for name in files:\n",
    "            file_path=os.path.join(path, name)\n",
    "            dest_path = os.path.join(root, name)\n",
    "            if 'benign' in name:\n",
    "                annotations_file=annotations_file.append([[name,0]])\n",
    "            elif 'normal' in name:\n",
    "                annotations_file=annotations_file.append([[name,1]])\n",
    "            elif 'malignant' in name:\n",
    "                annotations_file=annotations_file.append([[name,2]])\n",
    "            shutil.copyfile(file_path, dest_path)\n",
    "    annotations_file_path=root + '/annotations_file.csv'\n",
    "    annotations_file.reset_index(drop=True, inplace=True)\n",
    "    annotations_file.to_csv(annotations_file_path,index=False)\n",
    "    print('annotations file created at: {}'.format(annotations_file_path))\n",
    "    return annotations_file,annotations_file_path"
   ]
  },
  {
   "cell_type": "code",
   "execution_count": 235,
   "id": "bbe75082-0b2a-4195-bfdd-8dbac8263054",
   "metadata": {},
   "outputs": [],
   "source": [
    "#Define paths:\n",
    "normal_source_dir = \"C:\\DAN\\MyPortfolio\\ResnetUltrasoundClassification\\dataset\\Dataset_BUSI_with_GT//normal\"\n",
    "benign_source_dir = \"C:\\DAN\\MyPortfolio\\ResnetUltrasoundClassification\\dataset\\Dataset_BUSI_with_GT//benign\"\n",
    "malignant_source_dir = \"C:\\DAN\\MyPortfolio\\ResnetUltrasoundClassification\\dataset\\Dataset_BUSI_with_GT//malignant\"\n",
    "\n",
    "normal_mask_dest_dir = \"C:\\DAN\\MyPortfolio\\ResnetUltrasoundClassification\\dataset\\masks//normal\"\n",
    "benign_mask_dest_dir = \"C:\\DAN\\MyPortfolio\\ResnetUltrasoundClassification\\dataset\\masks//benign\"\n",
    "malignant_mask_dest_dir = \"C:\\DAN\\MyPortfolio\\ResnetUltrasoundClassification\\dataset\\masks//malignant\"\n",
    "\n",
    "dest_dir = \"C:\\DAN\\MyPortfolio\\ResnetUltrasoundClassification\\dataset//\""
   ]
  },
  {
   "cell_type": "code",
   "execution_count": 228,
   "id": "7bdaadff-f92a-4c3a-84a9-3941bbbed061",
   "metadata": {
    "tags": []
   },
   "outputs": [],
   "source": [
    "#Split masks from ultrasound images\n",
    "substr='mask'\n",
    "move_files_by_str(normal_source_dir,normal_mask_dest_dir,substr)\n",
    "move_files_by_str(benign_source_dir,benign_mask_dest_dir,substr)\n",
    "move_files_by_str(malignant_source_dir,malignant_mask_dest_dir,substr)"
   ]
  },
  {
   "cell_type": "code",
   "execution_count": 296,
   "id": "0d54f74f-a7f8-418a-a7b4-96b8d43c89ee",
   "metadata": {},
   "outputs": [
    {
     "name": "stdout",
     "output_type": "stream",
     "text": [
      "133\n",
      "437\n",
      "210\n",
      "minimum samples in one class: 133\n"
     ]
    }
   ],
   "source": [
    "#Find minimum number of images per class\n",
    "dirs=[normal_source_dir,benign_source_dir,malignant_source_dir]\n",
    "find_min=np.inf\n",
    "for dir in dirs:\n",
    "    num_files=count_files_in_dir(dir)\n",
    "    print(num_files)\n",
    "    if num_files < find_min:\n",
    "        find_min=num_files\n",
    "print('minimum samples in one class: {}'.format(find_min))"
   ]
  },
  {
   "cell_type": "code",
   "execution_count": 237,
   "id": "3f032574-7fbf-4f03-b76f-30f2215230bf",
   "metadata": {},
   "outputs": [
    {
     "name": "stdout",
     "output_type": "stream",
     "text": [
      "106 of label normal files copied to Train, 26 to test\n",
      "106 of label benign files copied to Train, 330 to test\n",
      "106 of label malignant files copied to Train, 103 to test\n"
     ]
    }
   ],
   "source": [
    "#Split dataset to train and test\n",
    "move_files_by_percentage(normal_source_dir,dest_dir,0.8,find_min)\n",
    "move_files_by_percentage(benign_source_dir,dest_dir,0.8,find_min)\n",
    "move_files_by_percentage(malignant_source_dir,dest_dir,0.8,find_min)"
   ]
  },
  {
   "cell_type": "code",
   "execution_count": 241,
   "id": "a6d0429b-ac20-424a-84aa-bf15dedc1292",
   "metadata": {
    "tags": []
   },
   "outputs": [
    {
     "name": "stdout",
     "output_type": "stream",
     "text": [
      "annotations file created at: C:\\DAN\\MyPortfolio\\ResnetUltrasoundClassification\\dataset//train/annotations_file.csv\n",
      "annotations file created at: C:\\DAN\\MyPortfolio\\ResnetUltrasoundClassification\\dataset//test/annotations_file.csv\n"
     ]
    }
   ],
   "source": [
    "#Create annotations csv file for train\n",
    "train_dataset_path=\"C:\\DAN\\MyPortfolio\\ResnetUltrasoundClassification\\dataset//train\"\n",
    "train_annotations_file, train_annotations_file_path=annotations_files_from_folder(train_dataset_path)\n",
    "\n",
    "#Create annotations csv file for test\n",
    "test_dataset_path=\"C:\\DAN\\MyPortfolio\\ResnetUltrasoundClassification\\dataset//test\"\n",
    "test_annotations_file, test_annotations_file_path=annotations_files_from_folder(test_dataset_path)"
   ]
  },
  {
   "cell_type": "code",
   "execution_count": 294,
   "id": "f5be7885-d84a-4c3f-ae75-4629242a883a",
   "metadata": {},
   "outputs": [
    {
     "name": "stdout",
     "output_type": "stream",
     "text": [
      "dataset/\n",
      "    .ipynb_checkpoints/\n",
      "    Dataset_BUSI_with_GT/\n",
      "        benign/\n",
      "        malignant/\n",
      "        normal/\n",
      "    masks/\n",
      "        benign/\n",
      "        malignant/\n",
      "        normal/\n",
      "    Test/\n",
      "        benign/\n",
      "        malignant/\n",
      "        normal/\n",
      "    Train/\n",
      "        benign/\n",
      "        malignant/\n",
      "        normal/\n"
     ]
    }
   ],
   "source": [
    "#Print dataset directory after some preprocess\n",
    "dataset_path=main_path+'/dataset'\n",
    "print_dir_hir(dataset_path)"
   ]
  },
  {
   "cell_type": "code",
   "execution_count": 298,
   "id": "ac2a9532-e178-444d-96e0-7013cb6772eb",
   "metadata": {},
   "outputs": [],
   "source": [
    "#Create dataset class (I've downloaded the dataset from kaggle not from torchvision)\n",
    "class CustomImageDataset(Dataset):\n",
    "    def __init__(self, annotations_file, img_dir, transform=None, target_transform=None):\n",
    "        self.img_labels = pd.read_csv(annotations_file)\n",
    "        self.img_dir = img_dir\n",
    "        self.transform = transform\n",
    "        self.target_transform = target_transform\n",
    "\n",
    "    def __len__(self):\n",
    "        return len(self.img_labels)\n",
    "\n",
    "    def __getitem__(self, idx):\n",
    "        img_path = os.path.join(self.img_dir, self.img_labels.iloc[idx, 0])\n",
    "        image = Image.open(img_path)#read_image(img_path)\n",
    "        label = self.img_labels.iloc[idx, 1]\n",
    "        if self.transform:\n",
    "            image = self.transform(image)\n",
    "        if self.target_transform:\n",
    "            label = self.target_transform(label)\n",
    "        return image, label"
   ]
  },
  {
   "cell_type": "code",
   "execution_count": 299,
   "id": "df846e51-f330-4e6c-9d76-c07be7762f9f",
   "metadata": {},
   "outputs": [],
   "source": [
    "#Define transform\n",
    "preprocess = transforms.Compose([\n",
    "    transforms.Resize(256),\n",
    "    transforms.CenterCrop(224),\n",
    "    transforms.ToTensor(),\n",
    "    transforms.Normalize(mean=[0.485, 0.456, 0.406], std=[0.229, 0.224, 0.225]),\n",
    "])\n",
    "\n",
    "#Define model parameters\n",
    "batch_size=2"
   ]
  },
  {
   "cell_type": "markdown",
   "id": "44f83fcf-c2b1-4613-a528-bca7cce6036b",
   "metadata": {},
   "source": [
    "### Model - ResNet18 pretrained"
   ]
  },
  {
   "cell_type": "code",
   "execution_count": 249,
   "id": "7b11fc7c-4bde-4c4e-9fde-191f57ad82b1",
   "metadata": {},
   "outputs": [],
   "source": [
    "#Load train dataset\n",
    "train_data = CustomImageDataset(ann_file_path,train_dataset_path,preprocess)\n",
    "train_dataloader = DataLoader(train_data, batch_size=batch_size,shuffle=True)"
   ]
  },
  {
   "cell_type": "code",
   "execution_count": 250,
   "id": "59f66fa5-6c20-414a-abd6-f5ce2fa9565f",
   "metadata": {},
   "outputs": [],
   "source": [
    "#Load test dataset\n",
    "test_data = CustomImageDataset(test_ann_file_path,test_dataset_path,preprocess)\n",
    "test_dataloader = DataLoader(test_data, batch_size=batch_size, shuffle=False)"
   ]
  },
  {
   "cell_type": "code",
   "execution_count": 252,
   "id": "20da6dad-06a0-4a65-a86d-7a374996450e",
   "metadata": {},
   "outputs": [],
   "source": [
    "#Load ResNet18\n",
    "model = torchvision.models.resnet18(pretrained=True)"
   ]
  },
  {
   "cell_type": "code",
   "execution_count": 291,
   "id": "c4c6c213-7b86-4260-99f4-61a1db4375a2",
   "metadata": {},
   "outputs": [],
   "source": [
    "#Define optimizer, loss function and max epochs\n",
    "optimizer = torch.optim.Adam(model.parameters(),lr=1e-2)\n",
    "criterion = torch.nn.CrossEntropyLoss()\n",
    "max_epochs = 500"
   ]
  },
  {
   "cell_type": "code",
   "execution_count": 300,
   "id": "7898d30f-85df-48d5-94d0-180ae30d9c6e",
   "metadata": {
    "tags": []
   },
   "outputs": [
    {
     "name": "stderr",
     "output_type": "stream",
     "text": [
      "100%|██████████████████████████████████████████████████████████████████████████████| 500/500 [8:32:32<00:00, 61.51s/it]\n"
     ]
    }
   ],
   "source": [
    "from tqdm import tqdm \n",
    "\n",
    "# initialize list of losses vs. epochs\n",
    "loss_list = []\n",
    "def train(model, train_loader, optimizer, criterion, max_epochs=50):\n",
    "    for epoch in tqdm(range(max_epochs)):\n",
    "        #  initialize average loss value\n",
    "        loss_mean = 0\n",
    "        # Train 1 Epoch: loop over batches\n",
    "        for batch_idx, batch in enumerate(train_loader):\n",
    "            # Train 1 batch\n",
    "            # organize batch to samples and tragets\n",
    "            samples, targets = batch\n",
    "            # zero the optimizer gradients\n",
    "            optimizer.zero_grad()\n",
    "            # Forward pass\n",
    "            outputs = model(samples)\n",
    "            # Calculate loss\n",
    "            loss=criterion(outputs, targets)\n",
    "            # Back-propagation\n",
    "            loss.backward()\n",
    "            # optimizer step\n",
    "            optimizer.step()\n",
    "            # aggregate loss\n",
    "            loss_mean += loss.item()\n",
    "        # Normalize loss\n",
    "        loss_mean /= (batch_idx + 1)\n",
    "        # Add loss to list\n",
    "        loss_list.append(loss_mean)\n",
    "    return loss_list\n",
    "loss_list = train(model,train_dataloader,optimizer,criterion,max_epochs)"
   ]
  },
  {
   "cell_type": "code",
   "execution_count": 301,
   "id": "7f6c5b95-59c7-42b8-a7f6-04ee01c1cd42",
   "metadata": {},
   "outputs": [
    {
     "data": {
      "image/png": "[encoded data removed]",
      "text/plain": [
       "<Figure size 432x288 with 1 Axes>"
      ]
     },
     "metadata": {
      "needs_background": "light"
     },
     "output_type": "display_data"
    }
   ],
   "source": [
    "import matplotlib.pyplot as plt\n",
    "import math\n",
    "def plot_loss(loss_list):\n",
    "    epochs_axis=np.arange(len(loss_list))+1\n",
    "    xticks = range(math.floor(min(epochs_axis)), math.ceil(max(epochs_axis))+1,int(len(loss_list)/5))\n",
    "    plt.figure()\n",
    "    plt.plot(epochs_axis,loss_list)\n",
    "    plt.title('Loss Curve - {} Epochs'.format(len(epochs_axis)))\n",
    "    plt.xticks(xticks)\n",
    "    plt.show()\n",
    "\n",
    "plot_loss(loss_list)"
   ]
  },
  {
   "cell_type": "code",
   "execution_count": 302,
   "id": "05692e50-b132-4d57-bd88-2f66b7d71d9d",
   "metadata": {},
   "outputs": [],
   "source": [
    "dataiter = iter(test_dataloader)\n",
    "images, labels = dataiter.next()"
   ]
  },
  {
   "cell_type": "code",
   "execution_count": 303,
   "id": "36e395fa-688b-42ae-b8d6-52cc18d2ee48",
   "metadata": {},
   "outputs": [],
   "source": [
    "classes = ('benign', 'normal', 'malignant')"
   ]
  },
  {
   "cell_type": "code",
   "execution_count": 304,
   "id": "aa1b4190-4f59-4954-b0c6-7c8b5e43b82b",
   "metadata": {},
   "outputs": [],
   "source": [
    "import matplotlib.pyplot as plt\n",
    "import numpy as np\n",
    "\n",
    "# functions to show an image\n",
    "def imshow(img):\n",
    "    img = img / 2 + 0.5     # unnormalize\n",
    "    npimg = img.numpy()\n",
    "    plt.imshow(np.transpose(npimg, (1, 2, 0)))\n",
    "    plt.show()"
   ]
  },
  {
   "cell_type": "code",
   "execution_count": 305,
   "id": "a21369ab-874c-4379-86fd-b99495e9fce2",
   "metadata": {},
   "outputs": [
    {
     "name": "stderr",
     "output_type": "stream",
     "text": [
      "Clipping input data to the valid range for imshow with RGB data ([0..1] for floats or [0..255] for integers).\n"
     ]
    },
    {
     "data": {
      "image/png": "[encoded data removed]",
      "text/plain": [
       "<Figure size 432x288 with 1 Axes>"
      ]
     },
     "metadata": {
      "needs_background": "light"
     },
     "output_type": "display_data"
    },
    {
     "name": "stdout",
     "output_type": "stream",
     "text": [
      "GroundTruth:  benign benign benign benign benign\n"
     ]
    }
   ],
   "source": [
    "#Show test images and their label\n",
    "num_images_to_show=5\n",
    "imshow(torchvision.utils.make_grid(images[0:num_images_to_show]))\n",
    "print('GroundTruth: ', ' '.join(f'{classes[labels[j]-1]:5s}' for j in range(num_images_to_show)))"
   ]
  },
  {
   "cell_type": "code",
   "execution_count": 306,
   "id": "9164e9a6-c66b-4e97-8273-2d950a8dd766",
   "metadata": {},
   "outputs": [],
   "source": [
    "outputs = model(images)"
   ]
  },
  {
   "cell_type": "code",
   "execution_count": 307,
   "id": "3ef80a3e-f5d0-40c8-a8cb-8c62540f4dd9",
   "metadata": {},
   "outputs": [
    {
     "name": "stdout",
     "output_type": "stream",
     "text": [
      "Predicted:  normal malignant benign malignant benign\n"
     ]
    }
   ],
   "source": [
    "#Print test images predictions\n",
    "_, predicted = torch.max(outputs, 1)\n",
    "\n",
    "print('Predicted: ', ' '.join(f'{classes[predicted[j]-1]:5s}'\n",
    "                              for j in range(num_images_to_show)))"
   ]
  },
  {
   "cell_type": "code",
   "execution_count": 308,
   "id": "db405251-49f9-4128-ac95-33770aed51d5",
   "metadata": {},
   "outputs": [
    {
     "name": "stdout",
     "output_type": "stream",
     "text": [
      "Accuracy of the network on the test images: 41 %\n"
     ]
    }
   ],
   "source": [
    "#Accuracy of total test images\n",
    "correct = 0\n",
    "total = 0\n",
    "# since we're not training, we don't need to calculate the gradients for our outputs\n",
    "with torch.no_grad():\n",
    "    for data in test_dataloader:\n",
    "        images, labels = data\n",
    "        # calculate outputs by running images through the network\n",
    "        outputs = model(images)\n",
    "        # the class with the highest energy is what we choose as prediction\n",
    "        _, predicted = torch.max(outputs.data, 1)\n",
    "        total += labels.size(0)\n",
    "        correct += (predicted == labels).sum().item()\n",
    "\n",
    "print(f'Accuracy of the network on the test images: {100 * correct // total} %')"
   ]
  },
  {
   "cell_type": "code",
   "execution_count": 309,
   "id": "4eb8fbd3-4816-4d3c-b5a3-1014abdd4302",
   "metadata": {
    "tags": []
   },
   "outputs": [
    {
     "name": "stdout",
     "output_type": "stream",
     "text": [
      "Accuracy for class: benign is 37.6 %\n",
      "Accuracy for class: normal is 53.8 %\n",
      "Accuracy for class: malignant is 49.5 %\n"
     ]
    }
   ],
   "source": [
    "#Accuracy of test images by class\n",
    "correct_pred = {classname: 0 for classname in classes}\n",
    "total_pred = {classname: 0 for classname in classes}\n",
    "\n",
    "with torch.no_grad():\n",
    "    for data in test_dataloader:\n",
    "        images, labels = data\n",
    "        outputs = model(images)\n",
    "        _, predictions = torch.max(outputs, 1)\n",
    "        # collect the correct predictions for each class\n",
    "        for label, prediction in zip(labels, predictions):\n",
    "            if label == prediction:\n",
    "                correct_pred[classes[label-1]] += 1\n",
    "            total_pred[classes[label-1]] += 1\n",
    "\n",
    "for classname, correct_count in correct_pred.items():\n",
    "    accuracy = 100 * float(correct_count) / total_pred[classname]\n",
    "    print(f'Accuracy for class: {classname:5s} is {accuracy:.1f} %')"
   ]
  },
  {
   "cell_type": "code",
   "execution_count": 310,
   "id": "3f9d49d5-9c95-4dd9-b47a-25e10f34642e",
   "metadata": {},
   "outputs": [
    {
     "data": {
      "text/plain": [
       "<AxesSubplot:>"
      ]
     },
     "execution_count": 310,
     "metadata": {},
     "output_type": "execute_result"
    },
    {
     "data": {
      "image/png": "[encoded data removed]",
      "text/plain": [
       "<Figure size 864x504 with 2 Axes>"
      ]
     },
     "metadata": {
      "needs_background": "light"
     },
     "output_type": "display_data"
    }
   ],
   "source": [
    "#Confusion matrix\n",
    "from sklearn.metrics import confusion_matrix\n",
    "import seaborn as sn\n",
    "import pandas as pd\n",
    "\n",
    "y_pred = []\n",
    "y_true = []\n",
    "\n",
    "# iterate over test data\n",
    "for inputs, labels in test_dataloader:\n",
    "        output = model(inputs) # Feed Network\n",
    "        labels = labels.data.cpu().numpy()\n",
    "        y_true.extend(labels) # Save Truth\n",
    "        output = (torch.max(torch.exp(output), 1)[1]).data.cpu().numpy()\n",
    "        y_pred.extend(output) # Save Prediction\n",
    "        \n",
    "\n",
    "\n",
    "\n",
    "# Build confusion matrix\n",
    "cf_matrix = confusion_matrix(y_true, y_pred)\n",
    "df_cm = pd.DataFrame(cf_matrix/np.sum(cf_matrix) *10, index = [i for i in classes],\n",
    "                     columns = [i for i in classes])\n",
    "plt.figure(figsize = (12,7))\n",
    "sn.heatmap(df_cm, annot=True)\n",
    "#plt.savefig('output.png')"
   ]
  },
  {
   "cell_type": "markdown",
   "id": "b28f6420-7b92-442c-a968-fa83a0ddde03",
   "metadata": {},
   "source": [
    "Intermediate Summary:\n",
    "Net results are not good enough, it seems from confusion matrix that model is biased to classify to benign label. Here are some possible issues and solutions.\n",
    "\n",
    "| Possible issue | Possible solution |\n",
    "| --- | --- |\n",
    "| Lack of data | Download more data. Change train to test ratio and check again. |\n",
    "| --- | --- |\n",
    "| Transform Parameters | Change Resize method. Change normalize value (mean,std.) |\n",
    "| --- | --- |\n",
    "| Hyper Parameters | Change learning rate, batch size, loss function, optimizer. |\n",
    "| --- | --- |\n",
    "| Classes similarity | Train and test the model for normal and malignant (best and worst case). Without benign (middle case). |\n",
    "\n",
    "\n",
    "\n",
    "\n",
    "\n",
    "\n",
    "\n",
    "\n",
    "\n",
    "\n",
    "\n"
   ]
  }
 ],
 "metadata": {
  "kernelspec": {
   "display_name": "Python 3 (ipykernel)",
   "language": "python",
   "name": "python3"
  },
  "language_info": {
   "codemirror_mode": {
    "name": "ipython",
    "version": 3
   },
   "file_extension": ".py",
   "mimetype": "text/x-python",
   "name": "python",
   "nbconvert_exporter": "python",
   "pygments_lexer": "ipython3",
   "version": "3.9.7"
  }
 },
 "nbformat": 4,
 "nbformat_minor": 5
}
