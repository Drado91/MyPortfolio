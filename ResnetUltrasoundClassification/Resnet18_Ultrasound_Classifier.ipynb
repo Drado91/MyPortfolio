{
 "cells": [
  {
   "cell_type": "markdown",
   "id": "1f16e6e9-1537-4fe5-b86b-1d5c17de0777",
   "metadata": {},
   "source": [
    "## Ultrasound images classification using ResNet18"
   ]
  },
  {
   "cell_type": "code",
   "execution_count": 95,
   "id": "a177bdf2-63ae-42df-aea4-b5064e01a507",
   "metadata": {
    "tags": []
   },
   "outputs": [],
   "source": [
    "import PIL\n",
    "from PIL import Image\n",
    "import os\n",
    "import zipfile\n",
    "from pathlib import Path\n",
    "from tqdm import tqdm\n",
    "import matplotlib.pyplot as plt\n",
    "import numpy as np\n",
    "import pandas as pd\n",
    "import shutil\n",
    "import torch\n",
    "from torch.utils.data import DataLoader\n",
    "from torchvision.io import read_image\n",
    "import torchvision\n",
    "from torchvision import transforms\n",
    "from torch.utils.data import Dataset\n",
    "import warnings\n",
    "warnings.filterwarnings('ignore')"
   ]
  },
  {
   "cell_type": "markdown",
   "id": "3f1772b4-0f92-4af7-b2ef-7d68c8770b25",
   "metadata": {},
   "source": [
    "### Data"
   ]
  },
  {
   "cell_type": "markdown",
   "id": "8d26b2ee-108e-4cd9-8a0f-30d1adfffa35",
   "metadata": {},
   "source": [
    "Breast cancer is one of the most common causes of death among women worldwide. Early detection helps in reducing the number of early deaths. The data reviews the medical images of breast cancer using ultrasound scan. Breast Ultrasound Dataset is categorized into three classes: normal, benign, and malignant images. Breast ultrasound images can produce great results in classification, detection, and segmentation of breast cancer when combined with machine learning.\n",
    "\n",
    "Data\n",
    "The data collected at baseline include breast ultrasound images among women in ages between 25 and 75 years old. This data was collected in 2018. The number of patients is 600 female patients. The dataset consists of 780 images with an average image size of 500*500 pixels. The images are in PNG format. The ground truth images are presented with original images. The images are categorized into three classes, which are normal, benign, and malignant.\n",
    "\n",
    "https://www.kaggle.com/datasets/aryashah2k/breast-ultrasound-images-dataset"
   ]
  },
  {
   "cell_type": "markdown",
   "id": "bb5349a5-6769-43b7-b990-f45416e2870f",
   "metadata": {
    "tags": []
   },
   "source": [
    "### Preprocess"
   ]
  },
  {
   "cell_type": "markdown",
   "id": "904f424c-3efc-4019-83f7-ce5540950c24",
   "metadata": {},
   "source": [
    "I have downloaded the dataset from kaggle. Dataset was not seperated to train/test so I've created some functions in order to split it by given ratio. Also, data included mask images that I have seperated and used only ultrasound images.\n",
    "Ultrasound images in the dataset were given in a different size so I resized and center-cropped it to fit to ResNet18 input size.\n",
    "Dataset has different amount of images per class so I checked which class has the minimum number of images ('normal' - 133 imags) and set this number * ratio (106) to be number of images of one class of train set. total number of train set images is (106*3=318). The rest moved for test set. (it makes sense for me that train should have equal number of images per class)"
   ]
  },
  {
   "cell_type": "code",
   "execution_count": 2,
   "id": "f9fe68f2-e09d-464f-aa2b-76673c2a23f5",
   "metadata": {},
   "outputs": [],
   "source": [
    "#Extract dataset\n",
    "main_path=os.getcwd()\n",
    "zip_file_path = '{}/archive.zip'.format(main_path)\n",
    "target_dir = '{}/dataset'.format(main_path)"
   ]
  },
  {
   "cell_type": "code",
   "execution_count": 3,
   "id": "9431541e-6d9a-449a-903a-ea145625c6b8",
   "metadata": {},
   "outputs": [
    {
     "name": "stderr",
     "output_type": "stream",
     "text": [
      "Extracting : 100%|█████████████████████████| 1578/1578 [00:02<00:00, 575.90it/s]\n"
     ]
    }
   ],
   "source": [
    "with zipfile.ZipFile(zip_file_path) as zf:\n",
    "     for member in tqdm(zf.infolist(), desc='Extracting '):\n",
    "        try:\n",
    "            zf.extract(member, target_dir)\n",
    "        except zipfile.error as e:\n",
    "            pass"
   ]
  },
  {
   "cell_type": "code",
   "execution_count": 4,
   "id": "57a44bf2-d50f-47aa-bd58-b937f97ef4e8",
   "metadata": {},
   "outputs": [],
   "source": [
    "#Print dataset directory\n",
    "def print_dir_hir(path):\n",
    "    for dirpath, dirnames, filenames in os.walk(path):\n",
    "        directory_level = dirpath.replace(path, \"\")\n",
    "        directory_level = directory_level.count(os.sep)\n",
    "        indent = \" \" * 4\n",
    "        print(\"{}{}/\".format(indent*directory_level, os.path.basename(dirpath)))"
   ]
  },
  {
   "cell_type": "code",
   "execution_count": 5,
   "id": "3d41a8b7-4439-467f-885e-7ff895600c7b",
   "metadata": {},
   "outputs": [
    {
     "name": "stdout",
     "output_type": "stream",
     "text": [
      "dataset/\n",
      "    Dataset_BUSI_with_GT/\n",
      "        malignant/\n",
      "        benign/\n",
      "        normal/\n"
     ]
    }
   ],
   "source": [
    "dataset_path=main_path+'/dataset'\n",
    "print_dir_hir(dataset_path)"
   ]
  },
  {
   "cell_type": "code",
   "execution_count": 59,
   "id": "dfcab4e6-ac6f-4b79-be2f-8c75b0d0a2be",
   "metadata": {},
   "outputs": [],
   "source": [
    "#Few specific functions for dataset directory hierarchy\n",
    "def move_files_by_str(source_dir,dest_dir,substr):\n",
    "    for top, dirs, files in  os.walk(source_dir):\n",
    "        for filename in files:\n",
    "            if substr not in filename:\n",
    "                continue\n",
    "            file_path = os.path.join(top, filename)\n",
    "            dest_path = os.path.join(dest_dir, filename)\n",
    "            os.replace(file_path, dest_path)\n",
    "\n",
    "def count_files_in_dir(dir_path):\n",
    "    count = 0\n",
    "    # Iterate directory\n",
    "    for path in os.listdir(dir_path):\n",
    "        # check if current path is a file\n",
    "        if os.path.isfile(os.path.join(dir_path, path)):\n",
    "            count += 1\n",
    "    return count\n",
    "\n",
    "def move_files_by_percentage(source_dir, dest_dir, ratio,num_files):\n",
    "    num_train_files=int(num_files*ratio)\n",
    "    test_samples_cnt=0\n",
    "    for top, dirs, files in os.walk(source_dir):\n",
    "        for i,filename in enumerate(files):\n",
    "            label = source_dir.split('/')[-1]\n",
    "            if i <= num_train_files:\n",
    "                file_path = os.path.join(source_dir, filename)\n",
    "                train_dest_path = os.path.join(dest_dir,'train',label, filename)\n",
    "                shutil.copyfile(file_path, train_dest_path)\n",
    "                #os.replace(file_path, train_dest_path)\n",
    "            else:\n",
    "                test_samples_cnt+=1\n",
    "                file_path = os.path.join(source_dir, filename)\n",
    "                train_dest_path = os.path.join(dest_dir,'test',label, filename)\n",
    "                shutil.copyfile(file_path, train_dest_path)\n",
    "                #os.replace(file_path, train_dest_path)\n",
    "    print(f'{num_train_files} of label {label} files copied to Train, {test_samples_cnt} to test')\n",
    "\n",
    "def annotations_files_from_folder(root):\n",
    "    annotations_file = pd.DataFrame()\n",
    "    for path, subdirs, files in os.walk(root):\n",
    "        for name in files:\n",
    "            file_path=os.path.join(path, name)\n",
    "            dest_path = os.path.join(root, name)\n",
    "            if 'benign' in name:\n",
    "                annotations_file=annotations_file.append([[name,0]])\n",
    "            elif 'normal' in name:\n",
    "                annotations_file=annotations_file.append([[name,1]])\n",
    "            elif 'malignant' in name:\n",
    "                annotations_file=annotations_file.append([[name,2]])\n",
    "            shutil.copyfile(file_path, dest_path)\n",
    "    annotations_file_path=root + '/annotations_file.csv'\n",
    "    annotations_file.reset_index(drop=True, inplace=True)\n",
    "    annotations_file.to_csv(annotations_file_path,index=False)\n",
    "    print('annotations file created at: {}'.format(annotations_file_path))\n",
    "    return annotations_file,annotations_file_path"
   ]
  },
  {
   "cell_type": "code",
   "execution_count": 58,
   "id": "6cf55ba8-9850-4d9c-8483-83c0bacf729a",
   "metadata": {},
   "outputs": [],
   "source": [
    "def create_dir(path):\n",
    "    isExist=os.path.isdir(path)\n",
    "    print(path)\n",
    "    print('Folder exist = {}'.format(isExist))\n",
    "    if not isExist:\n",
    "      # Create a new directory because it does not exist \n",
    "      os.makedirs(path)\n",
    "    return path"
   ]
  },
  {
   "cell_type": "code",
   "execution_count": 76,
   "id": "bbe75082-0b2a-4195-bfdd-8dbac8263054",
   "metadata": {
    "tags": []
   },
   "outputs": [
    {
     "name": "stdout",
     "output_type": "stream",
     "text": [
      "/Users/drado/GitCode/Portfolio/ResnetUltrasoundClassification/dataset/Dataset_BUSI_with_GT/normal\n",
      "Folder exist = True\n",
      "/Users/drado/GitCode/Portfolio/ResnetUltrasoundClassification/dataset/Dataset_BUSI_with_GT/benign\n",
      "Folder exist = True\n",
      "/Users/drado/GitCode/Portfolio/ResnetUltrasoundClassification/dataset/Dataset_BUSI_with_GT/malignant\n",
      "Folder exist = True\n",
      "/Users/drado/GitCode/Portfolio/ResnetUltrasoundClassification/dataset/masks/normal\n",
      "Folder exist = True\n",
      "/Users/drado/GitCode/Portfolio/ResnetUltrasoundClassification/dataset/masks/benign\n",
      "Folder exist = True\n",
      "/Users/drado/GitCode/Portfolio/ResnetUltrasoundClassification/dataset/masks/malignant\n",
      "Folder exist = True\n",
      "/Users/drado/GitCode/Portfolio/ResnetUltrasoundClassification/dataset/\n",
      "Folder exist = True\n",
      "/Users/drado/GitCode/Portfolio/ResnetUltrasoundClassification/dataset/train\n",
      "Folder exist = True\n",
      "/Users/drado/GitCode/Portfolio/ResnetUltrasoundClassification/dataset/test\n",
      "Folder exist = True\n",
      "/Users/drado/GitCode/Portfolio/ResnetUltrasoundClassification/dataset/train/normal\n",
      "Folder exist = True\n",
      "/Users/drado/GitCode/Portfolio/ResnetUltrasoundClassification/dataset/train/benign\n",
      "Folder exist = True\n",
      "/Users/drado/GitCode/Portfolio/ResnetUltrasoundClassification/dataset/train/malignant\n",
      "Folder exist = True\n",
      "/Users/drado/GitCode/Portfolio/ResnetUltrasoundClassification/dataset/test/normal\n",
      "Folder exist = True\n",
      "/Users/drado/GitCode/Portfolio/ResnetUltrasoundClassification/dataset/test/benign\n",
      "Folder exist = True\n",
      "/Users/drado/GitCode/Portfolio/ResnetUltrasoundClassification/dataset/test/malignant\n",
      "Folder exist = True\n"
     ]
    },
    {
     "data": {
      "text/plain": [
       "'/Users/drado/GitCode/Portfolio/ResnetUltrasoundClassification/dataset/test/malignant'"
      ]
     },
     "execution_count": 76,
     "metadata": {},
     "output_type": "execute_result"
    }
   ],
   "source": [
    "#Define paths:\n",
    "normal_source_dir = create_dir(\"{}/dataset/Dataset_BUSI_with_GT/normal\".format(main_path))\n",
    "benign_source_dir = create_dir(\"{}/dataset/Dataset_BUSI_with_GT/benign\".format(main_path))\n",
    "malignant_source_dir = create_dir(\"{}/dataset/Dataset_BUSI_with_GT/malignant\".format(main_path))\n",
    "\n",
    "normal_mask_dest_dir = create_dir(\"{}/dataset/masks/normal\".format(main_path))\n",
    "benign_mask_dest_dir = create_dir(\"{}/dataset/masks/benign\".format(main_path))\n",
    "malignant_mask_dest_dir = create_dir(\"{}/dataset/masks/malignant\".format(main_path))\n",
    "\n",
    "dest_dir = create_dir(\"{}/dataset/\".format(main_path))\n",
    "train_dataset_path=create_dir(os.path.join(dest_dir,'train'))\n",
    "test_dataset_path=create_dir(os.path.join(dest_dir,'test'))                         \n",
    "\n",
    "create_dir(\"{}/dataset/train/normal\".format(main_path))\n",
    "create_dir(\"{}/dataset/train/benign\".format(main_path))\n",
    "create_dir(\"{}/dataset/train/malignant\".format(main_path))\n",
    "\n",
    "create_dir(\"{}/dataset/test/normal\".format(main_path))\n",
    "create_dir(\"{}/dataset/test/benign\".format(main_path))\n",
    "create_dir(\"{}/dataset/test/malignant\".format(main_path))"
   ]
  },
  {
   "cell_type": "code",
   "execution_count": 28,
   "id": "7bdaadff-f92a-4c3a-84a9-3941bbbed061",
   "metadata": {
    "tags": []
   },
   "outputs": [],
   "source": [
    "#Split masks from ultrasound images\n",
    "substr='mask'\n",
    "move_files_by_str(normal_source_dir,normal_mask_dest_dir,substr)\n",
    "move_files_by_str(benign_source_dir,benign_mask_dest_dir,substr)\n",
    "move_files_by_str(malignant_source_dir,malignant_mask_dest_dir,substr)"
   ]
  },
  {
   "cell_type": "code",
   "execution_count": 29,
   "id": "0d54f74f-a7f8-418a-a7b4-96b8d43c89ee",
   "metadata": {},
   "outputs": [
    {
     "name": "stdout",
     "output_type": "stream",
     "text": [
      "133\n",
      "437\n",
      "210\n",
      "minimum samples in one class: 133\n"
     ]
    }
   ],
   "source": [
    "#Find minimum number of images per class\n",
    "dirs=[normal_source_dir,benign_source_dir,malignant_source_dir]\n",
    "find_min=np.inf\n",
    "for dir in dirs:\n",
    "    num_files=count_files_in_dir(dir)\n",
    "    print(num_files)\n",
    "    if num_files < find_min:\n",
    "        find_min=num_files\n",
    "print('minimum samples in one class: {}'.format(find_min))"
   ]
  },
  {
   "cell_type": "code",
   "execution_count": 62,
   "id": "3f032574-7fbf-4f03-b76f-30f2215230bf",
   "metadata": {
    "tags": []
   },
   "outputs": [
    {
     "name": "stdout",
     "output_type": "stream",
     "text": [
      "106 of label normal files copied to Train, 26 to test\n",
      "106 of label benign files copied to Train, 330 to test\n",
      "106 of label malignant files copied to Train, 103 to test\n"
     ]
    }
   ],
   "source": [
    "#Split dataset to train and test\n",
    "move_files_by_percentage(normal_source_dir,dest_dir,0.8,find_min)\n",
    "move_files_by_percentage(benign_source_dir,dest_dir,0.8,find_min)\n",
    "move_files_by_percentage(malignant_source_dir,dest_dir,0.8,find_min)"
   ]
  },
  {
   "cell_type": "code",
   "execution_count": 63,
   "id": "a6d0429b-ac20-424a-84aa-bf15dedc1292",
   "metadata": {
    "tags": []
   },
   "outputs": [
    {
     "name": "stdout",
     "output_type": "stream",
     "text": [
      "annotations file created at: /Users/drado/GitCode/Portfolio/ResnetUltrasoundClassification/dataset/train/annotations_file.csv\n",
      "annotations file created at: /Users/drado/GitCode/Portfolio/ResnetUltrasoundClassification/dataset/test/annotations_file.csv\n"
     ]
    }
   ],
   "source": [
    "#Create annotations csv file for train\n",
    "train_annotations_file, train_annotations_file_path=annotations_files_from_folder(train_dataset_path)\n",
    "\n",
    "#Create annotations csv file for test\n",
    "test_annotations_file, test_annotations_file_path=annotations_files_from_folder(test_dataset_path)"
   ]
  },
  {
   "cell_type": "code",
   "execution_count": 64,
   "id": "f5be7885-d84a-4c3f-ae75-4629242a883a",
   "metadata": {},
   "outputs": [
    {
     "name": "stdout",
     "output_type": "stream",
     "text": [
      "dataset/\n",
      "    test/\n",
      "        malignant/\n",
      "        benign/\n",
      "        normal/\n",
      "    Dataset_BUSI_with_GT/\n",
      "        malignant/\n",
      "        benign/\n",
      "        normal/\n",
      "    train/\n",
      "        malignant/\n",
      "        benign/\n",
      "        normal/\n",
      "    masks/\n",
      "        malignant/\n",
      "        benign/\n",
      "        normal/\n"
     ]
    }
   ],
   "source": [
    "#Print dataset directory after some preprocess\n",
    "dataset_path=main_path+'/dataset'\n",
    "print_dir_hir(dataset_path)"
   ]
  },
  {
   "cell_type": "code",
   "execution_count": 65,
   "id": "2a5cde70-97cb-42cd-aa21-4ac6d2afaec4",
   "metadata": {},
   "outputs": [
    {
     "name": "stdout",
     "output_type": "stream",
     "text": [
      "cpu\n"
     ]
    }
   ],
   "source": [
    "device = torch.device(\"cuda:0\" if torch.cuda.is_available() else \"cpu\")\n",
    "print(device)"
   ]
  },
  {
   "cell_type": "code",
   "execution_count": 287,
   "id": "ac2a9532-e178-444d-96e0-7013cb6772eb",
   "metadata": {},
   "outputs": [],
   "source": [
    "#Create dataset class (I've downloaded the dataset from kaggle not from torchvision)\n",
    "class CustomImageDataset(Dataset):\n",
    "    def __init__(self, annotations_file, img_dir, transform=None, target_transform=None):\n",
    "        self.img_labels = pd.read_csv(annotations_file)\n",
    "        self.img_dir = img_dir\n",
    "        self.transform = transform\n",
    "        self.target_transform = target_transform\n",
    "\n",
    "    def __len__(self):\n",
    "        return len(self.img_labels)\n",
    "\n",
    "    def __getitem__(self, idx):\n",
    "        img_path = os.path.join(self.img_dir, self.img_labels.iloc[idx, 0])\n",
    "        image = Image.open(img_path)\n",
    "        label = self.img_labels.iloc[idx, 1]\n",
    "        if self.transform:\n",
    "            image = self.transform(image)\n",
    "        if self.target_transform:\n",
    "            label = self.target_transform(label)\n",
    "        return image, label"
   ]
  },
  {
   "cell_type": "code",
   "execution_count": 290,
   "id": "df846e51-f330-4e6c-9d76-c07be7762f9f",
   "metadata": {},
   "outputs": [],
   "source": [
    "#Define transform\n",
    "preprocess = transforms.Compose([\n",
    "    #transforms.CenterCrop(224),\n",
    "    transforms.ToTensor(),\n",
    "    transforms.Normalize(mean=[0.485, 0.456, 0.406], std=[0.229, 0.224, 0.225]),\n",
    "    torchvision.transforms.RandomHorizontalFlip(),\n",
    "    torchvision.transforms.RandomVerticalFlip(),\n",
    "    transforms.Resize((224,224)),\n",
    "    #torchvision.transforms.RandomRotation(8, resample=PIL.Image.BILINEAR),\n",
    "    #torchvision.transforms.ColorJitter(hue=.05, saturation=.05),\n",
    "\n",
    "])\n",
    "\n",
    "#Define model parameters\n",
    "batch_size=10"
   ]
  },
  {
   "cell_type": "markdown",
   "id": "44f83fcf-c2b1-4613-a528-bca7cce6036b",
   "metadata": {},
   "source": [
    "### Model - ResNet18 pretrained"
   ]
  },
  {
   "cell_type": "code",
   "execution_count": 291,
   "id": "36e395fa-688b-42ae-b8d6-52cc18d2ee48",
   "metadata": {},
   "outputs": [],
   "source": [
    "classes = ('benign', 'normal', 'malignant')"
   ]
  },
  {
   "cell_type": "code",
   "execution_count": 292,
   "id": "7b11fc7c-4bde-4c4e-9fde-191f57ad82b1",
   "metadata": {},
   "outputs": [],
   "source": [
    "#Load train dataset\n",
    "train_data = CustomImageDataset(train_annotations_file_path,train_dataset_path,preprocess)\n",
    "##train_dataloader = DataLoader(train_data, batch_size=batch_size,shuffle=True)"
   ]
  },
  {
   "cell_type": "code",
   "execution_count": 293,
   "id": "62b2878a-7678-4ec0-8fc5-183f62ccfc40",
   "metadata": {},
   "outputs": [],
   "source": [
    "#Training-validate split\n",
    "from torch.utils.data import DataLoader, random_split\n",
    "num_train=train_data.__len__()\n",
    "tra_val_ratio=0.85\n",
    "train,validation=random_split(train_data,[int(num_train*tra_val_ratio),num_train-int(num_train*tra_val_ratio)])"
   ]
  },
  {
   "cell_type": "code",
   "execution_count": 294,
   "id": "41711c6f-f401-4633-b85e-b1923a215499",
   "metadata": {},
   "outputs": [],
   "source": [
    "train_dataloader = DataLoader(train, batch_size=batch_size,shuffle=True)\n",
    "validation_dataloader = DataLoader(validation, batch_size=batch_size,shuffle=True)"
   ]
  },
  {
   "cell_type": "code",
   "execution_count": 295,
   "id": "62b9e71f-f540-4a04-ae6e-7c780f8635c6",
   "metadata": {},
   "outputs": [],
   "source": [
    "# functions to show an image\n",
    "def imshow(img):\n",
    "    img = img / 2 + 0.5     # unnormalize\n",
    "    npimg = img.numpy()\n",
    "    plt.figure(figsize=[15, 15])\n",
    "    plt.imshow(np.transpose(npimg, (1, 2, 0)))\n",
    "    plt.show()\n",
    "\n",
    "def show_dataset(dataset, n=6):\n",
    "    img = np.vstack((np.hstack((np.asarray(dataset[i][0]) for _ in range(n)))for i in range(len(dataset))))\n",
    "    plt.imshow(img)\n",
    "    plt.axis('off')"
   ]
  },
  {
   "cell_type": "code",
   "execution_count": 296,
   "id": "f4b9a73c-e911-42d8-bfd7-49d44db70e1b",
   "metadata": {
    "tags": []
   },
   "outputs": [
    {
     "name": "stderr",
     "output_type": "stream",
     "text": [
      "Clipping input data to the valid range for imshow with RGB data ([0..1] for floats or [0..255] for integers).\n"
     ]
    },
    {
     "data": {
      "image/png": "[encoded data removed]",
      "text/plain": [
       "<Figure size 1080x1080 with 1 Axes>"
      ]
     },
     "metadata": {
      "needs_background": "light"
     },
     "output_type": "display_data"
    },
    {
     "name": "stdout",
     "output_type": "stream",
     "text": [
      "GroundTruth:  malignant malignant malignant malignant malignant\n",
      "Shape of image is torch.Size([3, 224, 224])\n",
      "Amount of Images in Train Dataset is 272\n",
      "Amount of Images in Validation Dataset is 49\n"
     ]
    }
   ],
   "source": [
    "#Show train images and their label\n",
    "num_images_to_show=5\n",
    "train_dataloader_to_show = DataLoader(train_data, batch_size=num_images_to_show,shuffle=False)\n",
    "dataiter = iter(train_dataloader_to_show)\n",
    "images, labels = dataiter.next()\n",
    "imshow(torchvision.utils.make_grid(images[0:num_images_to_show]))\n",
    "print('GroundTruth: ', ' '.join(f'{classes[labels[j]]:5s}' for j in range(num_images_to_show)))\n",
    "print('Shape of image is {}'.format(images[0].shape)) \n",
    "print('Amount of Images in Train Dataset is {}'.format(train_dataloader.sampler.num_samples))\n",
    "print('Amount of Images in Validation Dataset is {}'.format(validation_dataloader.sampler.num_samples))"
   ]
  },
  {
   "cell_type": "code",
   "execution_count": 300,
   "id": "20da6dad-06a0-4a65-a86d-7a374996450e",
   "metadata": {},
   "outputs": [],
   "source": [
    "#Load ResNet18\n",
    "model = torchvision.models.resnet18(pretrained=True)"
   ]
  },
  {
   "cell_type": "code",
   "execution_count": 301,
   "id": "c4c6c213-7b86-4260-99f4-61a1db4375a2",
   "metadata": {
    "tags": []
   },
   "outputs": [],
   "source": [
    "#Define optimizer, loss function and max epochs\n",
    "optimizer = torch.optim.Adam(model.parameters(),lr=0.01)\n",
    "criterion = torch.nn.CrossEntropyLoss()\n",
    "max_epochs = 500"
   ]
  },
  {
   "cell_type": "code",
   "execution_count": 307,
   "id": "7898d30f-85df-48d5-94d0-180ae30d9c6e",
   "metadata": {
    "tags": []
   },
   "outputs": [
    {
     "name": "stderr",
     "output_type": "stream",
     "text": [
      "  0%|                                         | 1/500 [00:17<2:28:52, 17.90s/it]"
     ]
    },
    {
     "name": "stdout",
     "output_type": "stream",
     "text": [
      "Epoch 1 \t\t Training Loss: 3.105455700840269 \t\t Validation Loss: 79.11671295166016\n"
     ]
    },
    {
     "name": "stderr",
     "output_type": "stream",
     "text": [
      "  0%|▏                                        | 2/500 [00:37<2:35:32, 18.74s/it]"
     ]
    },
    {
     "name": "stdout",
     "output_type": "stream",
     "text": [
      "Epoch 2 \t\t Training Loss: 10.670563670141357 \t\t Validation Loss: 1.1083356618881226\n"
     ]
    },
    {
     "name": "stderr",
     "output_type": "stream",
     "text": [
      "  1%|▏                                        | 3/500 [00:54<2:29:46, 18.08s/it]"
     ]
    },
    {
     "name": "stdout",
     "output_type": "stream",
     "text": [
      "Epoch 3 \t\t Training Loss: 1.2764584911721093 \t\t Validation Loss: 1.4126907587051392\n"
     ]
    },
    {
     "name": "stderr",
     "output_type": "stream",
     "text": [
      "  1%|▎                                        | 4/500 [01:11<2:26:53, 17.77s/it]"
     ]
    },
    {
     "name": "stdout",
     "output_type": "stream",
     "text": [
      "Epoch 4 \t\t Training Loss: 1.1915877205984933 \t\t Validation Loss: 1.0799069285392762\n"
     ]
    },
    {
     "name": "stderr",
     "output_type": "stream",
     "text": [
      "  1%|▍                                        | 5/500 [01:29<2:25:30, 17.64s/it]"
     ]
    },
    {
     "name": "stdout",
     "output_type": "stream",
     "text": [
      "Epoch 5 \t\t Training Loss: 1.1626502669283323 \t\t Validation Loss: 1.7194462776184083\n"
     ]
    },
    {
     "name": "stderr",
     "output_type": "stream",
     "text": [
      "  1%|▍                                        | 6/500 [01:48<2:29:03, 18.10s/it]"
     ]
    },
    {
     "name": "stdout",
     "output_type": "stream",
     "text": [
      "Epoch 6 \t\t Training Loss: 1.2440187356301717 \t\t Validation Loss: 1.0940871953964233\n"
     ]
    },
    {
     "name": "stderr",
     "output_type": "stream",
     "text": [
      "  1%|▌                                        | 7/500 [02:16<2:56:26, 21.47s/it]"
     ]
    },
    {
     "name": "stdout",
     "output_type": "stream",
     "text": [
      "Epoch 7 \t\t Training Loss: 1.14856852378164 \t\t Validation Loss: 1.0779207706451417\n"
     ]
    },
    {
     "name": "stderr",
     "output_type": "stream",
     "text": [
      "  2%|▋                                        | 8/500 [02:35<2:49:44, 20.70s/it]"
     ]
    },
    {
     "name": "stdout",
     "output_type": "stream",
     "text": [
      "Epoch 8 \t\t Training Loss: 1.1527631602116994 \t\t Validation Loss: 1.1746554613113402\n"
     ]
    },
    {
     "name": "stderr",
     "output_type": "stream",
     "text": [
      "  2%|▋                                        | 9/500 [02:54<2:44:28, 20.10s/it]"
     ]
    },
    {
     "name": "stdout",
     "output_type": "stream",
     "text": [
      "Epoch 9 \t\t Training Loss: 1.1730385507856096 \t\t Validation Loss: 1.1186463594436646\n"
     ]
    },
    {
     "name": "stderr",
     "output_type": "stream",
     "text": [
      "  2%|▊                                       | 10/500 [03:12<2:38:33, 19.41s/it]"
     ]
    },
    {
     "name": "stdout",
     "output_type": "stream",
     "text": [
      "Epoch 10 \t\t Training Loss: 1.163415857723781 \t\t Validation Loss: 1.3183899164199828\n"
     ]
    },
    {
     "name": "stderr",
     "output_type": "stream",
     "text": [
      "  2%|▉                                       | 11/500 [03:29<2:32:58, 18.77s/it]"
     ]
    },
    {
     "name": "stdout",
     "output_type": "stream",
     "text": [
      "Epoch 11 \t\t Training Loss: 1.167907259293965 \t\t Validation Loss: 1.160506296157837\n"
     ]
    },
    {
     "name": "stderr",
     "output_type": "stream",
     "text": [
      "  2%|▉                                       | 12/500 [03:47<2:29:19, 18.36s/it]"
     ]
    },
    {
     "name": "stdout",
     "output_type": "stream",
     "text": [
      "Epoch 12 \t\t Training Loss: 1.140632574047361 \t\t Validation Loss: 1.1947983264923097\n"
     ]
    },
    {
     "name": "stderr",
     "output_type": "stream",
     "text": [
      "  3%|█                                       | 13/500 [04:04<2:26:38, 18.07s/it]"
     ]
    },
    {
     "name": "stdout",
     "output_type": "stream",
     "text": [
      "Epoch 13 \t\t Training Loss: 1.1447485791785377 \t\t Validation Loss: 1.2561786651611329\n"
     ]
    },
    {
     "name": "stderr",
     "output_type": "stream",
     "text": [
      "  3%|█                                       | 14/500 [04:23<2:28:13, 18.30s/it]"
     ]
    },
    {
     "name": "stdout",
     "output_type": "stream",
     "text": [
      "Epoch 14 \t\t Training Loss: 1.1200025635106223 \t\t Validation Loss: 1.2752153635025025\n"
     ]
    },
    {
     "name": "stderr",
     "output_type": "stream",
     "text": [
      "  3%|█▏                                      | 15/500 [04:40<2:25:56, 18.05s/it]"
     ]
    },
    {
     "name": "stdout",
     "output_type": "stream",
     "text": [
      "Epoch 15 \t\t Training Loss: 1.1303447357245855 \t\t Validation Loss: 1.188960075378418\n"
     ]
    },
    {
     "name": "stderr",
     "output_type": "stream",
     "text": [
      "  3%|█▎                                      | 16/500 [04:58<2:24:37, 17.93s/it]"
     ]
    },
    {
     "name": "stdout",
     "output_type": "stream",
     "text": [
      "Epoch 16 \t\t Training Loss: 1.156327179500035 \t\t Validation Loss: 1.149455189704895\n"
     ]
    },
    {
     "name": "stderr",
     "output_type": "stream",
     "text": [
      "  3%|█▎                                      | 17/500 [05:15<2:23:03, 17.77s/it]"
     ]
    },
    {
     "name": "stdout",
     "output_type": "stream",
     "text": [
      "Epoch 17 \t\t Training Loss: 1.1186201061521257 \t\t Validation Loss: 1.126424789428711\n"
     ]
    },
    {
     "name": "stderr",
     "output_type": "stream",
     "text": [
      "  4%|█▍                                      | 18/500 [05:34<2:25:37, 18.13s/it]"
     ]
    },
    {
     "name": "stdout",
     "output_type": "stream",
     "text": [
      "Epoch 18 \t\t Training Loss: 1.1058164473090852 \t\t Validation Loss: 1.1727936267852783\n"
     ]
    },
    {
     "name": "stderr",
     "output_type": "stream",
     "text": [
      "  4%|█▌                                      | 19/500 [05:55<2:32:27, 19.02s/it]"
     ]
    },
    {
     "name": "stdout",
     "output_type": "stream",
     "text": [
      "Epoch 19 \t\t Training Loss: 1.128932876246316 \t\t Validation Loss: 1.120346736907959\n"
     ]
    },
    {
     "name": "stderr",
     "output_type": "stream",
     "text": [
      "  4%|█▌                                      | 20/500 [06:14<2:31:14, 18.90s/it]"
     ]
    },
    {
     "name": "stdout",
     "output_type": "stream",
     "text": [
      "Epoch 20 \t\t Training Loss: 1.1132822675364358 \t\t Validation Loss: 1.147556209564209\n"
     ]
    },
    {
     "name": "stderr",
     "output_type": "stream",
     "text": [
      "  4%|█▋                                      | 21/500 [06:33<2:29:55, 18.78s/it]"
     ]
    },
    {
     "name": "stdout",
     "output_type": "stream",
     "text": [
      "Epoch 21 \t\t Training Loss: 1.1416499657290322 \t\t Validation Loss: 1.1573921203613282\n"
     ]
    },
    {
     "name": "stderr",
     "output_type": "stream",
     "text": [
      "  4%|█▊                                      | 22/500 [06:51<2:29:21, 18.75s/it]"
     ]
    },
    {
     "name": "stdout",
     "output_type": "stream",
     "text": [
      "Epoch 22 \t\t Training Loss: 1.1486037799290247 \t\t Validation Loss: 1.2183356285095215\n"
     ]
    },
    {
     "name": "stderr",
     "output_type": "stream",
     "text": [
      "  5%|█▊                                      | 23/500 [07:10<2:28:56, 18.74s/it]"
     ]
    },
    {
     "name": "stdout",
     "output_type": "stream",
     "text": [
      "Epoch 23 \t\t Training Loss: 1.131619815315519 \t\t Validation Loss: 1.1389500379562378\n"
     ]
    },
    {
     "name": "stderr",
     "output_type": "stream",
     "text": [
      "  5%|█▉                                      | 24/500 [07:27<2:24:37, 18.23s/it]"
     ]
    },
    {
     "name": "stdout",
     "output_type": "stream",
     "text": [
      "Epoch 24 \t\t Training Loss: 1.1332560735089439 \t\t Validation Loss: 1.2601502418518067\n"
     ]
    },
    {
     "name": "stderr",
     "output_type": "stream",
     "text": [
      "  5%|██                                      | 25/500 [07:44<2:22:16, 17.97s/it]"
     ]
    },
    {
     "name": "stdout",
     "output_type": "stream",
     "text": [
      "Epoch 25 \t\t Training Loss: 1.1306131311825343 \t\t Validation Loss: 1.1442452669143677\n"
     ]
    },
    {
     "name": "stderr",
     "output_type": "stream",
     "text": [
      "  5%|██                                      | 26/500 [08:02<2:20:12, 17.75s/it]"
     ]
    },
    {
     "name": "stdout",
     "output_type": "stream",
     "text": [
      "Epoch 26 \t\t Training Loss: 1.1341268292495184 \t\t Validation Loss: 1.1168559432029723\n"
     ]
    },
    {
     "name": "stderr",
     "output_type": "stream",
     "text": [
      "  5%|██▏                                     | 27/500 [08:19<2:19:09, 17.65s/it]"
     ]
    },
    {
     "name": "stdout",
     "output_type": "stream",
     "text": [
      "Epoch 27 \t\t Training Loss: 1.1030484735965729 \t\t Validation Loss: 1.0976089239120483\n"
     ]
    },
    {
     "name": "stderr",
     "output_type": "stream",
     "text": [
      "  6%|██▏                                     | 28/500 [08:37<2:19:27, 17.73s/it]"
     ]
    },
    {
     "name": "stdout",
     "output_type": "stream",
     "text": [
      "Epoch 28 \t\t Training Loss: 1.1202318455491747 \t\t Validation Loss: 1.0775068759918214\n"
     ]
    },
    {
     "name": "stderr",
     "output_type": "stream",
     "text": [
      "  6%|██▎                                     | 29/500 [08:55<2:20:21, 17.88s/it]"
     ]
    },
    {
     "name": "stdout",
     "output_type": "stream",
     "text": [
      "Epoch 29 \t\t Training Loss: 1.1163669994899206 \t\t Validation Loss: 1.1070173501968383\n"
     ]
    },
    {
     "name": "stderr",
     "output_type": "stream",
     "text": [
      "  6%|██▍                                     | 30/500 [09:15<2:25:00, 18.51s/it]"
     ]
    },
    {
     "name": "stdout",
     "output_type": "stream",
     "text": [
      "Epoch 30 \t\t Training Loss: 1.115128395812852 \t\t Validation Loss: 1.0781840562820435\n"
     ]
    },
    {
     "name": "stderr",
     "output_type": "stream",
     "text": [
      "  6%|██▍                                     | 31/500 [09:38<2:34:53, 19.81s/it]"
     ]
    },
    {
     "name": "stdout",
     "output_type": "stream",
     "text": [
      "Epoch 31 \t\t Training Loss: 1.1056930082184928 \t\t Validation Loss: 1.1211065769195556\n"
     ]
    },
    {
     "name": "stderr",
     "output_type": "stream",
     "text": [
      "  6%|██▌                                     | 32/500 [09:59<2:36:41, 20.09s/it]"
     ]
    },
    {
     "name": "stdout",
     "output_type": "stream",
     "text": [
      "Epoch 32 \t\t Training Loss: 1.116914872612272 \t\t Validation Loss: 1.1696790218353272\n"
     ]
    },
    {
     "name": "stderr",
     "output_type": "stream",
     "text": [
      "  7%|██▋                                     | 33/500 [10:20<2:38:46, 20.40s/it]"
     ]
    },
    {
     "name": "stdout",
     "output_type": "stream",
     "text": [
      "Epoch 33 \t\t Training Loss: 1.1267755031585693 \t\t Validation Loss: 1.1433955192565919\n"
     ]
    },
    {
     "name": "stderr",
     "output_type": "stream",
     "text": [
      "  7%|██▋                                     | 34/500 [10:40<2:38:22, 20.39s/it]"
     ]
    },
    {
     "name": "stdout",
     "output_type": "stream",
     "text": [
      "Epoch 34 \t\t Training Loss: 1.1209260608468736 \t\t Validation Loss: 1.1287750720977783\n"
     ]
    },
    {
     "name": "stderr",
     "output_type": "stream",
     "text": [
      "  7%|██▊                                     | 35/500 [10:58<2:32:33, 19.69s/it]"
     ]
    },
    {
     "name": "stdout",
     "output_type": "stream",
     "text": [
      "Epoch 35 \t\t Training Loss: 1.1101211266858237 \t\t Validation Loss: 1.0953497171401978\n"
     ]
    },
    {
     "name": "stderr",
     "output_type": "stream",
     "text": [
      "  7%|██▉                                     | 36/500 [11:16<2:28:53, 19.25s/it]"
     ]
    },
    {
     "name": "stdout",
     "output_type": "stream",
     "text": [
      "Epoch 36 \t\t Training Loss: 1.1120763761656625 \t\t Validation Loss: 1.179149079322815\n"
     ]
    },
    {
     "name": "stderr",
     "output_type": "stream",
     "text": [
      "  7%|██▉                                     | 37/500 [11:35<2:25:54, 18.91s/it]"
     ]
    },
    {
     "name": "stdout",
     "output_type": "stream",
     "text": [
      "Epoch 37 \t\t Training Loss: 1.1089565370764052 \t\t Validation Loss: 1.1083287715911865\n"
     ]
    },
    {
     "name": "stderr",
     "output_type": "stream",
     "text": [
      "  8%|███                                     | 38/500 [11:53<2:23:33, 18.64s/it]"
     ]
    },
    {
     "name": "stdout",
     "output_type": "stream",
     "text": [
      "Epoch 38 \t\t Training Loss: 1.1198057660034724 \t\t Validation Loss: 1.1277159690856933\n"
     ]
    },
    {
     "name": "stderr",
     "output_type": "stream",
     "text": [
      "  8%|███                                     | 39/500 [12:14<2:29:53, 19.51s/it]"
     ]
    },
    {
     "name": "stdout",
     "output_type": "stream",
     "text": [
      "Epoch 39 \t\t Training Loss: 1.1127302667924337 \t\t Validation Loss: 1.1165602922439575\n"
     ]
    },
    {
     "name": "stderr",
     "output_type": "stream",
     "text": [
      "  8%|███▏                                    | 40/500 [12:33<2:29:10, 19.46s/it]"
     ]
    },
    {
     "name": "stdout",
     "output_type": "stream",
     "text": [
      "Epoch 40 \t\t Training Loss: 1.1066304871014185 \t\t Validation Loss: 1.1396252393722535\n"
     ]
    },
    {
     "name": "stderr",
     "output_type": "stream",
     "text": [
      "  8%|███▎                                    | 41/500 [12:51<2:25:09, 18.97s/it]"
     ]
    },
    {
     "name": "stdout",
     "output_type": "stream",
     "text": [
      "Epoch 41 \t\t Training Loss: 1.1115195155143738 \t\t Validation Loss: 1.0894806861877442\n"
     ]
    },
    {
     "name": "stderr",
     "output_type": "stream",
     "text": [
      "  8%|███▎                                    | 42/500 [13:09<2:21:18, 18.51s/it]"
     ]
    },
    {
     "name": "stdout",
     "output_type": "stream",
     "text": [
      "Epoch 42 \t\t Training Loss: 1.1117865528379167 \t\t Validation Loss: 1.1017892360687256\n"
     ]
    },
    {
     "name": "stderr",
     "output_type": "stream",
     "text": [
      "  9%|███▍                                    | 43/500 [13:27<2:20:43, 18.48s/it]"
     ]
    },
    {
     "name": "stdout",
     "output_type": "stream",
     "text": [
      "Epoch 43 \t\t Training Loss: 1.1138677043574197 \t\t Validation Loss: 1.1552696704864502\n"
     ]
    },
    {
     "name": "stderr",
     "output_type": "stream",
     "text": [
      "  9%|███▌                                    | 44/500 [13:47<2:24:16, 18.98s/it]"
     ]
    },
    {
     "name": "stdout",
     "output_type": "stream",
     "text": [
      "Epoch 44 \t\t Training Loss: 1.1139595764023917 \t\t Validation Loss: 1.1204987287521362\n"
     ]
    },
    {
     "name": "stderr",
     "output_type": "stream",
     "text": [
      "  9%|███▌                                    | 45/500 [14:06<2:24:08, 19.01s/it]"
     ]
    },
    {
     "name": "stdout",
     "output_type": "stream",
     "text": [
      "Epoch 45 \t\t Training Loss: 1.1080795313630785 \t\t Validation Loss: 1.0938714265823364\n"
     ]
    },
    {
     "name": "stderr",
     "output_type": "stream",
     "text": [
      "  9%|███▋                                    | 46/500 [14:25<2:23:44, 19.00s/it]"
     ]
    },
    {
     "name": "stdout",
     "output_type": "stream",
     "text": [
      "Epoch 46 \t\t Training Loss: 1.100201427936554 \t\t Validation Loss: 1.1241604328155517\n"
     ]
    },
    {
     "name": "stderr",
     "output_type": "stream",
     "text": [
      "  9%|███▊                                    | 47/500 [14:45<2:24:26, 19.13s/it]"
     ]
    },
    {
     "name": "stdout",
     "output_type": "stream",
     "text": [
      "Epoch 47 \t\t Training Loss: 1.1033361767019545 \t\t Validation Loss: 1.1226174592971803\n"
     ]
    },
    {
     "name": "stderr",
     "output_type": "stream",
     "text": [
      " 10%|███▊                                    | 48/500 [15:04<2:23:54, 19.10s/it]"
     ]
    },
    {
     "name": "stdout",
     "output_type": "stream",
     "text": [
      "Epoch 48 \t\t Training Loss: 1.104532954948289 \t\t Validation Loss: 1.0916619777679444\n"
     ]
    },
    {
     "name": "stderr",
     "output_type": "stream",
     "text": [
      " 10%|███▉                                    | 49/500 [15:23<2:23:16, 19.06s/it]"
     ]
    },
    {
     "name": "stdout",
     "output_type": "stream",
     "text": [
      "Epoch 49 \t\t Training Loss: 1.1149238688605172 \t\t Validation Loss: 1.140674614906311\n"
     ]
    },
    {
     "name": "stderr",
     "output_type": "stream",
     "text": [
      " 10%|████                                    | 50/500 [15:42<2:23:08, 19.09s/it]"
     ]
    },
    {
     "name": "stdout",
     "output_type": "stream",
     "text": [
      "Epoch 50 \t\t Training Loss: 1.1262598037719727 \t\t Validation Loss: 1.1393875122070312\n"
     ]
    },
    {
     "name": "stderr",
     "output_type": "stream",
     "text": [
      " 10%|████                                    | 51/500 [16:01<2:22:50, 19.09s/it]"
     ]
    },
    {
     "name": "stdout",
     "output_type": "stream",
     "text": [
      "Epoch 51 \t\t Training Loss: 1.1149879395961761 \t\t Validation Loss: 1.1399332523345946\n"
     ]
    },
    {
     "name": "stderr",
     "output_type": "stream",
     "text": [
      " 10%|████▏                                   | 52/500 [16:20<2:22:20, 19.06s/it]"
     ]
    },
    {
     "name": "stdout",
     "output_type": "stream",
     "text": [
      "Epoch 52 \t\t Training Loss: 1.1144567004271917 \t\t Validation Loss: 1.1091625928878783\n"
     ]
    },
    {
     "name": "stderr",
     "output_type": "stream",
     "text": [
      " 11%|████▏                                   | 53/500 [16:39<2:22:05, 19.07s/it]"
     ]
    },
    {
     "name": "stdout",
     "output_type": "stream",
     "text": [
      "Epoch 53 \t\t Training Loss: 1.1153541037014552 \t\t Validation Loss: 1.094492530822754\n"
     ]
    },
    {
     "name": "stderr",
     "output_type": "stream",
     "text": [
      " 11%|████▎                                   | 54/500 [16:59<2:23:12, 19.27s/it]"
     ]
    },
    {
     "name": "stdout",
     "output_type": "stream",
     "text": [
      "Epoch 54 \t\t Training Loss: 1.1052383056708746 \t\t Validation Loss: 1.0911594867706298\n"
     ]
    },
    {
     "name": "stderr",
     "output_type": "stream",
     "text": [
      " 11%|████▍                                   | 55/500 [17:21<2:29:10, 20.11s/it]"
     ]
    },
    {
     "name": "stdout",
     "output_type": "stream",
     "text": [
      "Epoch 55 \t\t Training Loss: 1.1271152368613653 \t\t Validation Loss: 1.0940824270248413\n"
     ]
    },
    {
     "name": "stderr",
     "output_type": "stream",
     "text": [
      " 11%|████▍                                   | 56/500 [17:45<2:36:41, 21.17s/it]"
     ]
    },
    {
     "name": "stdout",
     "output_type": "stream",
     "text": [
      "Epoch 56 \t\t Training Loss: 1.1243166838373457 \t\t Validation Loss: 1.1354348421096803\n"
     ]
    },
    {
     "name": "stderr",
     "output_type": "stream",
     "text": [
      " 11%|████▌                                   | 57/500 [18:06<2:37:00, 21.27s/it]"
     ]
    },
    {
     "name": "stdout",
     "output_type": "stream",
     "text": [
      "Epoch 57 \t\t Training Loss: 1.1139036118984222 \t\t Validation Loss: 1.0968509197235108\n"
     ]
    },
    {
     "name": "stderr",
     "output_type": "stream",
     "text": [
      " 12%|████▋                                   | 58/500 [18:27<2:35:14, 21.07s/it]"
     ]
    },
    {
     "name": "stdout",
     "output_type": "stream",
     "text": [
      "Epoch 58 \t\t Training Loss: 1.101437074797494 \t\t Validation Loss: 1.1131712198257446\n"
     ]
    },
    {
     "name": "stderr",
     "output_type": "stream",
     "text": [
      " 12%|████▋                                   | 59/500 [18:47<2:33:59, 20.95s/it]"
     ]
    },
    {
     "name": "stdout",
     "output_type": "stream",
     "text": [
      "Epoch 59 \t\t Training Loss: 1.1084790996142797 \t\t Validation Loss: 1.1185251712799071\n"
     ]
    },
    {
     "name": "stderr",
     "output_type": "stream",
     "text": [
      " 12%|████▊                                   | 60/500 [19:08<2:33:36, 20.95s/it]"
     ]
    },
    {
     "name": "stdout",
     "output_type": "stream",
     "text": [
      "Epoch 60 \t\t Training Loss: 1.1014309482915061 \t\t Validation Loss: 1.0987677812576293\n"
     ]
    },
    {
     "name": "stderr",
     "output_type": "stream",
     "text": [
      " 12%|████▉                                   | 61/500 [19:28<2:30:55, 20.63s/it]"
     ]
    },
    {
     "name": "stdout",
     "output_type": "stream",
     "text": [
      "Epoch 61 \t\t Training Loss: 1.1031078823975153 \t\t Validation Loss: 1.087338137626648\n"
     ]
    },
    {
     "name": "stderr",
     "output_type": "stream",
     "text": [
      " 12%|████▉                                   | 62/500 [19:48<2:29:02, 20.42s/it]"
     ]
    },
    {
     "name": "stdout",
     "output_type": "stream",
     "text": [
      "Epoch 62 \t\t Training Loss: 1.1133068587098802 \t\t Validation Loss: 1.1263817071914672\n"
     ]
    },
    {
     "name": "stderr",
     "output_type": "stream",
     "text": [
      " 13%|█████                                   | 63/500 [20:07<2:25:28, 19.97s/it]"
     ]
    },
    {
     "name": "stdout",
     "output_type": "stream",
     "text": [
      "Epoch 63 \t\t Training Loss: 1.114667786019189 \t\t Validation Loss: 1.119394874572754\n"
     ]
    },
    {
     "name": "stderr",
     "output_type": "stream",
     "text": [
      " 13%|█████                                   | 64/500 [20:29<2:30:27, 20.71s/it]"
     ]
    },
    {
     "name": "stdout",
     "output_type": "stream",
     "text": [
      "Epoch 64 \t\t Training Loss: 1.1073457854134696 \t\t Validation Loss: 1.125354814529419\n"
     ]
    },
    {
     "name": "stderr",
     "output_type": "stream",
     "text": [
      " 13%|█████▏                                  | 65/500 [20:52<2:34:41, 21.34s/it]"
     ]
    },
    {
     "name": "stdout",
     "output_type": "stream",
     "text": [
      "Epoch 65 \t\t Training Loss: 1.1089149245194025 \t\t Validation Loss: 1.1041762113571167\n"
     ]
    },
    {
     "name": "stderr",
     "output_type": "stream",
     "text": [
      " 13%|█████▎                                  | 66/500 [21:12<2:31:53, 21.00s/it]"
     ]
    },
    {
     "name": "stdout",
     "output_type": "stream",
     "text": [
      "Epoch 66 \t\t Training Loss: 1.11752045580319 \t\t Validation Loss: 1.1247399568557739\n"
     ]
    },
    {
     "name": "stderr",
     "output_type": "stream",
     "text": [
      " 13%|█████▎                                  | 67/500 [21:32<2:29:06, 20.66s/it]"
     ]
    },
    {
     "name": "stdout",
     "output_type": "stream",
     "text": [
      "Epoch 67 \t\t Training Loss: 1.1064821226256234 \t\t Validation Loss: 1.1089946746826171\n"
     ]
    },
    {
     "name": "stderr",
     "output_type": "stream",
     "text": [
      " 14%|█████▍                                  | 68/500 [21:52<2:27:38, 20.51s/it]"
     ]
    },
    {
     "name": "stdout",
     "output_type": "stream",
     "text": [
      "Epoch 68 \t\t Training Loss: 1.107339927128383 \t\t Validation Loss: 1.1251868963241578\n"
     ]
    },
    {
     "name": "stderr",
     "output_type": "stream",
     "text": [
      " 14%|█████▌                                  | 69/500 [22:13<2:26:45, 20.43s/it]"
     ]
    },
    {
     "name": "stdout",
     "output_type": "stream",
     "text": [
      "Epoch 69 \t\t Training Loss: 1.1036135128566198 \t\t Validation Loss: 1.1030227661132812\n"
     ]
    },
    {
     "name": "stderr",
     "output_type": "stream",
     "text": [
      " 14%|█████▌                                  | 70/500 [22:32<2:24:50, 20.21s/it]"
     ]
    },
    {
     "name": "stdout",
     "output_type": "stream",
     "text": [
      "Epoch 70 \t\t Training Loss: 1.1026818794863564 \t\t Validation Loss: 1.1226041555404662\n"
     ]
    },
    {
     "name": "stderr",
     "output_type": "stream",
     "text": [
      " 14%|█████▋                                  | 71/500 [22:53<2:25:57, 20.41s/it]"
     ]
    },
    {
     "name": "stdout",
     "output_type": "stream",
     "text": [
      "Epoch 71 \t\t Training Loss: 1.1075983090060098 \t\t Validation Loss: 1.126693034172058\n"
     ]
    },
    {
     "name": "stderr",
     "output_type": "stream",
     "text": [
      " 14%|█████▊                                  | 72/500 [23:15<2:28:28, 20.81s/it]"
     ]
    },
    {
     "name": "stdout",
     "output_type": "stream",
     "text": [
      "Epoch 72 \t\t Training Loss: 1.099476933479309 \t\t Validation Loss: 1.105352234840393\n"
     ]
    },
    {
     "name": "stderr",
     "output_type": "stream",
     "text": [
      " 15%|█████▊                                  | 73/500 [23:33<2:22:27, 20.02s/it]"
     ]
    },
    {
     "name": "stdout",
     "output_type": "stream",
     "text": [
      "Epoch 73 \t\t Training Loss: 1.1024664342403412 \t\t Validation Loss: 1.0880924224853517\n"
     ]
    },
    {
     "name": "stderr",
     "output_type": "stream",
     "text": [
      " 15%|█████▉                                  | 74/500 [23:51<2:18:26, 19.50s/it]"
     ]
    },
    {
     "name": "stdout",
     "output_type": "stream",
     "text": [
      "Epoch 74 \t\t Training Loss: 1.1080430107457298 \t\t Validation Loss: 1.110069489479065\n"
     ]
    },
    {
     "name": "stderr",
     "output_type": "stream",
     "text": [
      " 15%|██████                                  | 75/500 [24:10<2:15:44, 19.16s/it]"
     ]
    },
    {
     "name": "stdout",
     "output_type": "stream",
     "text": [
      "Epoch 75 \t\t Training Loss: 1.1073692866734095 \t\t Validation Loss: 1.1141019344329834\n"
     ]
    },
    {
     "name": "stderr",
     "output_type": "stream",
     "text": [
      " 15%|██████                                  | 76/500 [24:28<2:13:15, 18.86s/it]"
     ]
    },
    {
     "name": "stdout",
     "output_type": "stream",
     "text": [
      "Epoch 76 \t\t Training Loss: 1.102391357932772 \t\t Validation Loss: 1.0943026065826416\n"
     ]
    },
    {
     "name": "stderr",
     "output_type": "stream",
     "text": [
      " 15%|██████▏                                 | 77/500 [24:46<2:10:39, 18.53s/it]"
     ]
    },
    {
     "name": "stdout",
     "output_type": "stream",
     "text": [
      "Epoch 77 \t\t Training Loss: 1.108440101146698 \t\t Validation Loss: 1.1182642221450805\n"
     ]
    },
    {
     "name": "stderr",
     "output_type": "stream",
     "text": [
      " 16%|██████▏                                 | 78/500 [25:03<2:08:33, 18.28s/it]"
     ]
    },
    {
     "name": "stdout",
     "output_type": "stream",
     "text": [
      "Epoch 78 \t\t Training Loss: 1.100381578717913 \t\t Validation Loss: 1.0997291803359985\n"
     ]
    },
    {
     "name": "stderr",
     "output_type": "stream",
     "text": [
      " 16%|██████▎                                 | 79/500 [25:21<2:06:59, 18.10s/it]"
     ]
    },
    {
     "name": "stdout",
     "output_type": "stream",
     "text": [
      "Epoch 79 \t\t Training Loss: 1.1041482133524758 \t\t Validation Loss: 1.1052269220352173\n"
     ]
    },
    {
     "name": "stderr",
     "output_type": "stream",
     "text": [
      " 16%|██████▍                                 | 80/500 [25:40<2:07:38, 18.23s/it]"
     ]
    },
    {
     "name": "stdout",
     "output_type": "stream",
     "text": [
      "Epoch 80 \t\t Training Loss: 1.1076323347432273 \t\t Validation Loss: 1.0933258771896361\n"
     ]
    },
    {
     "name": "stderr",
     "output_type": "stream",
     "text": [
      " 16%|██████▍                                 | 81/500 [25:58<2:06:57, 18.18s/it]"
     ]
    },
    {
     "name": "stdout",
     "output_type": "stream",
     "text": [
      "Epoch 81 \t\t Training Loss: 1.1049495424543108 \t\t Validation Loss: 1.101665163040161\n"
     ]
    },
    {
     "name": "stderr",
     "output_type": "stream",
     "text": [
      " 16%|██████▌                                 | 82/500 [26:17<2:07:51, 18.35s/it]"
     ]
    },
    {
     "name": "stdout",
     "output_type": "stream",
     "text": [
      "Epoch 82 \t\t Training Loss: 1.1026555384908403 \t\t Validation Loss: 1.1088796615600587\n"
     ]
    },
    {
     "name": "stderr",
     "output_type": "stream",
     "text": [
      " 17%|██████▋                                 | 83/500 [26:35<2:06:56, 18.27s/it]"
     ]
    },
    {
     "name": "stdout",
     "output_type": "stream",
     "text": [
      "Epoch 83 \t\t Training Loss: 1.1047256972108568 \t\t Validation Loss: 1.112800621986389\n"
     ]
    },
    {
     "name": "stderr",
     "output_type": "stream",
     "text": [
      " 17%|██████▋                                 | 84/500 [26:52<2:05:11, 18.06s/it]"
     ]
    },
    {
     "name": "stdout",
     "output_type": "stream",
     "text": [
      "Epoch 84 \t\t Training Loss: 1.0998466334172659 \t\t Validation Loss: 1.1258580923080443\n"
     ]
    },
    {
     "name": "stderr",
     "output_type": "stream",
     "text": [
      " 17%|██████▊                                 | 85/500 [27:10<2:04:20, 17.98s/it]"
     ]
    },
    {
     "name": "stdout",
     "output_type": "stream",
     "text": [
      "Epoch 85 \t\t Training Loss: 1.1014839112758636 \t\t Validation Loss: 1.1046724796295166\n"
     ]
    },
    {
     "name": "stderr",
     "output_type": "stream",
     "text": [
      " 17%|██████▉                                 | 86/500 [27:28<2:03:35, 17.91s/it]"
     ]
    },
    {
     "name": "stdout",
     "output_type": "stream",
     "text": [
      "Epoch 86 \t\t Training Loss: 1.1064263454505376 \t\t Validation Loss: 1.1087470293045043\n"
     ]
    },
    {
     "name": "stderr",
     "output_type": "stream",
     "text": [
      " 17%|██████▉                                 | 87/500 [27:45<2:02:51, 17.85s/it]"
     ]
    },
    {
     "name": "stdout",
     "output_type": "stream",
     "text": [
      "Epoch 87 \t\t Training Loss: 1.1040394178458623 \t\t Validation Loss: 1.1061071395874023\n"
     ]
    },
    {
     "name": "stderr",
     "output_type": "stream",
     "text": [
      " 18%|███████                                 | 88/500 [28:03<2:01:57, 17.76s/it]"
     ]
    },
    {
     "name": "stdout",
     "output_type": "stream",
     "text": [
      "Epoch 88 \t\t Training Loss: 1.1014641310487474 \t\t Validation Loss: 1.1140218496322631\n"
     ]
    },
    {
     "name": "stderr",
     "output_type": "stream",
     "text": [
      " 18%|███████                                 | 89/500 [28:21<2:01:58, 17.81s/it]"
     ]
    },
    {
     "name": "stdout",
     "output_type": "stream",
     "text": [
      "Epoch 89 \t\t Training Loss: 1.101029864379338 \t\t Validation Loss: 1.1152473449707032\n"
     ]
    },
    {
     "name": "stderr",
     "output_type": "stream",
     "text": [
      " 18%|███████▏                                | 90/500 [28:39<2:01:44, 17.81s/it]"
     ]
    },
    {
     "name": "stdout",
     "output_type": "stream",
     "text": [
      "Epoch 90 \t\t Training Loss: 1.103195458650589 \t\t Validation Loss: 1.10583393573761\n"
     ]
    },
    {
     "name": "stderr",
     "output_type": "stream",
     "text": [
      " 18%|███████▎                                | 91/500 [28:57<2:01:50, 17.87s/it]"
     ]
    },
    {
     "name": "stdout",
     "output_type": "stream",
     "text": [
      "Epoch 91 \t\t Training Loss: 1.101093637091773 \t\t Validation Loss: 1.103069829940796\n"
     ]
    },
    {
     "name": "stderr",
     "output_type": "stream",
     "text": [
      " 18%|███████▎                                | 92/500 [29:14<2:00:23, 17.70s/it]"
     ]
    },
    {
     "name": "stdout",
     "output_type": "stream",
     "text": [
      "Epoch 92 \t\t Training Loss: 1.10347238608769 \t\t Validation Loss: 1.103670358657837\n"
     ]
    },
    {
     "name": "stderr",
     "output_type": "stream",
     "text": [
      " 19%|███████▍                                | 93/500 [29:32<2:00:35, 17.78s/it]"
     ]
    },
    {
     "name": "stdout",
     "output_type": "stream",
     "text": [
      "Epoch 93 \t\t Training Loss: 1.0992004573345184 \t\t Validation Loss: 1.117908787727356\n"
     ]
    },
    {
     "name": "stderr",
     "output_type": "stream",
     "text": [
      " 19%|███████▌                                | 94/500 [29:50<1:59:52, 17.71s/it]"
     ]
    },
    {
     "name": "stdout",
     "output_type": "stream",
     "text": [
      "Epoch 94 \t\t Training Loss: 1.1004840092999595 \t\t Validation Loss: 1.1041496038436889\n"
     ]
    },
    {
     "name": "stderr",
     "output_type": "stream",
     "text": [
      " 19%|███████▌                                | 95/500 [30:07<1:59:19, 17.68s/it]"
     ]
    },
    {
     "name": "stdout",
     "output_type": "stream",
     "text": [
      "Epoch 95 \t\t Training Loss: 1.109877416065761 \t\t Validation Loss: 1.1052563667297364\n"
     ]
    },
    {
     "name": "stderr",
     "output_type": "stream",
     "text": [
      " 19%|███████▋                                | 96/500 [30:25<1:58:40, 17.62s/it]"
     ]
    },
    {
     "name": "stdout",
     "output_type": "stream",
     "text": [
      "Epoch 96 \t\t Training Loss: 1.105334541627339 \t\t Validation Loss: 1.1033647060394287\n"
     ]
    },
    {
     "name": "stderr",
     "output_type": "stream",
     "text": [
      " 19%|███████▊                                | 97/500 [30:43<1:59:28, 17.79s/it]"
     ]
    },
    {
     "name": "stdout",
     "output_type": "stream",
     "text": [
      "Epoch 97 \t\t Training Loss: 1.1066100682531084 \t\t Validation Loss: 1.1345728158950805\n"
     ]
    },
    {
     "name": "stderr",
     "output_type": "stream",
     "text": [
      " 20%|███████▊                                | 98/500 [31:01<1:59:19, 17.81s/it]"
     ]
    },
    {
     "name": "stdout",
     "output_type": "stream",
     "text": [
      "Epoch 98 \t\t Training Loss: 1.1072323407445634 \t\t Validation Loss: 1.0981297969818116\n"
     ]
    },
    {
     "name": "stderr",
     "output_type": "stream",
     "text": [
      " 20%|███████▉                                | 99/500 [31:18<1:58:49, 17.78s/it]"
     ]
    },
    {
     "name": "stdout",
     "output_type": "stream",
     "text": [
      "Epoch 99 \t\t Training Loss: 1.1058537023408073 \t\t Validation Loss: 1.108725905418396\n"
     ]
    },
    {
     "name": "stderr",
     "output_type": "stream",
     "text": [
      " 20%|███████▊                               | 100/500 [31:37<1:59:44, 17.96s/it]"
     ]
    },
    {
     "name": "stdout",
     "output_type": "stream",
     "text": [
      "Epoch 100 \t\t Training Loss: 1.10639865057809 \t\t Validation Loss: 1.0989753246307372\n"
     ]
    },
    {
     "name": "stderr",
     "output_type": "stream",
     "text": [
      " 20%|███████▉                               | 101/500 [31:55<1:59:00, 17.90s/it]"
     ]
    },
    {
     "name": "stdout",
     "output_type": "stream",
     "text": [
      "Epoch 101 \t\t Training Loss: 1.099489484514509 \t\t Validation Loss: 1.1143298625946045\n"
     ]
    },
    {
     "name": "stderr",
     "output_type": "stream",
     "text": [
      " 20%|███████▉                               | 102/500 [32:12<1:58:14, 17.83s/it]"
     ]
    },
    {
     "name": "stdout",
     "output_type": "stream",
     "text": [
      "Epoch 102 \t\t Training Loss: 1.1044798578534807 \t\t Validation Loss: 1.1087711811065675\n"
     ]
    },
    {
     "name": "stderr",
     "output_type": "stream",
     "text": [
      " 21%|████████                               | 103/500 [32:30<1:58:03, 17.84s/it]"
     ]
    },
    {
     "name": "stdout",
     "output_type": "stream",
     "text": [
      "Epoch 103 \t\t Training Loss: 1.1071469911507197 \t\t Validation Loss: 1.104590654373169\n"
     ]
    },
    {
     "name": "stderr",
     "output_type": "stream",
     "text": [
      " 21%|████████                               | 104/500 [32:48<1:58:34, 17.97s/it]"
     ]
    },
    {
     "name": "stdout",
     "output_type": "stream",
     "text": [
      "Epoch 104 \t\t Training Loss: 1.1052174781050002 \t\t Validation Loss: 1.1224209308624267\n"
     ]
    },
    {
     "name": "stderr",
     "output_type": "stream",
     "text": [
      " 21%|████████▏                              | 105/500 [33:06<1:58:02, 17.93s/it]"
     ]
    },
    {
     "name": "stdout",
     "output_type": "stream",
     "text": [
      "Epoch 105 \t\t Training Loss: 1.1035079998629433 \t\t Validation Loss: 1.1204737901687623\n"
     ]
    },
    {
     "name": "stderr",
     "output_type": "stream",
     "text": [
      " 21%|████████▎                              | 106/500 [33:24<1:57:25, 17.88s/it]"
     ]
    },
    {
     "name": "stdout",
     "output_type": "stream",
     "text": [
      "Epoch 106 \t\t Training Loss: 1.1013206498963493 \t\t Validation Loss: 1.1146483182907105\n"
     ]
    },
    {
     "name": "stderr",
     "output_type": "stream",
     "text": [
      " 21%|████████▎                              | 107/500 [33:42<1:56:33, 17.80s/it]"
     ]
    },
    {
     "name": "stdout",
     "output_type": "stream",
     "text": [
      "Epoch 107 \t\t Training Loss: 1.1047283623899733 \t\t Validation Loss: 1.1163552761077882\n"
     ]
    },
    {
     "name": "stderr",
     "output_type": "stream",
     "text": [
      " 22%|████████▍                              | 108/500 [33:59<1:56:18, 17.80s/it]"
     ]
    },
    {
     "name": "stdout",
     "output_type": "stream",
     "text": [
      "Epoch 108 \t\t Training Loss: 1.1015930558953966 \t\t Validation Loss: 1.0993097305297852\n"
     ]
    },
    {
     "name": "stderr",
     "output_type": "stream",
     "text": [
      " 22%|████████▌                              | 109/500 [34:18<1:56:45, 17.92s/it]"
     ]
    },
    {
     "name": "stdout",
     "output_type": "stream",
     "text": [
      "Epoch 109 \t\t Training Loss: 1.1023057230881281 \t\t Validation Loss: 1.1055243968963624\n"
     ]
    },
    {
     "name": "stderr",
     "output_type": "stream",
     "text": [
      " 22%|████████▌                              | 110/500 [34:36<1:56:42, 17.95s/it]"
     ]
    },
    {
     "name": "stdout",
     "output_type": "stream",
     "text": [
      "Epoch 110 \t\t Training Loss: 1.100856410605567 \t\t Validation Loss: 1.1101323127746583\n"
     ]
    },
    {
     "name": "stderr",
     "output_type": "stream",
     "text": [
      " 22%|████████▋                              | 111/500 [34:53<1:56:16, 17.93s/it]"
     ]
    },
    {
     "name": "stdout",
     "output_type": "stream",
     "text": [
      "Epoch 111 \t\t Training Loss: 1.1023832602160317 \t\t Validation Loss: 1.105532670021057\n"
     ]
    },
    {
     "name": "stderr",
     "output_type": "stream",
     "text": [
      " 22%|████████▋                              | 112/500 [35:11<1:55:19, 17.83s/it]"
     ]
    },
    {
     "name": "stdout",
     "output_type": "stream",
     "text": [
      "Epoch 112 \t\t Training Loss: 1.0994699043887002 \t\t Validation Loss: 1.1095375537872314\n"
     ]
    },
    {
     "name": "stderr",
     "output_type": "stream",
     "text": [
      " 23%|████████▊                              | 113/500 [35:29<1:55:19, 17.88s/it]"
     ]
    },
    {
     "name": "stdout",
     "output_type": "stream",
     "text": [
      "Epoch 113 \t\t Training Loss: 1.108510890177318 \t\t Validation Loss: 1.1093009471893311\n"
     ]
    },
    {
     "name": "stderr",
     "output_type": "stream",
     "text": [
      " 23%|████████▉                              | 114/500 [35:47<1:55:28, 17.95s/it]"
     ]
    },
    {
     "name": "stdout",
     "output_type": "stream",
     "text": [
      "Epoch 114 \t\t Training Loss: 1.1037202349730901 \t\t Validation Loss: 1.1126543283462524\n"
     ]
    },
    {
     "name": "stderr",
     "output_type": "stream",
     "text": [
      " 23%|████████▉                              | 115/500 [36:05<1:54:55, 17.91s/it]"
     ]
    },
    {
     "name": "stdout",
     "output_type": "stream",
     "text": [
      "Epoch 115 \t\t Training Loss: 1.1007119842938013 \t\t Validation Loss: 1.1052427530288695\n"
     ]
    },
    {
     "name": "stderr",
     "output_type": "stream",
     "text": [
      " 23%|█████████                              | 116/500 [36:23<1:54:33, 17.90s/it]"
     ]
    },
    {
     "name": "stdout",
     "output_type": "stream",
     "text": [
      "Epoch 116 \t\t Training Loss: 1.1025554920945848 \t\t Validation Loss: 1.106262993812561\n"
     ]
    },
    {
     "name": "stderr",
     "output_type": "stream",
     "text": [
      " 23%|█████████▏                             | 117/500 [36:41<1:54:01, 17.86s/it]"
     ]
    },
    {
     "name": "stdout",
     "output_type": "stream",
     "text": [
      "Epoch 117 \t\t Training Loss: 1.0977209976741247 \t\t Validation Loss: 1.12285418510437\n"
     ]
    },
    {
     "name": "stderr",
     "output_type": "stream",
     "text": [
      " 24%|█████████▏                             | 118/500 [36:58<1:53:22, 17.81s/it]"
     ]
    },
    {
     "name": "stdout",
     "output_type": "stream",
     "text": [
      "Epoch 118 \t\t Training Loss: 1.1008016339370184 \t\t Validation Loss: 1.1124409675598144\n"
     ]
    },
    {
     "name": "stderr",
     "output_type": "stream",
     "text": [
      " 24%|█████████▎                             | 119/500 [37:17<1:55:02, 18.12s/it]"
     ]
    },
    {
     "name": "stdout",
     "output_type": "stream",
     "text": [
      "Epoch 119 \t\t Training Loss: 1.1020070825304304 \t\t Validation Loss: 1.1154151439666748\n"
     ]
    },
    {
     "name": "stderr",
     "output_type": "stream",
     "text": [
      " 24%|█████████▎                             | 120/500 [37:35<1:55:03, 18.17s/it]"
     ]
    },
    {
     "name": "stdout",
     "output_type": "stream",
     "text": [
      "Epoch 120 \t\t Training Loss: 1.103224081652505 \t\t Validation Loss: 1.1228826284408568\n"
     ]
    },
    {
     "name": "stderr",
     "output_type": "stream",
     "text": [
      " 24%|█████████▍                             | 121/500 [37:53<1:53:54, 18.03s/it]"
     ]
    },
    {
     "name": "stdout",
     "output_type": "stream",
     "text": [
      "Epoch 121 \t\t Training Loss: 1.1026344299316406 \t\t Validation Loss: 1.1063358783721924\n"
     ]
    },
    {
     "name": "stderr",
     "output_type": "stream",
     "text": [
      " 24%|█████████▌                             | 122/500 [38:11<1:53:24, 18.00s/it]"
     ]
    },
    {
     "name": "stdout",
     "output_type": "stream",
     "text": [
      "Epoch 122 \t\t Training Loss: 1.1022374502250127 \t\t Validation Loss: 1.1146072149276733\n"
     ]
    },
    {
     "name": "stderr",
     "output_type": "stream",
     "text": [
      " 25%|█████████▌                             | 123/500 [38:29<1:52:30, 17.91s/it]"
     ]
    },
    {
     "name": "stdout",
     "output_type": "stream",
     "text": [
      "Epoch 123 \t\t Training Loss: 1.1035167830330985 \t\t Validation Loss: 1.118534016609192\n"
     ]
    },
    {
     "name": "stderr",
     "output_type": "stream",
     "text": [
      " 25%|█████████▋                             | 124/500 [38:48<1:53:54, 18.18s/it]"
     ]
    },
    {
     "name": "stdout",
     "output_type": "stream",
     "text": [
      "Epoch 124 \t\t Training Loss: 1.1016945838928223 \t\t Validation Loss: 1.1024304628372192\n"
     ]
    },
    {
     "name": "stderr",
     "output_type": "stream",
     "text": [
      " 25%|█████████▊                             | 125/500 [39:06<1:53:18, 18.13s/it]"
     ]
    },
    {
     "name": "stdout",
     "output_type": "stream",
     "text": [
      "Epoch 125 \t\t Training Loss: 1.1014366064752852 \t\t Validation Loss: 1.1024285316467286\n"
     ]
    },
    {
     "name": "stderr",
     "output_type": "stream",
     "text": [
      " 25%|█████████▊                             | 126/500 [39:23<1:52:32, 18.06s/it]"
     ]
    },
    {
     "name": "stdout",
     "output_type": "stream",
     "text": [
      "Epoch 126 \t\t Training Loss: 1.1018221931798118 \t\t Validation Loss: 1.1017385244369506\n"
     ]
    },
    {
     "name": "stderr",
     "output_type": "stream",
     "text": [
      " 25%|█████████▉                             | 127/500 [39:41<1:51:41, 17.97s/it]"
     ]
    },
    {
     "name": "stdout",
     "output_type": "stream",
     "text": [
      "Epoch 127 \t\t Training Loss: 1.1006900582994734 \t\t Validation Loss: 1.1076670646667481\n"
     ]
    },
    {
     "name": "stderr",
     "output_type": "stream",
     "text": [
      " 26%|█████████▉                             | 128/500 [39:59<1:51:22, 17.96s/it]"
     ]
    },
    {
     "name": "stdout",
     "output_type": "stream",
     "text": [
      "Epoch 128 \t\t Training Loss: 1.1022047996520996 \t\t Validation Loss: 1.1161286115646363\n"
     ]
    },
    {
     "name": "stderr",
     "output_type": "stream",
     "text": [
      " 26%|██████████                             | 129/500 [40:17<1:50:05, 17.80s/it]"
     ]
    },
    {
     "name": "stdout",
     "output_type": "stream",
     "text": [
      "Epoch 129 \t\t Training Loss: 1.1008694512503487 \t\t Validation Loss: 1.1099757909774781\n"
     ]
    },
    {
     "name": "stderr",
     "output_type": "stream",
     "text": [
      " 26%|██████████▏                            | 130/500 [40:35<1:50:18, 17.89s/it]"
     ]
    },
    {
     "name": "stdout",
     "output_type": "stream",
     "text": [
      "Epoch 130 \t\t Training Loss: 1.103877386876515 \t\t Validation Loss: 1.107648777961731\n"
     ]
    },
    {
     "name": "stderr",
     "output_type": "stream",
     "text": [
      " 26%|██████████▏                            | 131/500 [40:53<1:50:29, 17.97s/it]"
     ]
    },
    {
     "name": "stdout",
     "output_type": "stream",
     "text": [
      "Epoch 131 \t\t Training Loss: 1.0997399730341775 \t\t Validation Loss: 1.1192171096801757\n"
     ]
    },
    {
     "name": "stderr",
     "output_type": "stream",
     "text": [
      " 26%|██████████▎                            | 132/500 [41:11<1:49:49, 17.91s/it]"
     ]
    },
    {
     "name": "stdout",
     "output_type": "stream",
     "text": [
      "Epoch 132 \t\t Training Loss: 1.1008691106523787 \t\t Validation Loss: 1.1060431480407715\n"
     ]
    },
    {
     "name": "stderr",
     "output_type": "stream",
     "text": [
      " 27%|██████████▎                            | 133/500 [41:28<1:48:44, 17.78s/it]"
     ]
    },
    {
     "name": "stdout",
     "output_type": "stream",
     "text": [
      "Epoch 133 \t\t Training Loss: 1.1014038366930825 \t\t Validation Loss: 1.1045764446258546\n"
     ]
    },
    {
     "name": "stderr",
     "output_type": "stream",
     "text": [
      " 27%|██████████▍                            | 134/500 [41:46<1:48:05, 17.72s/it]"
     ]
    },
    {
     "name": "stdout",
     "output_type": "stream",
     "text": [
      "Epoch 134 \t\t Training Loss: 1.1034703723021917 \t\t Validation Loss: 1.1176595449447633\n"
     ]
    },
    {
     "name": "stderr",
     "output_type": "stream",
     "text": [
      " 27%|██████████▌                            | 135/500 [42:03<1:47:48, 17.72s/it]"
     ]
    },
    {
     "name": "stdout",
     "output_type": "stream",
     "text": [
      "Epoch 135 \t\t Training Loss: 1.1029883325099945 \t\t Validation Loss: 1.1013250827789307\n"
     ]
    },
    {
     "name": "stderr",
     "output_type": "stream",
     "text": [
      " 27%|██████████▌                            | 136/500 [42:21<1:47:42, 17.75s/it]"
     ]
    },
    {
     "name": "stdout",
     "output_type": "stream",
     "text": [
      "Epoch 136 \t\t Training Loss: 1.1074020053659166 \t\t Validation Loss: 1.1074772357940674\n"
     ]
    },
    {
     "name": "stderr",
     "output_type": "stream",
     "text": [
      " 27%|██████████▋                            | 137/500 [42:39<1:47:44, 17.81s/it]"
     ]
    },
    {
     "name": "stdout",
     "output_type": "stream",
     "text": [
      "Epoch 137 \t\t Training Loss: 1.1052033177443914 \t\t Validation Loss: 1.107801127433777\n"
     ]
    },
    {
     "name": "stderr",
     "output_type": "stream",
     "text": [
      " 28%|██████████▊                            | 138/500 [42:57<1:47:49, 17.87s/it]"
     ]
    },
    {
     "name": "stdout",
     "output_type": "stream",
     "text": [
      "Epoch 138 \t\t Training Loss: 1.1022342656339918 \t\t Validation Loss: 1.1040735483169555\n"
     ]
    },
    {
     "name": "stderr",
     "output_type": "stream",
     "text": [
      " 28%|██████████▊                            | 139/500 [43:15<1:47:18, 17.83s/it]"
     ]
    },
    {
     "name": "stdout",
     "output_type": "stream",
     "text": [
      "Epoch 139 \t\t Training Loss: 1.1026162121977126 \t\t Validation Loss: 1.107217025756836\n"
     ]
    },
    {
     "name": "stderr",
     "output_type": "stream",
     "text": [
      " 28%|██████████▉                            | 140/500 [43:33<1:48:01, 18.00s/it]"
     ]
    },
    {
     "name": "stdout",
     "output_type": "stream",
     "text": [
      "Epoch 140 \t\t Training Loss: 1.1002403029373713 \t\t Validation Loss: 1.1038084030151367\n"
     ]
    },
    {
     "name": "stderr",
     "output_type": "stream",
     "text": [
      " 28%|██████████▉                            | 141/500 [43:52<1:48:38, 18.16s/it]"
     ]
    },
    {
     "name": "stdout",
     "output_type": "stream",
     "text": [
      "Epoch 141 \t\t Training Loss: 1.1008774978773934 \t\t Validation Loss: 1.1132001161575318\n"
     ]
    },
    {
     "name": "stderr",
     "output_type": "stream",
     "text": [
      " 28%|███████████                            | 142/500 [44:10<1:48:50, 18.24s/it]"
     ]
    },
    {
     "name": "stdout",
     "output_type": "stream",
     "text": [
      "Epoch 142 \t\t Training Loss: 1.1027821472712926 \t\t Validation Loss: 1.1136785984039306\n"
     ]
    },
    {
     "name": "stderr",
     "output_type": "stream",
     "text": [
      " 29%|███████████▏                           | 143/500 [44:28<1:47:26, 18.06s/it]"
     ]
    },
    {
     "name": "stdout",
     "output_type": "stream",
     "text": [
      "Epoch 143 \t\t Training Loss: 1.0975908466747828 \t\t Validation Loss: 1.1022826433181763\n"
     ]
    },
    {
     "name": "stderr",
     "output_type": "stream",
     "text": [
      " 29%|███████████▏                           | 144/500 [44:46<1:47:14, 18.08s/it]"
     ]
    },
    {
     "name": "stdout",
     "output_type": "stream",
     "text": [
      "Epoch 144 \t\t Training Loss: 1.1034768181187766 \t\t Validation Loss: 1.112095880508423\n"
     ]
    },
    {
     "name": "stderr",
     "output_type": "stream",
     "text": [
      " 29%|███████████▎                           | 145/500 [45:04<1:46:46, 18.05s/it]"
     ]
    },
    {
     "name": "stdout",
     "output_type": "stream",
     "text": [
      "Epoch 145 \t\t Training Loss: 1.105621623141425 \t\t Validation Loss: 1.103360915184021\n"
     ]
    },
    {
     "name": "stderr",
     "output_type": "stream",
     "text": [
      " 29%|███████████▍                           | 146/500 [45:22<1:45:49, 17.94s/it]"
     ]
    },
    {
     "name": "stdout",
     "output_type": "stream",
     "text": [
      "Epoch 146 \t\t Training Loss: 1.1016263280596053 \t\t Validation Loss: 1.1171285152435302\n"
     ]
    },
    {
     "name": "stderr",
     "output_type": "stream",
     "text": [
      " 29%|███████████▍                           | 147/500 [45:41<1:47:15, 18.23s/it]"
     ]
    },
    {
     "name": "stdout",
     "output_type": "stream",
     "text": [
      "Epoch 147 \t\t Training Loss: 1.1031136427606856 \t\t Validation Loss: 1.1146848678588868\n"
     ]
    },
    {
     "name": "stderr",
     "output_type": "stream",
     "text": [
      " 30%|███████████▌                           | 148/500 [45:59<1:46:33, 18.16s/it]"
     ]
    },
    {
     "name": "stdout",
     "output_type": "stream",
     "text": [
      "Epoch 148 \t\t Training Loss: 1.1017117713178908 \t\t Validation Loss: 1.1068565607070924\n"
     ]
    },
    {
     "name": "stderr",
     "output_type": "stream",
     "text": [
      " 30%|███████████▌                           | 149/500 [46:16<1:45:41, 18.07s/it]"
     ]
    },
    {
     "name": "stdout",
     "output_type": "stream",
     "text": [
      "Epoch 149 \t\t Training Loss: 1.1047089185033525 \t\t Validation Loss: 1.1006515502929688\n"
     ]
    },
    {
     "name": "stderr",
     "output_type": "stream",
     "text": [
      " 30%|███████████▋                           | 150/500 [46:34<1:45:04, 18.01s/it]"
     ]
    },
    {
     "name": "stdout",
     "output_type": "stream",
     "text": [
      "Epoch 150 \t\t Training Loss: 1.1023381778172083 \t\t Validation Loss: 1.1196308851242065\n"
     ]
    },
    {
     "name": "stderr",
     "output_type": "stream",
     "text": [
      " 30%|███████████▊                           | 151/500 [46:52<1:44:47, 18.02s/it]"
     ]
    },
    {
     "name": "stdout",
     "output_type": "stream",
     "text": [
      "Epoch 151 \t\t Training Loss: 1.1019683139664787 \t\t Validation Loss: 1.100488257408142\n"
     ]
    },
    {
     "name": "stderr",
     "output_type": "stream",
     "text": [
      " 30%|███████████▊                           | 152/500 [47:10<1:44:31, 18.02s/it]"
     ]
    },
    {
     "name": "stdout",
     "output_type": "stream",
     "text": [
      "Epoch 152 \t\t Training Loss: 1.1038419646876199 \t\t Validation Loss: 1.105002999305725\n"
     ]
    },
    {
     "name": "stderr",
     "output_type": "stream",
     "text": [
      " 31%|███████████▉                           | 153/500 [47:28<1:44:18, 18.04s/it]"
     ]
    },
    {
     "name": "stdout",
     "output_type": "stream",
     "text": [
      "Epoch 153 \t\t Training Loss: 1.1008557379245758 \t\t Validation Loss: 1.1105206727981567\n"
     ]
    },
    {
     "name": "stderr",
     "output_type": "stream",
     "text": [
      " 31%|████████████                           | 154/500 [47:46<1:43:27, 17.94s/it]"
     ]
    },
    {
     "name": "stdout",
     "output_type": "stream",
     "text": [
      "Epoch 154 \t\t Training Loss: 1.1026563686983926 \t\t Validation Loss: 1.1053958892822267\n"
     ]
    },
    {
     "name": "stderr",
     "output_type": "stream",
     "text": [
      " 31%|████████████                           | 155/500 [48:04<1:42:42, 17.86s/it]"
     ]
    },
    {
     "name": "stdout",
     "output_type": "stream",
     "text": [
      "Epoch 155 \t\t Training Loss: 1.1030452932630266 \t\t Validation Loss: 1.106502938270569\n"
     ]
    },
    {
     "name": "stderr",
     "output_type": "stream",
     "text": [
      " 31%|████████████▏                          | 156/500 [48:21<1:41:52, 17.77s/it]"
     ]
    },
    {
     "name": "stdout",
     "output_type": "stream",
     "text": [
      "Epoch 156 \t\t Training Loss: 1.098896141563143 \t\t Validation Loss: 1.113158106803894\n"
     ]
    },
    {
     "name": "stderr",
     "output_type": "stream",
     "text": [
      " 31%|████████████▏                          | 157/500 [48:40<1:42:28, 17.93s/it]"
     ]
    },
    {
     "name": "stdout",
     "output_type": "stream",
     "text": [
      "Epoch 157 \t\t Training Loss: 1.1018504457814353 \t\t Validation Loss: 1.1039278507232666\n"
     ]
    },
    {
     "name": "stderr",
     "output_type": "stream",
     "text": [
      " 32%|████████████▎                          | 158/500 [48:58<1:42:01, 17.90s/it]"
     ]
    },
    {
     "name": "stdout",
     "output_type": "stream",
     "text": [
      "Epoch 158 \t\t Training Loss: 1.1004533980573927 \t\t Validation Loss: 1.0982175588607788\n"
     ]
    },
    {
     "name": "stderr",
     "output_type": "stream",
     "text": [
      " 32%|████████████▍                          | 159/500 [49:15<1:41:49, 17.92s/it]"
     ]
    },
    {
     "name": "stdout",
     "output_type": "stream",
     "text": [
      "Epoch 159 \t\t Training Loss: 1.1037734704358237 \t\t Validation Loss: 1.108990979194641\n"
     ]
    },
    {
     "name": "stderr",
     "output_type": "stream",
     "text": [
      " 32%|████████████▍                          | 160/500 [49:33<1:41:13, 17.86s/it]"
     ]
    },
    {
     "name": "stdout",
     "output_type": "stream",
     "text": [
      "Epoch 160 \t\t Training Loss: 1.1000428199768066 \t\t Validation Loss: 1.1028586149215698\n"
     ]
    },
    {
     "name": "stderr",
     "output_type": "stream",
     "text": [
      " 32%|████████████▌                          | 161/500 [49:51<1:41:00, 17.88s/it]"
     ]
    },
    {
     "name": "stdout",
     "output_type": "stream",
     "text": [
      "Epoch 161 \t\t Training Loss: 1.1066461248057229 \t\t Validation Loss: 1.1122331380844117\n"
     ]
    },
    {
     "name": "stderr",
     "output_type": "stream",
     "text": [
      " 32%|████████████▋                          | 162/500 [50:09<1:40:30, 17.84s/it]"
     ]
    },
    {
     "name": "stdout",
     "output_type": "stream",
     "text": [
      "Epoch 162 \t\t Training Loss: 1.1044055308614458 \t\t Validation Loss: 1.1058926820755004\n"
     ]
    },
    {
     "name": "stderr",
     "output_type": "stream",
     "text": [
      " 33%|████████████▋                          | 163/500 [50:27<1:40:02, 17.81s/it]"
     ]
    },
    {
     "name": "stdout",
     "output_type": "stream",
     "text": [
      "Epoch 163 \t\t Training Loss: 1.1016603665692466 \t\t Validation Loss: 1.1080719709396363\n"
     ]
    },
    {
     "name": "stderr",
     "output_type": "stream",
     "text": [
      " 33%|████████████▊                          | 164/500 [50:45<1:40:31, 17.95s/it]"
     ]
    },
    {
     "name": "stdout",
     "output_type": "stream",
     "text": [
      "Epoch 164 \t\t Training Loss: 1.1015226670673914 \t\t Validation Loss: 1.1045049667358398\n"
     ]
    },
    {
     "name": "stderr",
     "output_type": "stream",
     "text": [
      " 33%|████████████▊                          | 165/500 [51:04<1:41:26, 18.17s/it]"
     ]
    },
    {
     "name": "stdout",
     "output_type": "stream",
     "text": [
      "Epoch 165 \t\t Training Loss: 1.0993496179580688 \t\t Validation Loss: 1.1119595050811768\n"
     ]
    },
    {
     "name": "stderr",
     "output_type": "stream",
     "text": [
      " 33%|████████████▉                          | 166/500 [51:21<1:40:23, 18.03s/it]"
     ]
    },
    {
     "name": "stdout",
     "output_type": "stream",
     "text": [
      "Epoch 166 \t\t Training Loss: 1.1073396461350578 \t\t Validation Loss: 1.1248226642608643\n"
     ]
    },
    {
     "name": "stderr",
     "output_type": "stream",
     "text": [
      " 33%|█████████████                          | 167/500 [51:39<1:39:17, 17.89s/it]"
     ]
    },
    {
     "name": "stdout",
     "output_type": "stream",
     "text": [
      "Epoch 167 \t\t Training Loss: 1.101167802299772 \t\t Validation Loss: 1.1062711000442504\n"
     ]
    },
    {
     "name": "stderr",
     "output_type": "stream",
     "text": [
      " 34%|█████████████                          | 168/500 [51:56<1:38:19, 17.77s/it]"
     ]
    },
    {
     "name": "stdout",
     "output_type": "stream",
     "text": [
      "Epoch 168 \t\t Training Loss: 1.108948596886226 \t\t Validation Loss: 1.1094706296920775\n"
     ]
    },
    {
     "name": "stderr",
     "output_type": "stream",
     "text": [
      " 34%|█████████████▏                         | 169/500 [52:15<1:39:29, 18.03s/it]"
     ]
    },
    {
     "name": "stdout",
     "output_type": "stream",
     "text": [
      "Epoch 169 \t\t Training Loss: 1.1016737605844225 \t\t Validation Loss: 1.1097016334533691\n"
     ]
    },
    {
     "name": "stderr",
     "output_type": "stream",
     "text": [
      " 34%|█████████████▎                         | 170/500 [52:32<1:38:10, 17.85s/it]"
     ]
    },
    {
     "name": "stdout",
     "output_type": "stream",
     "text": [
      "Epoch 170 \t\t Training Loss: 1.1017091529709953 \t\t Validation Loss: 1.109522247314453\n"
     ]
    },
    {
     "name": "stderr",
     "output_type": "stream",
     "text": [
      " 34%|█████████████▎                         | 171/500 [52:51<1:38:37, 17.99s/it]"
     ]
    },
    {
     "name": "stdout",
     "output_type": "stream",
     "text": [
      "Epoch 171 \t\t Training Loss: 1.1007080333573478 \t\t Validation Loss: 1.1076403856277466\n"
     ]
    },
    {
     "name": "stderr",
     "output_type": "stream",
     "text": [
      " 34%|█████████████▍                         | 172/500 [53:08<1:37:22, 17.81s/it]"
     ]
    },
    {
     "name": "stdout",
     "output_type": "stream",
     "text": [
      "Epoch 172 \t\t Training Loss: 1.1018857445035661 \t\t Validation Loss: 1.0979553937911988\n"
     ]
    },
    {
     "name": "stderr",
     "output_type": "stream",
     "text": [
      " 35%|█████████████▍                         | 173/500 [53:26<1:36:56, 17.79s/it]"
     ]
    },
    {
     "name": "stdout",
     "output_type": "stream",
     "text": [
      "Epoch 173 \t\t Training Loss: 1.1002632933003562 \t\t Validation Loss: 1.1130796670913696\n"
     ]
    },
    {
     "name": "stderr",
     "output_type": "stream",
     "text": [
      " 35%|█████████████▌                         | 174/500 [53:43<1:36:16, 17.72s/it]"
     ]
    },
    {
     "name": "stdout",
     "output_type": "stream",
     "text": [
      "Epoch 174 \t\t Training Loss: 1.1029778718948364 \t\t Validation Loss: 1.115422296524048\n"
     ]
    },
    {
     "name": "stderr",
     "output_type": "stream",
     "text": [
      " 35%|█████████████▋                         | 175/500 [54:01<1:36:12, 17.76s/it]"
     ]
    },
    {
     "name": "stdout",
     "output_type": "stream",
     "text": [
      "Epoch 175 \t\t Training Loss: 1.1017546313149589 \t\t Validation Loss: 1.1159106969833374\n"
     ]
    },
    {
     "name": "stderr",
     "output_type": "stream",
     "text": [
      " 35%|█████████████▋                         | 176/500 [54:19<1:35:25, 17.67s/it]"
     ]
    },
    {
     "name": "stdout",
     "output_type": "stream",
     "text": [
      "Epoch 176 \t\t Training Loss: 1.1006234799112593 \t\t Validation Loss: 1.1090111255645752\n"
     ]
    },
    {
     "name": "stderr",
     "output_type": "stream",
     "text": [
      " 35%|█████████████▊                         | 177/500 [54:36<1:35:06, 17.67s/it]"
     ]
    },
    {
     "name": "stdout",
     "output_type": "stream",
     "text": [
      "Epoch 177 \t\t Training Loss: 1.1013911536761694 \t\t Validation Loss: 1.1010079860687256\n"
     ]
    },
    {
     "name": "stderr",
     "output_type": "stream",
     "text": [
      " 36%|█████████████▉                         | 178/500 [54:54<1:34:31, 17.61s/it]"
     ]
    },
    {
     "name": "stdout",
     "output_type": "stream",
     "text": [
      "Epoch 178 \t\t Training Loss: 1.1007968144757407 \t\t Validation Loss: 1.1085077047348022\n"
     ]
    },
    {
     "name": "stderr",
     "output_type": "stream",
     "text": [
      " 36%|█████████████▉                         | 179/500 [55:12<1:34:38, 17.69s/it]"
     ]
    },
    {
     "name": "stdout",
     "output_type": "stream",
     "text": [
      "Epoch 179 \t\t Training Loss: 1.1029776207038335 \t\t Validation Loss: 1.109746551513672\n"
     ]
    },
    {
     "name": "stderr",
     "output_type": "stream",
     "text": [
      " 36%|██████████████                         | 180/500 [55:29<1:34:09, 17.66s/it]"
     ]
    },
    {
     "name": "stdout",
     "output_type": "stream",
     "text": [
      "Epoch 180 \t\t Training Loss: 1.0982823967933655 \t\t Validation Loss: 1.1085958242416383\n"
     ]
    },
    {
     "name": "stderr",
     "output_type": "stream",
     "text": [
      " 36%|██████████████                         | 181/500 [55:47<1:33:40, 17.62s/it]"
     ]
    },
    {
     "name": "stdout",
     "output_type": "stream",
     "text": [
      "Epoch 181 \t\t Training Loss: 1.0996604561805725 \t\t Validation Loss: 1.1097848176956178\n"
     ]
    },
    {
     "name": "stderr",
     "output_type": "stream",
     "text": [
      " 36%|██████████████▏                        | 182/500 [56:05<1:34:19, 17.80s/it]"
     ]
    },
    {
     "name": "stdout",
     "output_type": "stream",
     "text": [
      "Epoch 182 \t\t Training Loss: 1.0984717777797155 \t\t Validation Loss: 1.1084760427474976\n"
     ]
    },
    {
     "name": "stderr",
     "output_type": "stream",
     "text": [
      " 37%|██████████████▎                        | 183/500 [56:23<1:34:15, 17.84s/it]"
     ]
    },
    {
     "name": "stdout",
     "output_type": "stream",
     "text": [
      "Epoch 183 \t\t Training Loss: 1.0986731605870383 \t\t Validation Loss: 1.1175991773605347\n"
     ]
    },
    {
     "name": "stderr",
     "output_type": "stream",
     "text": [
      " 37%|██████████████▎                        | 184/500 [56:41<1:33:28, 17.75s/it]"
     ]
    },
    {
     "name": "stdout",
     "output_type": "stream",
     "text": [
      "Epoch 184 \t\t Training Loss: 1.1014867978436607 \t\t Validation Loss: 1.1187677145004273\n"
     ]
    },
    {
     "name": "stderr",
     "output_type": "stream",
     "text": [
      " 37%|██████████████▍                        | 185/500 [56:58<1:33:05, 17.73s/it]"
     ]
    },
    {
     "name": "stdout",
     "output_type": "stream",
     "text": [
      "Epoch 185 \t\t Training Loss: 1.100145114319665 \t\t Validation Loss: 1.1099924564361572\n"
     ]
    },
    {
     "name": "stderr",
     "output_type": "stream",
     "text": [
      " 37%|██████████████▌                        | 186/500 [57:16<1:33:25, 17.85s/it]"
     ]
    },
    {
     "name": "stdout",
     "output_type": "stream",
     "text": [
      "Epoch 186 \t\t Training Loss: 1.0995548580374037 \t\t Validation Loss: 1.1034725189208985\n"
     ]
    },
    {
     "name": "stderr",
     "output_type": "stream",
     "text": [
      " 37%|██████████████▌                        | 187/500 [57:35<1:34:12, 18.06s/it]"
     ]
    },
    {
     "name": "stdout",
     "output_type": "stream",
     "text": [
      "Epoch 187 \t\t Training Loss: 1.1005604139396123 \t\t Validation Loss: 1.1054560899734498\n"
     ]
    },
    {
     "name": "stderr",
     "output_type": "stream",
     "text": [
      " 38%|██████████████▋                        | 188/500 [57:52<1:33:04, 17.90s/it]"
     ]
    },
    {
     "name": "stdout",
     "output_type": "stream",
     "text": [
      "Epoch 188 \t\t Training Loss: 1.1003930738994054 \t\t Validation Loss: 1.109366226196289\n"
     ]
    },
    {
     "name": "stderr",
     "output_type": "stream",
     "text": [
      " 38%|██████████████▋                        | 189/500 [58:10<1:32:33, 17.86s/it]"
     ]
    },
    {
     "name": "stdout",
     "output_type": "stream",
     "text": [
      "Epoch 189 \t\t Training Loss: 1.1013419500419073 \t\t Validation Loss: 1.113959503173828\n"
     ]
    },
    {
     "name": "stderr",
     "output_type": "stream",
     "text": [
      " 38%|██████████████▊                        | 190/500 [58:28<1:31:25, 17.69s/it]"
     ]
    },
    {
     "name": "stdout",
     "output_type": "stream",
     "text": [
      "Epoch 190 \t\t Training Loss: 1.1021766534873418 \t\t Validation Loss: 1.1012839317321776\n"
     ]
    },
    {
     "name": "stderr",
     "output_type": "stream",
     "text": [
      " 38%|██████████████▉                        | 191/500 [58:45<1:30:32, 17.58s/it]"
     ]
    },
    {
     "name": "stdout",
     "output_type": "stream",
     "text": [
      "Epoch 191 \t\t Training Loss: 1.1069792423929488 \t\t Validation Loss: 1.1238467693328857\n"
     ]
    },
    {
     "name": "stderr",
     "output_type": "stream",
     "text": [
      " 38%|██████████████▉                        | 192/500 [59:03<1:31:13, 17.77s/it]"
     ]
    },
    {
     "name": "stdout",
     "output_type": "stream",
     "text": [
      "Epoch 192 \t\t Training Loss: 1.1036336762564523 \t\t Validation Loss: 1.1008410215377809\n"
     ]
    },
    {
     "name": "stderr",
     "output_type": "stream",
     "text": [
      " 39%|███████████████                        | 193/500 [59:21<1:30:32, 17.70s/it]"
     ]
    },
    {
     "name": "stdout",
     "output_type": "stream",
     "text": [
      "Epoch 193 \t\t Training Loss: 1.1000256027494157 \t\t Validation Loss: 1.1206410884857179\n"
     ]
    },
    {
     "name": "stderr",
     "output_type": "stream",
     "text": [
      " 39%|███████████████▏                       | 194/500 [59:39<1:30:51, 17.81s/it]"
     ]
    },
    {
     "name": "stdout",
     "output_type": "stream",
     "text": [
      "Epoch 194 \t\t Training Loss: 1.1020372722830092 \t\t Validation Loss: 1.1142607927322388\n"
     ]
    },
    {
     "name": "stderr",
     "output_type": "stream",
     "text": [
      " 39%|███████████████▏                       | 195/500 [59:56<1:30:10, 17.74s/it]"
     ]
    },
    {
     "name": "stdout",
     "output_type": "stream",
     "text": [
      "Epoch 195 \t\t Training Loss: 1.1016196267945426 \t\t Validation Loss: 1.098037600517273\n"
     ]
    },
    {
     "name": "stderr",
     "output_type": "stream",
     "text": [
      " 39%|██████████████▌                      | 196/500 [1:00:14<1:30:17, 17.82s/it]"
     ]
    },
    {
     "name": "stdout",
     "output_type": "stream",
     "text": [
      "Epoch 196 \t\t Training Loss: 1.1012426955359322 \t\t Validation Loss: 1.1134243488311768\n"
     ]
    },
    {
     "name": "stderr",
     "output_type": "stream",
     "text": [
      " 39%|██████████████▌                      | 197/500 [1:00:32<1:29:54, 17.80s/it]"
     ]
    },
    {
     "name": "stdout",
     "output_type": "stream",
     "text": [
      "Epoch 197 \t\t Training Loss: 1.0990862080029078 \t\t Validation Loss: 1.1110060453414916\n"
     ]
    },
    {
     "name": "stderr",
     "output_type": "stream",
     "text": [
      " 40%|██████████████▋                      | 198/500 [1:00:50<1:29:57, 17.87s/it]"
     ]
    },
    {
     "name": "stdout",
     "output_type": "stream",
     "text": [
      "Epoch 198 \t\t Training Loss: 1.1013960540294647 \t\t Validation Loss: 1.1129698991775512\n"
     ]
    },
    {
     "name": "stderr",
     "output_type": "stream",
     "text": [
      " 40%|██████████████▋                      | 199/500 [1:01:08<1:30:23, 18.02s/it]"
     ]
    },
    {
     "name": "stdout",
     "output_type": "stream",
     "text": [
      "Epoch 199 \t\t Training Loss: 1.097809110369001 \t\t Validation Loss: 1.1066786050796509\n"
     ]
    },
    {
     "name": "stderr",
     "output_type": "stream",
     "text": [
      " 40%|██████████████▊                      | 200/500 [1:01:26<1:29:31, 17.91s/it]"
     ]
    },
    {
     "name": "stdout",
     "output_type": "stream",
     "text": [
      "Epoch 200 \t\t Training Loss: 1.1015512602669852 \t\t Validation Loss: 1.1158249855041504\n"
     ]
    },
    {
     "name": "stderr",
     "output_type": "stream",
     "text": [
      " 40%|██████████████▊                      | 201/500 [1:01:43<1:28:32, 17.77s/it]"
     ]
    },
    {
     "name": "stdout",
     "output_type": "stream",
     "text": [
      "Epoch 201 \t\t Training Loss: 1.1010100415774755 \t\t Validation Loss: 1.1023121356964112\n"
     ]
    },
    {
     "name": "stderr",
     "output_type": "stream",
     "text": [
      " 40%|██████████████▉                      | 202/500 [1:02:01<1:28:04, 17.73s/it]"
     ]
    },
    {
     "name": "stdout",
     "output_type": "stream",
     "text": [
      "Epoch 202 \t\t Training Loss: 1.1006756850651331 \t\t Validation Loss: 1.1052011251449585\n"
     ]
    },
    {
     "name": "stderr",
     "output_type": "stream",
     "text": [
      " 41%|███████████████                      | 203/500 [1:02:19<1:27:40, 17.71s/it]"
     ]
    },
    {
     "name": "stdout",
     "output_type": "stream",
     "text": [
      "Epoch 203 \t\t Training Loss: 1.0982417804854256 \t\t Validation Loss: 1.109711718559265\n"
     ]
    },
    {
     "name": "stderr",
     "output_type": "stream",
     "text": [
      " 41%|███████████████                      | 204/500 [1:02:36<1:27:05, 17.65s/it]"
     ]
    },
    {
     "name": "stdout",
     "output_type": "stream",
     "text": [
      "Epoch 204 \t\t Training Loss: 1.1010135114192963 \t\t Validation Loss: 1.1174933671951295\n"
     ]
    },
    {
     "name": "stderr",
     "output_type": "stream",
     "text": [
      " 41%|███████████████▏                     | 205/500 [1:02:54<1:26:38, 17.62s/it]"
     ]
    },
    {
     "name": "stdout",
     "output_type": "stream",
     "text": [
      "Epoch 205 \t\t Training Loss: 1.1020105736596244 \t\t Validation Loss: 1.1172701358795165\n"
     ]
    },
    {
     "name": "stderr",
     "output_type": "stream",
     "text": [
      " 41%|███████████████▏                     | 206/500 [1:03:11<1:26:20, 17.62s/it]"
     ]
    },
    {
     "name": "stdout",
     "output_type": "stream",
     "text": [
      "Epoch 206 \t\t Training Loss: 1.1014269079480852 \t\t Validation Loss: 1.1032960414886475\n"
     ]
    },
    {
     "name": "stderr",
     "output_type": "stream",
     "text": [
      " 41%|███████████████▎                     | 207/500 [1:03:30<1:27:46, 17.97s/it]"
     ]
    },
    {
     "name": "stdout",
     "output_type": "stream",
     "text": [
      "Epoch 207 \t\t Training Loss: 1.103586230959211 \t\t Validation Loss: 1.1077674150466919\n"
     ]
    },
    {
     "name": "stderr",
     "output_type": "stream",
     "text": [
      " 42%|███████████████▍                     | 208/500 [1:03:48<1:26:51, 17.85s/it]"
     ]
    },
    {
     "name": "stdout",
     "output_type": "stream",
     "text": [
      "Epoch 208 \t\t Training Loss: 1.1000445314816065 \t\t Validation Loss: 1.1094441890716553\n"
     ]
    },
    {
     "name": "stderr",
     "output_type": "stream",
     "text": [
      " 42%|███████████████▍                     | 209/500 [1:04:05<1:26:02, 17.74s/it]"
     ]
    },
    {
     "name": "stdout",
     "output_type": "stream",
     "text": [
      "Epoch 209 \t\t Training Loss: 1.0985832554953439 \t\t Validation Loss: 1.1143023252487183\n"
     ]
    },
    {
     "name": "stderr",
     "output_type": "stream",
     "text": [
      " 42%|███████████████▌                     | 210/500 [1:04:23<1:25:15, 17.64s/it]"
     ]
    },
    {
     "name": "stdout",
     "output_type": "stream",
     "text": [
      "Epoch 210 \t\t Training Loss: 1.098608319248472 \t\t Validation Loss: 1.1121670722961425\n"
     ]
    },
    {
     "name": "stderr",
     "output_type": "stream",
     "text": [
      " 42%|███████████████▌                     | 211/500 [1:04:41<1:25:10, 17.68s/it]"
     ]
    },
    {
     "name": "stdout",
     "output_type": "stream",
     "text": [
      "Epoch 211 \t\t Training Loss: 1.097597952399935 \t\t Validation Loss: 1.1100507020950316\n"
     ]
    },
    {
     "name": "stderr",
     "output_type": "stream",
     "text": [
      " 42%|███████████████▋                     | 212/500 [1:04:58<1:24:37, 17.63s/it]"
     ]
    },
    {
     "name": "stdout",
     "output_type": "stream",
     "text": [
      "Epoch 212 \t\t Training Loss: 1.0982979791504996 \t\t Validation Loss: 1.1129584550857543\n"
     ]
    },
    {
     "name": "stderr",
     "output_type": "stream",
     "text": [
      " 43%|███████████████▊                     | 213/500 [1:05:15<1:24:02, 17.57s/it]"
     ]
    },
    {
     "name": "stdout",
     "output_type": "stream",
     "text": [
      "Epoch 213 \t\t Training Loss: 1.1001706847122736 \t\t Validation Loss: 1.1162184715270995\n"
     ]
    },
    {
     "name": "stderr",
     "output_type": "stream",
     "text": [
      " 43%|███████████████▊                     | 214/500 [1:05:33<1:23:45, 17.57s/it]"
     ]
    },
    {
     "name": "stdout",
     "output_type": "stream",
     "text": [
      "Epoch 214 \t\t Training Loss: 1.100589828831809 \t\t Validation Loss: 1.1191388607025146\n"
     ]
    },
    {
     "name": "stderr",
     "output_type": "stream",
     "text": [
      " 43%|███████████████▉                     | 215/500 [1:05:51<1:23:37, 17.60s/it]"
     ]
    },
    {
     "name": "stdout",
     "output_type": "stream",
     "text": [
      "Epoch 215 \t\t Training Loss: 1.101704056773867 \t\t Validation Loss: 1.1108727931976319\n"
     ]
    },
    {
     "name": "stderr",
     "output_type": "stream",
     "text": [
      " 43%|███████████████▉                     | 216/500 [1:06:08<1:23:15, 17.59s/it]"
     ]
    },
    {
     "name": "stdout",
     "output_type": "stream",
     "text": [
      "Epoch 216 \t\t Training Loss: 1.1001074314117432 \t\t Validation Loss: 1.106343650817871\n"
     ]
    },
    {
     "name": "stderr",
     "output_type": "stream",
     "text": [
      " 43%|████████████████                     | 217/500 [1:06:26<1:23:25, 17.69s/it]"
     ]
    },
    {
     "name": "stdout",
     "output_type": "stream",
     "text": [
      "Epoch 217 \t\t Training Loss: 1.0999395251274109 \t\t Validation Loss: 1.1095301866531373\n"
     ]
    },
    {
     "name": "stderr",
     "output_type": "stream",
     "text": [
      " 44%|████████████████▏                    | 218/500 [1:06:44<1:22:51, 17.63s/it]"
     ]
    },
    {
     "name": "stdout",
     "output_type": "stream",
     "text": [
      "Epoch 218 \t\t Training Loss: 1.1049499298845018 \t\t Validation Loss: 1.1127737283706665\n"
     ]
    },
    {
     "name": "stderr",
     "output_type": "stream",
     "text": [
      " 44%|████████████████▏                    | 219/500 [1:07:01<1:22:40, 17.65s/it]"
     ]
    },
    {
     "name": "stdout",
     "output_type": "stream",
     "text": [
      "Epoch 219 \t\t Training Loss: 1.0986469345433372 \t\t Validation Loss: 1.1052263021469115\n"
     ]
    },
    {
     "name": "stderr",
     "output_type": "stream",
     "text": [
      " 44%|████████████████▎                    | 220/500 [1:07:19<1:22:07, 17.60s/it]"
     ]
    },
    {
     "name": "stdout",
     "output_type": "stream",
     "text": [
      "Epoch 220 \t\t Training Loss: 1.1014565101691656 \t\t Validation Loss: 1.113537645339966\n"
     ]
    },
    {
     "name": "stderr",
     "output_type": "stream",
     "text": [
      " 44%|████████████████▎                    | 221/500 [1:07:36<1:21:29, 17.52s/it]"
     ]
    },
    {
     "name": "stdout",
     "output_type": "stream",
     "text": [
      "Epoch 221 \t\t Training Loss: 1.1003253034182958 \t\t Validation Loss: 1.1005717515945435\n"
     ]
    },
    {
     "name": "stderr",
     "output_type": "stream",
     "text": [
      " 44%|████████████████▍                    | 222/500 [1:07:54<1:21:08, 17.51s/it]"
     ]
    },
    {
     "name": "stdout",
     "output_type": "stream",
     "text": [
      "Epoch 222 \t\t Training Loss: 1.0998436084815435 \t\t Validation Loss: 1.1097719192504882\n"
     ]
    },
    {
     "name": "stderr",
     "output_type": "stream",
     "text": [
      " 45%|████████████████▌                    | 223/500 [1:08:11<1:20:31, 17.44s/it]"
     ]
    },
    {
     "name": "stdout",
     "output_type": "stream",
     "text": [
      "Epoch 223 \t\t Training Loss: 1.0979104552950179 \t\t Validation Loss: 1.1135393857955933\n"
     ]
    },
    {
     "name": "stderr",
     "output_type": "stream",
     "text": [
      " 45%|████████████████▌                    | 224/500 [1:08:28<1:20:09, 17.42s/it]"
     ]
    },
    {
     "name": "stdout",
     "output_type": "stream",
     "text": [
      "Epoch 224 \t\t Training Loss: 1.1035520902701788 \t\t Validation Loss: 1.1187382698059083\n"
     ]
    },
    {
     "name": "stderr",
     "output_type": "stream",
     "text": [
      " 45%|████████████████▋                    | 225/500 [1:08:46<1:20:31, 17.57s/it]"
     ]
    },
    {
     "name": "stdout",
     "output_type": "stream",
     "text": [
      "Epoch 225 \t\t Training Loss: 1.098427870443889 \t\t Validation Loss: 1.1050894498825072\n"
     ]
    },
    {
     "name": "stderr",
     "output_type": "stream",
     "text": [
      " 45%|████████████████▋                    | 226/500 [1:09:04<1:20:03, 17.53s/it]"
     ]
    },
    {
     "name": "stdout",
     "output_type": "stream",
     "text": [
      "Epoch 226 \t\t Training Loss: 1.1035181624548775 \t\t Validation Loss: 1.1072941064834594\n"
     ]
    },
    {
     "name": "stderr",
     "output_type": "stream",
     "text": [
      " 45%|████████████████▊                    | 227/500 [1:09:21<1:20:04, 17.60s/it]"
     ]
    },
    {
     "name": "stdout",
     "output_type": "stream",
     "text": [
      "Epoch 227 \t\t Training Loss: 1.1010403888566154 \t\t Validation Loss: 1.113199496269226\n"
     ]
    },
    {
     "name": "stderr",
     "output_type": "stream",
     "text": [
      " 46%|████████████████▊                    | 228/500 [1:09:39<1:19:32, 17.55s/it]"
     ]
    },
    {
     "name": "stdout",
     "output_type": "stream",
     "text": [
      "Epoch 228 \t\t Training Loss: 1.0978684042181288 \t\t Validation Loss: 1.113099718093872\n"
     ]
    },
    {
     "name": "stderr",
     "output_type": "stream",
     "text": [
      " 46%|████████████████▉                    | 229/500 [1:09:57<1:19:45, 17.66s/it]"
     ]
    },
    {
     "name": "stdout",
     "output_type": "stream",
     "text": [
      "Epoch 229 \t\t Training Loss: 1.1023290710789817 \t\t Validation Loss: 1.110023522377014\n"
     ]
    },
    {
     "name": "stderr",
     "output_type": "stream",
     "text": [
      " 46%|█████████████████                    | 230/500 [1:10:15<1:19:45, 17.72s/it]"
     ]
    },
    {
     "name": "stdout",
     "output_type": "stream",
     "text": [
      "Epoch 230 \t\t Training Loss: 1.098196314913886 \t\t Validation Loss: 1.1129745960235595\n"
     ]
    },
    {
     "name": "stderr",
     "output_type": "stream",
     "text": [
      " 46%|█████████████████                    | 231/500 [1:10:33<1:20:17, 17.91s/it]"
     ]
    },
    {
     "name": "stdout",
     "output_type": "stream",
     "text": [
      "Epoch 231 \t\t Training Loss: 1.0992116502353124 \t\t Validation Loss: 1.1087050437927246\n"
     ]
    },
    {
     "name": "stderr",
     "output_type": "stream",
     "text": [
      " 46%|█████████████████▏                   | 232/500 [1:10:51<1:20:07, 17.94s/it]"
     ]
    },
    {
     "name": "stdout",
     "output_type": "stream",
     "text": [
      "Epoch 232 \t\t Training Loss: 1.0990349309785026 \t\t Validation Loss: 1.1105531692504882\n"
     ]
    },
    {
     "name": "stderr",
     "output_type": "stream",
     "text": [
      " 47%|█████████████████▏                   | 233/500 [1:11:09<1:20:13, 18.03s/it]"
     ]
    },
    {
     "name": "stdout",
     "output_type": "stream",
     "text": [
      "Epoch 233 \t\t Training Loss: 1.100547079529081 \t\t Validation Loss: 1.1097327947616578\n"
     ]
    },
    {
     "name": "stderr",
     "output_type": "stream",
     "text": [
      " 47%|█████████████████▎                   | 234/500 [1:11:27<1:19:52, 18.02s/it]"
     ]
    },
    {
     "name": "stdout",
     "output_type": "stream",
     "text": [
      "Epoch 234 \t\t Training Loss: 1.0979066746575492 \t\t Validation Loss: 1.109715986251831\n"
     ]
    },
    {
     "name": "stderr",
     "output_type": "stream",
     "text": [
      " 47%|█████████████████▍                   | 235/500 [1:11:46<1:19:56, 18.10s/it]"
     ]
    },
    {
     "name": "stdout",
     "output_type": "stream",
     "text": [
      "Epoch 235 \t\t Training Loss: 1.1044712577547346 \t\t Validation Loss: 1.1223437547683717\n"
     ]
    },
    {
     "name": "stderr",
     "output_type": "stream",
     "text": [
      " 47%|█████████████████▍                   | 236/500 [1:12:03<1:18:57, 17.95s/it]"
     ]
    },
    {
     "name": "stdout",
     "output_type": "stream",
     "text": [
      "Epoch 236 \t\t Training Loss: 1.0990414363997323 \t\t Validation Loss: 1.102825927734375\n"
     ]
    },
    {
     "name": "stderr",
     "output_type": "stream",
     "text": [
      " 47%|█████████████████▌                   | 237/500 [1:12:21<1:18:12, 17.84s/it]"
     ]
    },
    {
     "name": "stdout",
     "output_type": "stream",
     "text": [
      "Epoch 237 \t\t Training Loss: 1.1034566760063171 \t\t Validation Loss: 1.1034560203552246\n"
     ]
    },
    {
     "name": "stderr",
     "output_type": "stream",
     "text": [
      " 48%|█████████████████▌                   | 238/500 [1:12:38<1:17:12, 17.68s/it]"
     ]
    },
    {
     "name": "stdout",
     "output_type": "stream",
     "text": [
      "Epoch 238 \t\t Training Loss: 1.0991312222821372 \t\t Validation Loss: 1.111106777191162\n"
     ]
    },
    {
     "name": "stderr",
     "output_type": "stream",
     "text": [
      " 48%|█████████████████▋                   | 239/500 [1:12:56<1:17:43, 17.87s/it]"
     ]
    },
    {
     "name": "stdout",
     "output_type": "stream",
     "text": [
      "Epoch 239 \t\t Training Loss: 1.1017650876726424 \t\t Validation Loss: 1.1171258449554444\n"
     ]
    },
    {
     "name": "stderr",
     "output_type": "stream",
     "text": [
      " 48%|█████████████████▊                   | 240/500 [1:13:15<1:18:12, 18.05s/it]"
     ]
    },
    {
     "name": "stdout",
     "output_type": "stream",
     "text": [
      "Epoch 240 \t\t Training Loss: 1.099198273250035 \t\t Validation Loss: 1.1054797649383545\n"
     ]
    },
    {
     "name": "stderr",
     "output_type": "stream",
     "text": [
      " 48%|█████████████████▊                   | 241/500 [1:13:33<1:17:27, 17.95s/it]"
     ]
    },
    {
     "name": "stdout",
     "output_type": "stream",
     "text": [
      "Epoch 241 \t\t Training Loss: 1.101047694683075 \t\t Validation Loss: 1.109227991104126\n"
     ]
    },
    {
     "name": "stderr",
     "output_type": "stream",
     "text": [
      " 48%|█████████████████▉                   | 242/500 [1:13:50<1:16:24, 17.77s/it]"
     ]
    },
    {
     "name": "stdout",
     "output_type": "stream",
     "text": [
      "Epoch 242 \t\t Training Loss: 1.0989641291754586 \t\t Validation Loss: 1.1156803131103517\n"
     ]
    },
    {
     "name": "stderr",
     "output_type": "stream",
     "text": [
      " 49%|█████████████████▉                   | 243/500 [1:14:08<1:16:23, 17.83s/it]"
     ]
    },
    {
     "name": "stdout",
     "output_type": "stream",
     "text": [
      "Epoch 243 \t\t Training Loss: 1.104578937802996 \t\t Validation Loss: 1.108103632926941\n"
     ]
    },
    {
     "name": "stderr",
     "output_type": "stream",
     "text": [
      " 49%|██████████████████                   | 244/500 [1:14:25<1:15:33, 17.71s/it]"
     ]
    },
    {
     "name": "stdout",
     "output_type": "stream",
     "text": [
      "Epoch 244 \t\t Training Loss: 1.102835591350283 \t\t Validation Loss: 1.1057180166244507\n"
     ]
    },
    {
     "name": "stderr",
     "output_type": "stream",
     "text": [
      " 49%|██████████████████▏                  | 245/500 [1:14:43<1:15:10, 17.69s/it]"
     ]
    },
    {
     "name": "stdout",
     "output_type": "stream",
     "text": [
      "Epoch 245 \t\t Training Loss: 1.1002923888819558 \t\t Validation Loss: 1.103615164756775\n"
     ]
    },
    {
     "name": "stderr",
     "output_type": "stream",
     "text": [
      " 49%|██████████████████▏                  | 246/500 [1:15:01<1:15:09, 17.75s/it]"
     ]
    },
    {
     "name": "stdout",
     "output_type": "stream",
     "text": [
      "Epoch 246 \t\t Training Loss: 1.1016463381903512 \t\t Validation Loss: 1.1097198009490967\n"
     ]
    },
    {
     "name": "stderr",
     "output_type": "stream",
     "text": [
      " 49%|██████████████████▎                  | 247/500 [1:15:19<1:15:45, 17.96s/it]"
     ]
    },
    {
     "name": "stdout",
     "output_type": "stream",
     "text": [
      "Epoch 247 \t\t Training Loss: 1.1002253336565835 \t\t Validation Loss: 1.106475567817688\n"
     ]
    },
    {
     "name": "stderr",
     "output_type": "stream",
     "text": [
      " 50%|██████████████████▎                  | 248/500 [1:15:37<1:15:04, 17.88s/it]"
     ]
    },
    {
     "name": "stdout",
     "output_type": "stream",
     "text": [
      "Epoch 248 \t\t Training Loss: 1.101512108530317 \t\t Validation Loss: 1.1058079719543457\n"
     ]
    },
    {
     "name": "stderr",
     "output_type": "stream",
     "text": [
      " 50%|██████████████████▍                  | 249/500 [1:15:54<1:14:19, 17.77s/it]"
     ]
    },
    {
     "name": "stdout",
     "output_type": "stream",
     "text": [
      "Epoch 249 \t\t Training Loss: 1.1003262485776628 \t\t Validation Loss: 1.1092399597167968\n"
     ]
    },
    {
     "name": "stderr",
     "output_type": "stream",
     "text": [
      " 50%|██████████████████▌                  | 250/500 [1:16:12<1:13:35, 17.66s/it]"
     ]
    },
    {
     "name": "stdout",
     "output_type": "stream",
     "text": [
      "Epoch 250 \t\t Training Loss: 1.09952831694058 \t\t Validation Loss: 1.107582187652588\n"
     ]
    },
    {
     "name": "stderr",
     "output_type": "stream",
     "text": [
      " 50%|██████████████████▌                  | 251/500 [1:16:30<1:13:30, 17.71s/it]"
     ]
    },
    {
     "name": "stdout",
     "output_type": "stream",
     "text": [
      "Epoch 251 \t\t Training Loss: 1.0979652149336678 \t\t Validation Loss: 1.1130720853805542\n"
     ]
    },
    {
     "name": "stderr",
     "output_type": "stream",
     "text": [
      " 50%|██████████████████▋                  | 252/500 [1:16:48<1:13:21, 17.75s/it]"
     ]
    },
    {
     "name": "stdout",
     "output_type": "stream",
     "text": [
      "Epoch 252 \t\t Training Loss: 1.1001601730074202 \t\t Validation Loss: 1.114893364906311\n"
     ]
    },
    {
     "name": "stderr",
     "output_type": "stream",
     "text": [
      " 51%|██████████████████▋                  | 253/500 [1:17:05<1:12:53, 17.71s/it]"
     ]
    },
    {
     "name": "stdout",
     "output_type": "stream",
     "text": [
      "Epoch 253 \t\t Training Loss: 1.1003281388963972 \t\t Validation Loss: 1.1170239210128785\n"
     ]
    },
    {
     "name": "stderr",
     "output_type": "stream",
     "text": [
      " 51%|██████████████████▊                  | 254/500 [1:17:23<1:12:26, 17.67s/it]"
     ]
    },
    {
     "name": "stdout",
     "output_type": "stream",
     "text": [
      "Epoch 254 \t\t Training Loss: 1.0993178912571497 \t\t Validation Loss: 1.1081956148147583\n"
     ]
    },
    {
     "name": "stderr",
     "output_type": "stream",
     "text": [
      " 51%|██████████████████▊                  | 255/500 [1:17:40<1:11:55, 17.62s/it]"
     ]
    },
    {
     "name": "stdout",
     "output_type": "stream",
     "text": [
      "Epoch 255 \t\t Training Loss: 1.1020536933626448 \t\t Validation Loss: 1.1060066223144531\n"
     ]
    },
    {
     "name": "stderr",
     "output_type": "stream",
     "text": [
      " 51%|██████████████████▉                  | 256/500 [1:17:58<1:11:28, 17.58s/it]"
     ]
    },
    {
     "name": "stdout",
     "output_type": "stream",
     "text": [
      "Epoch 256 \t\t Training Loss: 1.1003088312489646 \t\t Validation Loss: 1.103664255142212\n"
     ]
    },
    {
     "name": "stderr",
     "output_type": "stream",
     "text": [
      " 51%|███████████████████                  | 257/500 [1:18:15<1:11:18, 17.61s/it]"
     ]
    },
    {
     "name": "stdout",
     "output_type": "stream",
     "text": [
      "Epoch 257 \t\t Training Loss: 1.1010443483080183 \t\t Validation Loss: 1.1032252550125121\n"
     ]
    },
    {
     "name": "stderr",
     "output_type": "stream",
     "text": [
      " 52%|███████████████████                  | 258/500 [1:18:33<1:10:49, 17.56s/it]"
     ]
    },
    {
     "name": "stdout",
     "output_type": "stream",
     "text": [
      "Epoch 258 \t\t Training Loss: 1.1007350087165833 \t\t Validation Loss: 1.1135141372680664\n"
     ]
    },
    {
     "name": "stderr",
     "output_type": "stream",
     "text": [
      " 52%|███████████████████▏                 | 259/500 [1:18:51<1:10:44, 17.61s/it]"
     ]
    },
    {
     "name": "stdout",
     "output_type": "stream",
     "text": [
      "Epoch 259 \t\t Training Loss: 1.099166648728507 \t\t Validation Loss: 1.1097531080245973\n"
     ]
    },
    {
     "name": "stderr",
     "output_type": "stream",
     "text": [
      " 52%|███████████████████▏                 | 260/500 [1:19:09<1:11:24, 17.85s/it]"
     ]
    },
    {
     "name": "stdout",
     "output_type": "stream",
     "text": [
      "Epoch 260 \t\t Training Loss: 1.098800710269383 \t\t Validation Loss: 1.111142110824585\n"
     ]
    },
    {
     "name": "stderr",
     "output_type": "stream",
     "text": [
      " 52%|███████████████████▎                 | 261/500 [1:19:26<1:10:18, 17.65s/it]"
     ]
    },
    {
     "name": "stdout",
     "output_type": "stream",
     "text": [
      "Epoch 261 \t\t Training Loss: 1.102546215057373 \t\t Validation Loss: 1.1133630752563477\n"
     ]
    },
    {
     "name": "stderr",
     "output_type": "stream",
     "text": [
      " 52%|███████████████████▍                 | 262/500 [1:19:44<1:10:48, 17.85s/it]"
     ]
    },
    {
     "name": "stdout",
     "output_type": "stream",
     "text": [
      "Epoch 262 \t\t Training Loss: 1.0988614346299852 \t\t Validation Loss: 1.1053303241729737\n"
     ]
    },
    {
     "name": "stderr",
     "output_type": "stream",
     "text": [
      " 53%|███████████████████▍                 | 263/500 [1:20:03<1:10:45, 17.92s/it]"
     ]
    },
    {
     "name": "stdout",
     "output_type": "stream",
     "text": [
      "Epoch 263 \t\t Training Loss: 1.0995480375630515 \t\t Validation Loss: 1.1068573474884034\n"
     ]
    },
    {
     "name": "stderr",
     "output_type": "stream",
     "text": [
      " 53%|███████████████████▌                 | 264/500 [1:20:20<1:10:19, 17.88s/it]"
     ]
    },
    {
     "name": "stdout",
     "output_type": "stream",
     "text": [
      "Epoch 264 \t\t Training Loss: 1.1021082145827157 \t\t Validation Loss: 1.1035658597946167\n"
     ]
    },
    {
     "name": "stderr",
     "output_type": "stream",
     "text": [
      " 53%|███████████████████▌                 | 265/500 [1:20:38<1:10:03, 17.89s/it]"
     ]
    },
    {
     "name": "stdout",
     "output_type": "stream",
     "text": [
      "Epoch 265 \t\t Training Loss: 1.0988696941307612 \t\t Validation Loss: 1.1246992349624634\n"
     ]
    },
    {
     "name": "stderr",
     "output_type": "stream",
     "text": [
      " 53%|███████████████████▋                 | 266/500 [1:20:56<1:09:17, 17.77s/it]"
     ]
    },
    {
     "name": "stdout",
     "output_type": "stream",
     "text": [
      "Epoch 266 \t\t Training Loss: 1.0988732065473283 \t\t Validation Loss: 1.1170688629150392\n"
     ]
    },
    {
     "name": "stderr",
     "output_type": "stream",
     "text": [
      " 53%|███████████████████▊                 | 267/500 [1:21:13<1:08:37, 17.67s/it]"
     ]
    },
    {
     "name": "stdout",
     "output_type": "stream",
     "text": [
      "Epoch 267 \t\t Training Loss: 1.0987472661903925 \t\t Validation Loss: 1.111031675338745\n"
     ]
    },
    {
     "name": "stderr",
     "output_type": "stream",
     "text": [
      " 54%|███████████████████▊                 | 268/500 [1:21:31<1:08:19, 17.67s/it]"
     ]
    },
    {
     "name": "stdout",
     "output_type": "stream",
     "text": [
      "Epoch 268 \t\t Training Loss: 1.1004488979067122 \t\t Validation Loss: 1.1126402139663696\n"
     ]
    },
    {
     "name": "stderr",
     "output_type": "stream",
     "text": [
      " 54%|███████████████████▉                 | 269/500 [1:21:48<1:07:53, 17.63s/it]"
     ]
    },
    {
     "name": "stdout",
     "output_type": "stream",
     "text": [
      "Epoch 269 \t\t Training Loss: 1.1000494829245977 \t\t Validation Loss: 1.106116771697998\n"
     ]
    },
    {
     "name": "stderr",
     "output_type": "stream",
     "text": [
      " 54%|███████████████████▉                 | 270/500 [1:22:06<1:07:48, 17.69s/it]"
     ]
    },
    {
     "name": "stdout",
     "output_type": "stream",
     "text": [
      "Epoch 270 \t\t Training Loss: 1.099977127143315 \t\t Validation Loss: 1.1040571212768555\n"
     ]
    },
    {
     "name": "stderr",
     "output_type": "stream",
     "text": [
      " 54%|████████████████████                 | 271/500 [1:22:24<1:07:30, 17.69s/it]"
     ]
    },
    {
     "name": "stdout",
     "output_type": "stream",
     "text": [
      "Epoch 271 \t\t Training Loss: 1.0993702496801103 \t\t Validation Loss: 1.1074656248092651\n"
     ]
    },
    {
     "name": "stderr",
     "output_type": "stream",
     "text": [
      " 54%|████████████████████▏                | 272/500 [1:22:41<1:07:00, 17.63s/it]"
     ]
    },
    {
     "name": "stdout",
     "output_type": "stream",
     "text": [
      "Epoch 272 \t\t Training Loss: 1.100233563355037 \t\t Validation Loss: 1.1125024795532226\n"
     ]
    },
    {
     "name": "stderr",
     "output_type": "stream",
     "text": [
      " 55%|████████████████████▏                | 273/500 [1:22:59<1:06:35, 17.60s/it]"
     ]
    },
    {
     "name": "stdout",
     "output_type": "stream",
     "text": [
      "Epoch 273 \t\t Training Loss: 1.0992395622389657 \t\t Validation Loss: 1.1041300535202025\n"
     ]
    },
    {
     "name": "stderr",
     "output_type": "stream",
     "text": [
      " 55%|████████████████████▎                | 274/500 [1:23:17<1:06:22, 17.62s/it]"
     ]
    },
    {
     "name": "stdout",
     "output_type": "stream",
     "text": [
      "Epoch 274 \t\t Training Loss: 1.0992137619427271 \t\t Validation Loss: 1.1051036357879638\n"
     ]
    },
    {
     "name": "stderr",
     "output_type": "stream",
     "text": [
      " 55%|████████████████████▎                | 275/500 [1:23:34<1:06:07, 17.63s/it]"
     ]
    },
    {
     "name": "stdout",
     "output_type": "stream",
     "text": [
      "Epoch 275 \t\t Training Loss: 1.0987530989306313 \t\t Validation Loss: 1.10513756275177\n"
     ]
    },
    {
     "name": "stderr",
     "output_type": "stream",
     "text": [
      " 55%|████████████████████▍                | 276/500 [1:23:53<1:06:32, 17.83s/it]"
     ]
    },
    {
     "name": "stdout",
     "output_type": "stream",
     "text": [
      "Epoch 276 \t\t Training Loss: 1.0979667603969574 \t\t Validation Loss: 1.1135895252227783\n"
     ]
    },
    {
     "name": "stderr",
     "output_type": "stream",
     "text": [
      " 55%|████████████████████▍                | 277/500 [1:24:11<1:07:00, 18.03s/it]"
     ]
    },
    {
     "name": "stdout",
     "output_type": "stream",
     "text": [
      "Epoch 277 \t\t Training Loss: 1.098557242325374 \t\t Validation Loss: 1.110028052330017\n"
     ]
    },
    {
     "name": "stderr",
     "output_type": "stream",
     "text": [
      " 56%|████████████████████▌                | 278/500 [1:24:29<1:06:11, 17.89s/it]"
     ]
    },
    {
     "name": "stdout",
     "output_type": "stream",
     "text": [
      "Epoch 278 \t\t Training Loss: 1.0986266349043166 \t\t Validation Loss: 1.114018154144287\n"
     ]
    },
    {
     "name": "stderr",
     "output_type": "stream",
     "text": [
      " 56%|████████████████████▋                | 279/500 [1:24:46<1:05:24, 17.76s/it]"
     ]
    },
    {
     "name": "stdout",
     "output_type": "stream",
     "text": [
      "Epoch 279 \t\t Training Loss: 1.1001810218606676 \t\t Validation Loss: 1.1127418756484986\n"
     ]
    },
    {
     "name": "stderr",
     "output_type": "stream",
     "text": [
      " 56%|████████████████████▋                | 280/500 [1:25:04<1:05:03, 17.74s/it]"
     ]
    },
    {
     "name": "stdout",
     "output_type": "stream",
     "text": [
      "Epoch 280 \t\t Training Loss: 1.1001816093921661 \t\t Validation Loss: 1.1046109199523926\n"
     ]
    },
    {
     "name": "stderr",
     "output_type": "stream",
     "text": [
      " 56%|████████████████████▊                | 281/500 [1:25:22<1:04:56, 17.79s/it]"
     ]
    },
    {
     "name": "stdout",
     "output_type": "stream",
     "text": [
      "Epoch 281 \t\t Training Loss: 1.1006301982062203 \t\t Validation Loss: 1.1068373918533325\n"
     ]
    },
    {
     "name": "stderr",
     "output_type": "stream",
     "text": [
      " 56%|████████████████████▊                | 282/500 [1:25:40<1:05:21, 17.99s/it]"
     ]
    },
    {
     "name": "stdout",
     "output_type": "stream",
     "text": [
      "Epoch 282 \t\t Training Loss: 1.0997904794556754 \t\t Validation Loss: 1.1124745607376099\n"
     ]
    },
    {
     "name": "stderr",
     "output_type": "stream",
     "text": [
      " 57%|████████████████████▉                | 283/500 [1:25:58<1:04:52, 17.94s/it]"
     ]
    },
    {
     "name": "stdout",
     "output_type": "stream",
     "text": [
      "Epoch 283 \t\t Training Loss: 1.098465004137584 \t\t Validation Loss: 1.1077205419540406\n"
     ]
    },
    {
     "name": "stderr",
     "output_type": "stream",
     "text": [
      " 57%|█████████████████████                | 284/500 [1:26:15<1:04:02, 17.79s/it]"
     ]
    },
    {
     "name": "stdout",
     "output_type": "stream",
     "text": [
      "Epoch 284 \t\t Training Loss: 1.099614632981164 \t\t Validation Loss: 1.1127549648284911\n"
     ]
    },
    {
     "name": "stderr",
     "output_type": "stream",
     "text": [
      " 57%|█████████████████████                | 285/500 [1:26:33<1:03:51, 17.82s/it]"
     ]
    },
    {
     "name": "stdout",
     "output_type": "stream",
     "text": [
      "Epoch 285 \t\t Training Loss: 1.1030385494232178 \t\t Validation Loss: 1.1084311723709106\n"
     ]
    },
    {
     "name": "stderr",
     "output_type": "stream",
     "text": [
      " 57%|█████████████████████▏               | 286/500 [1:26:52<1:04:10, 17.99s/it]"
     ]
    },
    {
     "name": "stdout",
     "output_type": "stream",
     "text": [
      "Epoch 286 \t\t Training Loss: 1.102389361177172 \t\t Validation Loss: 1.1092985153198243\n"
     ]
    },
    {
     "name": "stderr",
     "output_type": "stream",
     "text": [
      " 57%|█████████████████████▏               | 287/500 [1:27:10<1:03:48, 17.97s/it]"
     ]
    },
    {
     "name": "stdout",
     "output_type": "stream",
     "text": [
      "Epoch 287 \t\t Training Loss: 1.1027453541755676 \t\t Validation Loss: 1.103550672531128\n"
     ]
    },
    {
     "name": "stderr",
     "output_type": "stream",
     "text": [
      " 58%|█████████████████████▎               | 288/500 [1:27:28<1:03:52, 18.08s/it]"
     ]
    },
    {
     "name": "stdout",
     "output_type": "stream",
     "text": [
      "Epoch 288 \t\t Training Loss: 1.0980038046836853 \t\t Validation Loss: 1.1075233459472655\n"
     ]
    },
    {
     "name": "stderr",
     "output_type": "stream",
     "text": [
      " 58%|█████████████████████▍               | 289/500 [1:27:46<1:03:43, 18.12s/it]"
     ]
    },
    {
     "name": "stdout",
     "output_type": "stream",
     "text": [
      "Epoch 289 \t\t Training Loss: 1.0969812827450889 \t\t Validation Loss: 1.1239137172698974\n"
     ]
    },
    {
     "name": "stderr",
     "output_type": "stream",
     "text": [
      " 58%|█████████████████████▍               | 290/500 [1:28:04<1:03:01, 18.01s/it]"
     ]
    },
    {
     "name": "stdout",
     "output_type": "stream",
     "text": [
      "Epoch 290 \t\t Training Loss: 1.100890657731465 \t\t Validation Loss: 1.1198867559432983\n"
     ]
    },
    {
     "name": "stderr",
     "output_type": "stream",
     "text": [
      " 58%|█████████████████████▌               | 291/500 [1:28:22<1:02:26, 17.93s/it]"
     ]
    },
    {
     "name": "stdout",
     "output_type": "stream",
     "text": [
      "Epoch 291 \t\t Training Loss: 1.0988443195819855 \t\t Validation Loss: 1.1091643810272216\n"
     ]
    },
    {
     "name": "stderr",
     "output_type": "stream",
     "text": [
      " 58%|█████████████████████▌               | 292/500 [1:28:40<1:02:29, 18.03s/it]"
     ]
    },
    {
     "name": "stdout",
     "output_type": "stream",
     "text": [
      "Epoch 292 \t\t Training Loss: 1.1001665719917841 \t\t Validation Loss: 1.1058878183364869\n"
     ]
    },
    {
     "name": "stderr",
     "output_type": "stream",
     "text": [
      " 59%|█████████████████████▋               | 293/500 [1:28:58<1:02:02, 17.98s/it]"
     ]
    },
    {
     "name": "stdout",
     "output_type": "stream",
     "text": [
      "Epoch 293 \t\t Training Loss: 1.0992808384554726 \t\t Validation Loss: 1.1131837368011475\n"
     ]
    },
    {
     "name": "stderr",
     "output_type": "stream",
     "text": [
      " 59%|█████████████████████▊               | 294/500 [1:29:16<1:01:53, 18.03s/it]"
     ]
    },
    {
     "name": "stdout",
     "output_type": "stream",
     "text": [
      "Epoch 294 \t\t Training Loss: 1.1003168523311615 \t\t Validation Loss: 1.1065571069717408\n"
     ]
    },
    {
     "name": "stderr",
     "output_type": "stream",
     "text": [
      " 59%|█████████████████████▊               | 295/500 [1:29:33<1:00:55, 17.83s/it]"
     ]
    },
    {
     "name": "stdout",
     "output_type": "stream",
     "text": [
      "Epoch 295 \t\t Training Loss: 1.0983488389423914 \t\t Validation Loss: 1.1077749252319335\n"
     ]
    },
    {
     "name": "stderr",
     "output_type": "stream",
     "text": [
      " 59%|█████████████████████▉               | 296/500 [1:29:51<1:00:23, 17.76s/it]"
     ]
    },
    {
     "name": "stdout",
     "output_type": "stream",
     "text": [
      "Epoch 296 \t\t Training Loss: 1.1012063452175684 \t\t Validation Loss: 1.1089136123657226\n"
     ]
    },
    {
     "name": "stderr",
     "output_type": "stream",
     "text": [
      " 59%|█████████████████████▉               | 297/500 [1:30:09<1:00:26, 17.86s/it]"
     ]
    },
    {
     "name": "stdout",
     "output_type": "stream",
     "text": [
      "Epoch 297 \t\t Training Loss: 1.101512461900711 \t\t Validation Loss: 1.112458348274231\n"
     ]
    },
    {
     "name": "stderr",
     "output_type": "stream",
     "text": [
      " 60%|███████████████████████▏               | 298/500 [1:30:26<59:44, 17.75s/it]"
     ]
    },
    {
     "name": "stdout",
     "output_type": "stream",
     "text": [
      "Epoch 298 \t\t Training Loss: 1.0984041392803192 \t\t Validation Loss: 1.105723762512207\n"
     ]
    },
    {
     "name": "stderr",
     "output_type": "stream",
     "text": [
      " 60%|███████████████████████▎               | 299/500 [1:30:45<59:53, 17.88s/it]"
     ]
    },
    {
     "name": "stdout",
     "output_type": "stream",
     "text": [
      "Epoch 299 \t\t Training Loss: 1.0991820224693842 \t\t Validation Loss: 1.1079723119735718\n"
     ]
    },
    {
     "name": "stderr",
     "output_type": "stream",
     "text": [
      " 60%|███████████████████████▍               | 300/500 [1:31:02<59:08, 17.74s/it]"
     ]
    },
    {
     "name": "stdout",
     "output_type": "stream",
     "text": [
      "Epoch 300 \t\t Training Loss: 1.0995416513511114 \t\t Validation Loss: 1.1127408981323241\n"
     ]
    },
    {
     "name": "stderr",
     "output_type": "stream",
     "text": [
      " 60%|███████████████████████▍               | 301/500 [1:31:21<59:37, 17.98s/it]"
     ]
    },
    {
     "name": "stdout",
     "output_type": "stream",
     "text": [
      "Epoch 301 \t\t Training Loss: 1.0984327409948622 \t\t Validation Loss: 1.1104628324508667\n"
     ]
    },
    {
     "name": "stderr",
     "output_type": "stream",
     "text": [
      " 60%|███████████████████████▌               | 302/500 [1:31:38<59:07, 17.91s/it]"
     ]
    },
    {
     "name": "stdout",
     "output_type": "stream",
     "text": [
      "Epoch 302 \t\t Training Loss: 1.0989929139614105 \t\t Validation Loss: 1.1123193502426147\n"
     ]
    },
    {
     "name": "stderr",
     "output_type": "stream",
     "text": [
      " 61%|███████████████████████▋               | 303/500 [1:31:56<59:02, 17.98s/it]"
     ]
    },
    {
     "name": "stdout",
     "output_type": "stream",
     "text": [
      "Epoch 303 \t\t Training Loss: 1.0978993901184626 \t\t Validation Loss: 1.1101258277893067\n"
     ]
    },
    {
     "name": "stderr",
     "output_type": "stream",
     "text": [
      " 61%|███████████████████████▋               | 304/500 [1:32:14<58:18, 17.85s/it]"
     ]
    },
    {
     "name": "stdout",
     "output_type": "stream",
     "text": [
      "Epoch 304 \t\t Training Loss: 1.1009806990623474 \t\t Validation Loss: 1.1110864877700806\n"
     ]
    },
    {
     "name": "stderr",
     "output_type": "stream",
     "text": [
      " 61%|███████████████████████▊               | 305/500 [1:32:32<57:52, 17.81s/it]"
     ]
    },
    {
     "name": "stdout",
     "output_type": "stream",
     "text": [
      "Epoch 305 \t\t Training Loss: 1.0993673971721105 \t\t Validation Loss: 1.1081569194793701\n"
     ]
    },
    {
     "name": "stderr",
     "output_type": "stream",
     "text": [
      " 61%|███████████████████████▊               | 306/500 [1:32:49<57:12, 17.69s/it]"
     ]
    },
    {
     "name": "stdout",
     "output_type": "stream",
     "text": [
      "Epoch 306 \t\t Training Loss: 1.100937353713172 \t\t Validation Loss: 1.1126740455627442\n"
     ]
    },
    {
     "name": "stderr",
     "output_type": "stream",
     "text": [
      " 61%|███████████████████████▉               | 307/500 [1:33:07<57:06, 17.75s/it]"
     ]
    },
    {
     "name": "stdout",
     "output_type": "stream",
     "text": [
      "Epoch 307 \t\t Training Loss: 1.0991411677428655 \t\t Validation Loss: 1.1038833379745483\n"
     ]
    },
    {
     "name": "stderr",
     "output_type": "stream",
     "text": [
      " 62%|████████████████████████               | 308/500 [1:33:25<56:32, 17.67s/it]"
     ]
    },
    {
     "name": "stdout",
     "output_type": "stream",
     "text": [
      "Epoch 308 \t\t Training Loss: 1.0991440202508653 \t\t Validation Loss: 1.1064973831176759\n"
     ]
    },
    {
     "name": "stderr",
     "output_type": "stream",
     "text": [
      " 62%|████████████████████████               | 309/500 [1:33:42<56:12, 17.66s/it]"
     ]
    },
    {
     "name": "stdout",
     "output_type": "stream",
     "text": [
      "Epoch 309 \t\t Training Loss: 1.0993581925119673 \t\t Validation Loss: 1.1147631883621216\n"
     ]
    },
    {
     "name": "stderr",
     "output_type": "stream",
     "text": [
      " 62%|████████████████████████▏              | 310/500 [1:34:00<55:55, 17.66s/it]"
     ]
    },
    {
     "name": "stdout",
     "output_type": "stream",
     "text": [
      "Epoch 310 \t\t Training Loss: 1.1010044131960188 \t\t Validation Loss: 1.1109567403793335\n"
     ]
    },
    {
     "name": "stderr",
     "output_type": "stream",
     "text": [
      " 62%|████████████████████████▎              | 311/500 [1:34:17<55:21, 17.57s/it]"
     ]
    },
    {
     "name": "stdout",
     "output_type": "stream",
     "text": [
      "Epoch 311 \t\t Training Loss: 1.0996528693607874 \t\t Validation Loss: 1.1070574045181274\n"
     ]
    },
    {
     "name": "stderr",
     "output_type": "stream",
     "text": [
      " 62%|████████████████████████▎              | 312/500 [1:34:35<55:13, 17.62s/it]"
     ]
    },
    {
     "name": "stdout",
     "output_type": "stream",
     "text": [
      "Epoch 312 \t\t Training Loss: 1.0988173186779022 \t\t Validation Loss: 1.1042293310165405\n"
     ]
    },
    {
     "name": "stderr",
     "output_type": "stream",
     "text": [
      " 63%|████████████████████████▍              | 313/500 [1:34:53<54:57, 17.64s/it]"
     ]
    },
    {
     "name": "stdout",
     "output_type": "stream",
     "text": [
      "Epoch 313 \t\t Training Loss: 1.0992756528513772 \t\t Validation Loss: 1.1058767080307006\n"
     ]
    },
    {
     "name": "stderr",
     "output_type": "stream",
     "text": [
      " 63%|████████████████████████▍              | 314/500 [1:35:10<54:47, 17.68s/it]"
     ]
    },
    {
     "name": "stdout",
     "output_type": "stream",
     "text": [
      "Epoch 314 \t\t Training Loss: 1.1012079162257058 \t\t Validation Loss: 1.107050895690918\n"
     ]
    },
    {
     "name": "stderr",
     "output_type": "stream",
     "text": [
      " 63%|████████████████████████▌              | 315/500 [1:35:28<54:27, 17.66s/it]"
     ]
    },
    {
     "name": "stdout",
     "output_type": "stream",
     "text": [
      "Epoch 315 \t\t Training Loss: 1.0997631805283683 \t\t Validation Loss: 1.1025079011917114\n"
     ]
    },
    {
     "name": "stderr",
     "output_type": "stream",
     "text": [
      " 63%|████████████████████████▋              | 316/500 [1:35:47<55:06, 17.97s/it]"
     ]
    },
    {
     "name": "stdout",
     "output_type": "stream",
     "text": [
      "Epoch 316 \t\t Training Loss: 1.101006886788777 \t\t Validation Loss: 1.1106430768966675\n"
     ]
    },
    {
     "name": "stderr",
     "output_type": "stream",
     "text": [
      " 63%|████████████████████████▋              | 317/500 [1:36:05<54:51, 17.99s/it]"
     ]
    },
    {
     "name": "stdout",
     "output_type": "stream",
     "text": [
      "Epoch 317 \t\t Training Loss: 1.0995634155614036 \t\t Validation Loss: 1.10941903591156\n"
     ]
    },
    {
     "name": "stderr",
     "output_type": "stream",
     "text": [
      " 64%|████████████████████████▊              | 318/500 [1:36:23<54:37, 18.01s/it]"
     ]
    },
    {
     "name": "stdout",
     "output_type": "stream",
     "text": [
      "Epoch 318 \t\t Training Loss: 1.0982740138258253 \t\t Validation Loss: 1.1113365411758422\n"
     ]
    },
    {
     "name": "stderr",
     "output_type": "stream",
     "text": [
      " 64%|████████████████████████▉              | 319/500 [1:36:41<54:13, 17.98s/it]"
     ]
    },
    {
     "name": "stdout",
     "output_type": "stream",
     "text": [
      "Epoch 319 \t\t Training Loss: 1.0970910148961204 \t\t Validation Loss: 1.1147653102874755\n"
     ]
    },
    {
     "name": "stderr",
     "output_type": "stream",
     "text": [
      " 64%|████████████████████████▉              | 320/500 [1:36:59<53:52, 17.96s/it]"
     ]
    },
    {
     "name": "stdout",
     "output_type": "stream",
     "text": [
      "Epoch 320 \t\t Training Loss: 1.1032498862062181 \t\t Validation Loss: 1.1174290895462036\n"
     ]
    },
    {
     "name": "stderr",
     "output_type": "stream",
     "text": [
      " 64%|█████████████████████████              | 321/500 [1:37:16<53:26, 17.91s/it]"
     ]
    },
    {
     "name": "stdout",
     "output_type": "stream",
     "text": [
      "Epoch 321 \t\t Training Loss: 1.0981329424040658 \t\t Validation Loss: 1.1071727275848389\n"
     ]
    },
    {
     "name": "stderr",
     "output_type": "stream",
     "text": [
      " 64%|█████████████████████████              | 322/500 [1:37:34<52:44, 17.78s/it]"
     ]
    },
    {
     "name": "stdout",
     "output_type": "stream",
     "text": [
      "Epoch 322 \t\t Training Loss: 1.1012012958526611 \t\t Validation Loss: 1.111204171180725\n"
     ]
    },
    {
     "name": "stderr",
     "output_type": "stream",
     "text": [
      " 65%|█████████████████████████▏             | 323/500 [1:37:52<52:23, 17.76s/it]"
     ]
    },
    {
     "name": "stdout",
     "output_type": "stream",
     "text": [
      "Epoch 323 \t\t Training Loss: 1.1003641401018416 \t\t Validation Loss: 1.1018186569213868\n"
     ]
    },
    {
     "name": "stderr",
     "output_type": "stream",
     "text": [
      " 65%|█████████████████████████▎             | 324/500 [1:38:10<52:59, 18.07s/it]"
     ]
    },
    {
     "name": "stdout",
     "output_type": "stream",
     "text": [
      "Epoch 324 \t\t Training Loss: 1.0983789137431554 \t\t Validation Loss: 1.1135653734207154\n"
     ]
    },
    {
     "name": "stderr",
     "output_type": "stream",
     "text": [
      " 65%|█████████████████████████▎             | 325/500 [1:38:28<52:43, 18.08s/it]"
     ]
    },
    {
     "name": "stdout",
     "output_type": "stream",
     "text": [
      "Epoch 325 \t\t Training Loss: 1.0986968662057603 \t\t Validation Loss: 1.1103806972503663\n"
     ]
    },
    {
     "name": "stderr",
     "output_type": "stream",
     "text": [
      " 65%|█████████████████████████▍             | 326/500 [1:38:46<51:57, 17.91s/it]"
     ]
    },
    {
     "name": "stdout",
     "output_type": "stream",
     "text": [
      "Epoch 326 \t\t Training Loss: 1.099144424710955 \t\t Validation Loss: 1.1117995262145997\n"
     ]
    },
    {
     "name": "stderr",
     "output_type": "stream",
     "text": [
      " 65%|█████████████████████████▌             | 327/500 [1:39:04<51:57, 18.02s/it]"
     ]
    },
    {
     "name": "stdout",
     "output_type": "stream",
     "text": [
      "Epoch 327 \t\t Training Loss: 1.1006041935511999 \t\t Validation Loss: 1.105986976623535\n"
     ]
    },
    {
     "name": "stderr",
     "output_type": "stream",
     "text": [
      " 66%|█████████████████████████▌             | 328/500 [1:39:22<51:24, 17.93s/it]"
     ]
    },
    {
     "name": "stdout",
     "output_type": "stream",
     "text": [
      "Epoch 328 \t\t Training Loss: 1.1013198494911194 \t\t Validation Loss: 1.113354229927063\n"
     ]
    },
    {
     "name": "stderr",
     "output_type": "stream",
     "text": [
      " 66%|█████████████████████████▋             | 329/500 [1:39:40<51:02, 17.91s/it]"
     ]
    },
    {
     "name": "stdout",
     "output_type": "stream",
     "text": [
      "Epoch 329 \t\t Training Loss: 1.098875173500606 \t\t Validation Loss: 1.1123026371002198\n"
     ]
    },
    {
     "name": "stderr",
     "output_type": "stream",
     "text": [
      " 66%|█████████████████████████▋             | 330/500 [1:39:57<50:30, 17.83s/it]"
     ]
    },
    {
     "name": "stdout",
     "output_type": "stream",
     "text": [
      "Epoch 330 \t\t Training Loss: 1.0986817862306322 \t\t Validation Loss: 1.1072290658950805\n"
     ]
    },
    {
     "name": "stderr",
     "output_type": "stream",
     "text": [
      " 66%|█████████████████████████▊             | 331/500 [1:40:16<50:26, 17.91s/it]"
     ]
    },
    {
     "name": "stdout",
     "output_type": "stream",
     "text": [
      "Epoch 331 \t\t Training Loss: 1.0990345776081085 \t\t Validation Loss: 1.117725944519043\n"
     ]
    },
    {
     "name": "stderr",
     "output_type": "stream",
     "text": [
      " 66%|█████████████████████████▉             | 332/500 [1:40:33<49:51, 17.80s/it]"
     ]
    },
    {
     "name": "stdout",
     "output_type": "stream",
     "text": [
      "Epoch 332 \t\t Training Loss: 1.1024653017520905 \t\t Validation Loss: 1.1136255264282227\n"
     ]
    },
    {
     "name": "stderr",
     "output_type": "stream",
     "text": [
      " 67%|█████████████████████████▉             | 333/500 [1:40:52<50:04, 17.99s/it]"
     ]
    },
    {
     "name": "stdout",
     "output_type": "stream",
     "text": [
      "Epoch 333 \t\t Training Loss: 1.099245854786464 \t\t Validation Loss: 1.111326026916504\n"
     ]
    },
    {
     "name": "stderr",
     "output_type": "stream",
     "text": [
      " 67%|██████████████████████████             | 334/500 [1:41:10<50:06, 18.11s/it]"
     ]
    },
    {
     "name": "stdout",
     "output_type": "stream",
     "text": [
      "Epoch 334 \t\t Training Loss: 1.103119671344757 \t\t Validation Loss: 1.1130526542663575\n"
     ]
    },
    {
     "name": "stderr",
     "output_type": "stream",
     "text": [
      " 67%|██████████████████████████▏            | 335/500 [1:41:28<49:28, 17.99s/it]"
     ]
    },
    {
     "name": "stdout",
     "output_type": "stream",
     "text": [
      "Epoch 335 \t\t Training Loss: 1.0999215628419603 \t\t Validation Loss: 1.107283091545105\n"
     ]
    },
    {
     "name": "stderr",
     "output_type": "stream",
     "text": [
      " 67%|██████████████████████████▏            | 336/500 [1:41:45<48:39, 17.80s/it]"
     ]
    },
    {
     "name": "stdout",
     "output_type": "stream",
     "text": [
      "Epoch 336 \t\t Training Loss: 1.0984453005450112 \t\t Validation Loss: 1.114147996902466\n"
     ]
    },
    {
     "name": "stderr",
     "output_type": "stream",
     "text": [
      " 67%|██████████████████████████▎            | 337/500 [1:42:04<49:05, 18.07s/it]"
     ]
    },
    {
     "name": "stdout",
     "output_type": "stream",
     "text": [
      "Epoch 337 \t\t Training Loss: 1.1002749332359858 \t\t Validation Loss: 1.1076974153518677\n"
     ]
    },
    {
     "name": "stderr",
     "output_type": "stream",
     "text": [
      " 68%|██████████████████████████▎            | 338/500 [1:42:22<49:09, 18.21s/it]"
     ]
    },
    {
     "name": "stdout",
     "output_type": "stream",
     "text": [
      "Epoch 338 \t\t Training Loss: 1.098618562732424 \t\t Validation Loss: 1.1063385963439942\n"
     ]
    },
    {
     "name": "stderr",
     "output_type": "stream",
     "text": [
      " 68%|██████████████████████████▍            | 339/500 [1:42:40<48:24, 18.04s/it]"
     ]
    },
    {
     "name": "stdout",
     "output_type": "stream",
     "text": [
      "Epoch 339 \t\t Training Loss: 1.1022240647247858 \t\t Validation Loss: 1.1183359146118164\n"
     ]
    },
    {
     "name": "stderr",
     "output_type": "stream",
     "text": [
      " 68%|██████████████████████████▌            | 340/500 [1:42:58<47:59, 17.99s/it]"
     ]
    },
    {
     "name": "stdout",
     "output_type": "stream",
     "text": [
      "Epoch 340 \t\t Training Loss: 1.101149273770196 \t\t Validation Loss: 1.110233736038208\n"
     ]
    },
    {
     "name": "stderr",
     "output_type": "stream",
     "text": [
      " 68%|██████████████████████████▌            | 341/500 [1:43:15<47:27, 17.91s/it]"
     ]
    },
    {
     "name": "stdout",
     "output_type": "stream",
     "text": [
      "Epoch 341 \t\t Training Loss: 1.1007735644068037 \t\t Validation Loss: 1.103151226043701\n"
     ]
    },
    {
     "name": "stderr",
     "output_type": "stream",
     "text": [
      " 68%|██████████████████████████▋            | 342/500 [1:43:33<46:47, 17.77s/it]"
     ]
    },
    {
     "name": "stdout",
     "output_type": "stream",
     "text": [
      "Epoch 342 \t\t Training Loss: 1.0977001573358263 \t\t Validation Loss: 1.1059841871261598\n"
     ]
    },
    {
     "name": "stderr",
     "output_type": "stream",
     "text": [
      " 69%|██████████████████████████▊            | 343/500 [1:43:51<46:43, 17.86s/it]"
     ]
    },
    {
     "name": "stdout",
     "output_type": "stream",
     "text": [
      "Epoch 343 \t\t Training Loss: 1.1045352050236292 \t\t Validation Loss: 1.120128607749939\n"
     ]
    },
    {
     "name": "stderr",
     "output_type": "stream",
     "text": [
      " 69%|██████████████████████████▊            | 344/500 [1:44:09<46:11, 17.77s/it]"
     ]
    },
    {
     "name": "stdout",
     "output_type": "stream",
     "text": [
      "Epoch 344 \t\t Training Loss: 1.0979197451046534 \t\t Validation Loss: 1.1079782962799072\n"
     ]
    },
    {
     "name": "stderr",
     "output_type": "stream",
     "text": [
      " 69%|██████████████████████████▉            | 345/500 [1:44:27<46:14, 17.90s/it]"
     ]
    },
    {
     "name": "stdout",
     "output_type": "stream",
     "text": [
      "Epoch 345 \t\t Training Loss: 1.1019453746931893 \t\t Validation Loss: 1.1080816268920899\n"
     ]
    },
    {
     "name": "stderr",
     "output_type": "stream",
     "text": [
      " 69%|██████████████████████████▉            | 346/500 [1:44:44<45:38, 17.78s/it]"
     ]
    },
    {
     "name": "stdout",
     "output_type": "stream",
     "text": [
      "Epoch 346 \t\t Training Loss: 1.099935063294002 \t\t Validation Loss: 1.1042599439620973\n"
     ]
    },
    {
     "name": "stderr",
     "output_type": "stream",
     "text": [
      " 69%|███████████████████████████            | 347/500 [1:45:02<45:09, 17.71s/it]"
     ]
    },
    {
     "name": "stdout",
     "output_type": "stream",
     "text": [
      "Epoch 347 \t\t Training Loss: 1.09909359897886 \t\t Validation Loss: 1.107527780532837\n"
     ]
    },
    {
     "name": "stderr",
     "output_type": "stream",
     "text": [
      " 70%|███████████████████████████▏           | 348/500 [1:45:20<45:05, 17.80s/it]"
     ]
    },
    {
     "name": "stdout",
     "output_type": "stream",
     "text": [
      "Epoch 348 \t\t Training Loss: 1.0968862899712153 \t\t Validation Loss: 1.1112480163574219\n"
     ]
    },
    {
     "name": "stderr",
     "output_type": "stream",
     "text": [
      " 70%|███████████████████████████▏           | 349/500 [1:45:38<44:43, 17.77s/it]"
     ]
    },
    {
     "name": "stdout",
     "output_type": "stream",
     "text": [
      "Epoch 349 \t\t Training Loss: 1.0986044236591883 \t\t Validation Loss: 1.1135473489761352\n"
     ]
    },
    {
     "name": "stderr",
     "output_type": "stream",
     "text": [
      " 70%|███████████████████████████▎           | 350/500 [1:45:56<44:50, 17.94s/it]"
     ]
    },
    {
     "name": "stdout",
     "output_type": "stream",
     "text": [
      "Epoch 350 \t\t Training Loss: 1.099022958959852 \t\t Validation Loss: 1.1117233037948608\n"
     ]
    },
    {
     "name": "stderr",
     "output_type": "stream",
     "text": [
      " 70%|███████████████████████████▍           | 351/500 [1:46:14<44:50, 18.06s/it]"
     ]
    },
    {
     "name": "stdout",
     "output_type": "stream",
     "text": [
      "Epoch 351 \t\t Training Loss: 1.1005364443574632 \t\t Validation Loss: 1.112850594520569\n"
     ]
    },
    {
     "name": "stderr",
     "output_type": "stream",
     "text": [
      " 70%|███████████████████████████▍           | 352/500 [1:46:32<44:06, 17.88s/it]"
     ]
    },
    {
     "name": "stdout",
     "output_type": "stream",
     "text": [
      "Epoch 352 \t\t Training Loss: 1.097605586051941 \t\t Validation Loss: 1.1074098348617554\n"
     ]
    },
    {
     "name": "stderr",
     "output_type": "stream",
     "text": [
      " 71%|███████████████████████████▌           | 353/500 [1:46:49<43:45, 17.86s/it]"
     ]
    },
    {
     "name": "stdout",
     "output_type": "stream",
     "text": [
      "Epoch 353 \t\t Training Loss: 1.1003200454371316 \t\t Validation Loss: 1.1088807106018066\n"
     ]
    },
    {
     "name": "stderr",
     "output_type": "stream",
     "text": [
      " 71%|███████████████████████████▌           | 354/500 [1:47:07<43:26, 17.85s/it]"
     ]
    },
    {
     "name": "stdout",
     "output_type": "stream",
     "text": [
      "Epoch 354 \t\t Training Loss: 1.0995511625494276 \t\t Validation Loss: 1.1015817165374755\n"
     ]
    },
    {
     "name": "stderr",
     "output_type": "stream",
     "text": [
      " 71%|███████████████████████████▋           | 355/500 [1:47:26<43:31, 18.01s/it]"
     ]
    },
    {
     "name": "stdout",
     "output_type": "stream",
     "text": [
      "Epoch 355 \t\t Training Loss: 1.1008792093821935 \t\t Validation Loss: 1.1126083612442017\n"
     ]
    },
    {
     "name": "stderr",
     "output_type": "stream",
     "text": [
      " 71%|███████████████████████████▊           | 356/500 [1:47:43<42:57, 17.90s/it]"
     ]
    },
    {
     "name": "stdout",
     "output_type": "stream",
     "text": [
      "Epoch 356 \t\t Training Loss: 1.0989474952220917 \t\t Validation Loss: 1.1092135667800904\n"
     ]
    },
    {
     "name": "stderr",
     "output_type": "stream",
     "text": [
      " 71%|███████████████████████████▊           | 357/500 [1:48:01<42:21, 17.77s/it]"
     ]
    },
    {
     "name": "stdout",
     "output_type": "stream",
     "text": [
      "Epoch 357 \t\t Training Loss: 1.1003641017845698 \t\t Validation Loss: 1.1034129858016968\n"
     ]
    },
    {
     "name": "stderr",
     "output_type": "stream",
     "text": [
      " 72%|███████████████████████████▉           | 358/500 [1:48:19<42:09, 17.81s/it]"
     ]
    },
    {
     "name": "stdout",
     "output_type": "stream",
     "text": [
      "Epoch 358 \t\t Training Loss: 1.1009125411510468 \t\t Validation Loss: 1.11258385181427\n"
     ]
    },
    {
     "name": "stderr",
     "output_type": "stream",
     "text": [
      " 72%|████████████████████████████           | 359/500 [1:48:36<41:40, 17.74s/it]"
     ]
    },
    {
     "name": "stdout",
     "output_type": "stream",
     "text": [
      "Epoch 359 \t\t Training Loss: 1.0981575335775102 \t\t Validation Loss: 1.107636046409607\n"
     ]
    },
    {
     "name": "stderr",
     "output_type": "stream",
     "text": [
      " 72%|████████████████████████████           | 360/500 [1:48:54<41:16, 17.69s/it]"
     ]
    },
    {
     "name": "stdout",
     "output_type": "stream",
     "text": [
      "Epoch 360 \t\t Training Loss: 1.0977063987936293 \t\t Validation Loss: 1.1073721647262573\n"
     ]
    },
    {
     "name": "stderr",
     "output_type": "stream",
     "text": [
      " 72%|████████████████████████████▏          | 361/500 [1:49:13<41:39, 17.98s/it]"
     ]
    },
    {
     "name": "stdout",
     "output_type": "stream",
     "text": [
      "Epoch 361 \t\t Training Loss: 1.0994341926915305 \t\t Validation Loss: 1.1077670335769654\n"
     ]
    },
    {
     "name": "stderr",
     "output_type": "stream",
     "text": [
      " 72%|████████████████████████████▏          | 362/500 [1:49:30<41:09, 17.90s/it]"
     ]
    },
    {
     "name": "stdout",
     "output_type": "stream",
     "text": [
      "Epoch 362 \t\t Training Loss: 1.098560848406383 \t\t Validation Loss: 1.1103883266448975\n"
     ]
    },
    {
     "name": "stderr",
     "output_type": "stream",
     "text": [
      " 73%|████████████████████████████▎          | 363/500 [1:49:49<41:13, 18.06s/it]"
     ]
    },
    {
     "name": "stdout",
     "output_type": "stream",
     "text": [
      "Epoch 363 \t\t Training Loss: 1.0987721383571625 \t\t Validation Loss: 1.1059245109558105\n"
     ]
    },
    {
     "name": "stderr",
     "output_type": "stream",
     "text": [
      " 73%|████████████████████████████▍          | 364/500 [1:50:06<40:45, 17.98s/it]"
     ]
    },
    {
     "name": "stdout",
     "output_type": "stream",
     "text": [
      "Epoch 364 \t\t Training Loss: 1.0975510392870222 \t\t Validation Loss: 1.1094214916229248\n"
     ]
    },
    {
     "name": "stderr",
     "output_type": "stream",
     "text": [
      " 73%|████████████████████████████▍          | 365/500 [1:50:24<40:05, 17.82s/it]"
     ]
    },
    {
     "name": "stdout",
     "output_type": "stream",
     "text": [
      "Epoch 365 \t\t Training Loss: 1.0968521577971322 \t\t Validation Loss: 1.118859314918518\n"
     ]
    },
    {
     "name": "stderr",
     "output_type": "stream",
     "text": [
      " 73%|████████████████████████████▌          | 366/500 [1:50:42<39:53, 17.86s/it]"
     ]
    },
    {
     "name": "stdout",
     "output_type": "stream",
     "text": [
      "Epoch 366 \t\t Training Loss: 1.098237850836345 \t\t Validation Loss: 1.112938117980957\n"
     ]
    },
    {
     "name": "stderr",
     "output_type": "stream",
     "text": [
      " 73%|████████████████████████████▋          | 367/500 [1:51:00<39:28, 17.81s/it]"
     ]
    },
    {
     "name": "stdout",
     "output_type": "stream",
     "text": [
      "Epoch 367 \t\t Training Loss: 1.099508170570646 \t\t Validation Loss: 1.1224845409393311\n"
     ]
    },
    {
     "name": "stderr",
     "output_type": "stream",
     "text": [
      " 74%|████████████████████████████▋          | 368/500 [1:51:17<39:06, 17.78s/it]"
     ]
    },
    {
     "name": "stdout",
     "output_type": "stream",
     "text": [
      "Epoch 368 \t\t Training Loss: 1.0994247325829096 \t\t Validation Loss: 1.1136540651321412\n"
     ]
    },
    {
     "name": "stderr",
     "output_type": "stream",
     "text": [
      " 74%|████████████████████████████▊          | 369/500 [1:51:35<38:38, 17.69s/it]"
     ]
    },
    {
     "name": "stdout",
     "output_type": "stream",
     "text": [
      "Epoch 369 \t\t Training Loss: 1.0993277984006065 \t\t Validation Loss: 1.1110073804855347\n"
     ]
    },
    {
     "name": "stderr",
     "output_type": "stream",
     "text": [
      " 74%|████████████████████████████▊          | 370/500 [1:51:52<38:06, 17.59s/it]"
     ]
    },
    {
     "name": "stdout",
     "output_type": "stream",
     "text": [
      "Epoch 370 \t\t Training Loss: 1.1015947886875697 \t\t Validation Loss: 1.110234522819519\n"
     ]
    },
    {
     "name": "stderr",
     "output_type": "stream",
     "text": [
      " 74%|████████████████████████████▉          | 371/500 [1:52:10<37:45, 17.56s/it]"
     ]
    },
    {
     "name": "stdout",
     "output_type": "stream",
     "text": [
      "Epoch 371 \t\t Training Loss: 1.1007459589413233 \t\t Validation Loss: 1.1015872716903687\n"
     ]
    },
    {
     "name": "stderr",
     "output_type": "stream",
     "text": [
      " 74%|█████████████████████████████          | 372/500 [1:52:27<37:25, 17.55s/it]"
     ]
    },
    {
     "name": "stdout",
     "output_type": "stream",
     "text": [
      "Epoch 372 \t\t Training Loss: 1.0984403831618172 \t\t Validation Loss: 1.111873459815979\n"
     ]
    },
    {
     "name": "stderr",
     "output_type": "stream",
     "text": [
      " 75%|█████████████████████████████          | 373/500 [1:52:45<37:17, 17.62s/it]"
     ]
    },
    {
     "name": "stdout",
     "output_type": "stream",
     "text": [
      "Epoch 373 \t\t Training Loss: 1.0991815030574799 \t\t Validation Loss: 1.1123303413391112\n"
     ]
    },
    {
     "name": "stderr",
     "output_type": "stream",
     "text": [
      " 75%|█████████████████████████████▏         | 374/500 [1:53:02<36:53, 17.57s/it]"
     ]
    },
    {
     "name": "stdout",
     "output_type": "stream",
     "text": [
      "Epoch 374 \t\t Training Loss: 1.100908977644784 \t\t Validation Loss: 1.1152806282043457\n"
     ]
    },
    {
     "name": "stderr",
     "output_type": "stream",
     "text": [
      " 75%|█████████████████████████████▎         | 375/500 [1:53:20<36:43, 17.62s/it]"
     ]
    },
    {
     "name": "stdout",
     "output_type": "stream",
     "text": [
      "Epoch 375 \t\t Training Loss: 1.0996645859309606 \t\t Validation Loss: 1.1079987049102784\n"
     ]
    },
    {
     "name": "stderr",
     "output_type": "stream",
     "text": [
      " 75%|█████████████████████████████▎         | 376/500 [1:53:38<36:32, 17.68s/it]"
     ]
    },
    {
     "name": "stdout",
     "output_type": "stream",
     "text": [
      "Epoch 376 \t\t Training Loss: 1.0992543186460222 \t\t Validation Loss: 1.104641366004944\n"
     ]
    },
    {
     "name": "stderr",
     "output_type": "stream",
     "text": [
      " 75%|█████████████████████████████▍         | 377/500 [1:53:56<36:45, 17.93s/it]"
     ]
    },
    {
     "name": "stdout",
     "output_type": "stream",
     "text": [
      "Epoch 377 \t\t Training Loss: 1.0981436158929552 \t\t Validation Loss: 1.1044077157974244\n"
     ]
    },
    {
     "name": "stderr",
     "output_type": "stream",
     "text": [
      " 76%|█████████████████████████████▍         | 378/500 [1:54:14<36:32, 17.97s/it]"
     ]
    },
    {
     "name": "stdout",
     "output_type": "stream",
     "text": [
      "Epoch 378 \t\t Training Loss: 1.100901837859835 \t\t Validation Loss: 1.1106982469558715\n"
     ]
    },
    {
     "name": "stderr",
     "output_type": "stream",
     "text": [
      " 76%|█████████████████████████████▌         | 379/500 [1:54:33<36:28, 18.09s/it]"
     ]
    },
    {
     "name": "stdout",
     "output_type": "stream",
     "text": [
      "Epoch 379 \t\t Training Loss: 1.0991103436265672 \t\t Validation Loss: 1.103014850616455\n"
     ]
    },
    {
     "name": "stderr",
     "output_type": "stream",
     "text": [
      " 76%|█████████████████████████████▋         | 380/500 [1:54:51<36:00, 18.00s/it]"
     ]
    },
    {
     "name": "stdout",
     "output_type": "stream",
     "text": [
      "Epoch 380 \t\t Training Loss: 1.0996316288198744 \t\t Validation Loss: 1.1079193830490113\n"
     ]
    },
    {
     "name": "stderr",
     "output_type": "stream",
     "text": [
      " 76%|█████████████████████████████▋         | 381/500 [1:55:09<35:39, 17.98s/it]"
     ]
    },
    {
     "name": "stdout",
     "output_type": "stream",
     "text": [
      "Epoch 381 \t\t Training Loss: 1.099236126456942 \t\t Validation Loss: 1.1070728540420531\n"
     ]
    },
    {
     "name": "stderr",
     "output_type": "stream",
     "text": [
      " 76%|█████████████████████████████▊         | 382/500 [1:55:26<35:03, 17.82s/it]"
     ]
    },
    {
     "name": "stdout",
     "output_type": "stream",
     "text": [
      "Epoch 382 \t\t Training Loss: 1.0995074893747057 \t\t Validation Loss: 1.1066267490386963\n"
     ]
    },
    {
     "name": "stderr",
     "output_type": "stream",
     "text": [
      " 77%|█████████████████████████████▊         | 383/500 [1:55:44<34:47, 17.85s/it]"
     ]
    },
    {
     "name": "stdout",
     "output_type": "stream",
     "text": [
      "Epoch 383 \t\t Training Loss: 1.0974384120532445 \t\t Validation Loss: 1.1097294569015503\n"
     ]
    },
    {
     "name": "stderr",
     "output_type": "stream",
     "text": [
      " 77%|█████████████████████████████▉         | 384/500 [1:56:01<34:20, 17.76s/it]"
     ]
    },
    {
     "name": "stdout",
     "output_type": "stream",
     "text": [
      "Epoch 384 \t\t Training Loss: 1.0985042282513209 \t\t Validation Loss: 1.1172773122787476\n"
     ]
    },
    {
     "name": "stderr",
     "output_type": "stream",
     "text": [
      " 77%|██████████████████████████████         | 385/500 [1:56:19<34:03, 17.77s/it]"
     ]
    },
    {
     "name": "stdout",
     "output_type": "stream",
     "text": [
      "Epoch 385 \t\t Training Loss: 1.0983175465038844 \t\t Validation Loss: 1.1134079933166503\n"
     ]
    },
    {
     "name": "stderr",
     "output_type": "stream",
     "text": [
      " 77%|██████████████████████████████         | 386/500 [1:56:37<33:46, 17.78s/it]"
     ]
    },
    {
     "name": "stdout",
     "output_type": "stream",
     "text": [
      "Epoch 386 \t\t Training Loss: 1.0996250893388475 \t\t Validation Loss: 1.1093204498291016\n"
     ]
    },
    {
     "name": "stderr",
     "output_type": "stream",
     "text": [
      " 77%|██████████████████████████████▏        | 387/500 [1:56:55<33:48, 17.95s/it]"
     ]
    },
    {
     "name": "stdout",
     "output_type": "stream",
     "text": [
      "Epoch 387 \t\t Training Loss: 1.098257269178118 \t\t Validation Loss: 1.104856753349304\n"
     ]
    },
    {
     "name": "stderr",
     "output_type": "stream",
     "text": [
      " 78%|██████████████████████████████▎        | 388/500 [1:57:13<33:24, 17.90s/it]"
     ]
    },
    {
     "name": "stdout",
     "output_type": "stream",
     "text": [
      "Epoch 388 \t\t Training Loss: 1.098280246768679 \t\t Validation Loss: 1.106835174560547\n"
     ]
    },
    {
     "name": "stderr",
     "output_type": "stream",
     "text": [
      " 78%|██████████████████████████████▎        | 389/500 [1:57:31<32:58, 17.83s/it]"
     ]
    },
    {
     "name": "stdout",
     "output_type": "stream",
     "text": [
      "Epoch 389 \t\t Training Loss: 1.0984698746885573 \t\t Validation Loss: 1.108927845954895\n"
     ]
    },
    {
     "name": "stderr",
     "output_type": "stream",
     "text": [
      " 78%|██████████████████████████████▍        | 390/500 [1:57:48<32:32, 17.75s/it]"
     ]
    },
    {
     "name": "stdout",
     "output_type": "stream",
     "text": [
      "Epoch 390 \t\t Training Loss: 1.0988662030015672 \t\t Validation Loss: 1.1134663105010987\n"
     ]
    },
    {
     "name": "stderr",
     "output_type": "stream",
     "text": [
      " 78%|██████████████████████████████▍        | 391/500 [1:58:07<32:42, 18.00s/it]"
     ]
    },
    {
     "name": "stdout",
     "output_type": "stream",
     "text": [
      "Epoch 391 \t\t Training Loss: 1.0995721689292364 \t\t Validation Loss: 1.1102086544036864\n"
     ]
    },
    {
     "name": "stderr",
     "output_type": "stream",
     "text": [
      " 78%|██████████████████████████████▌        | 392/500 [1:58:25<32:28, 18.04s/it]"
     ]
    },
    {
     "name": "stdout",
     "output_type": "stream",
     "text": [
      "Epoch 392 \t\t Training Loss: 1.0982288377625602 \t\t Validation Loss: 1.1090983390808105\n"
     ]
    },
    {
     "name": "stderr",
     "output_type": "stream",
     "text": [
      " 79%|██████████████████████████████▋        | 393/500 [1:58:43<31:57, 17.92s/it]"
     ]
    },
    {
     "name": "stdout",
     "output_type": "stream",
     "text": [
      "Epoch 393 \t\t Training Loss: 1.099887021950313 \t\t Validation Loss: 1.1100276470184327\n"
     ]
    },
    {
     "name": "stderr",
     "output_type": "stream",
     "text": [
      " 79%|██████████████████████████████▋        | 394/500 [1:59:00<31:24, 17.78s/it]"
     ]
    },
    {
     "name": "stdout",
     "output_type": "stream",
     "text": [
      "Epoch 394 \t\t Training Loss: 1.0987228878906794 \t\t Validation Loss: 1.1093363285064697\n"
     ]
    },
    {
     "name": "stderr",
     "output_type": "stream",
     "text": [
      " 79%|██████████████████████████████▊        | 395/500 [1:59:19<31:34, 18.05s/it]"
     ]
    },
    {
     "name": "stdout",
     "output_type": "stream",
     "text": [
      "Epoch 395 \t\t Training Loss: 1.09831845334598 \t\t Validation Loss: 1.1131829023361206\n"
     ]
    },
    {
     "name": "stderr",
     "output_type": "stream",
     "text": [
      " 79%|██████████████████████████████▉        | 396/500 [1:59:37<31:13, 18.01s/it]"
     ]
    },
    {
     "name": "stdout",
     "output_type": "stream",
     "text": [
      "Epoch 396 \t\t Training Loss: 1.098340894494738 \t\t Validation Loss: 1.1072360754013062\n"
     ]
    },
    {
     "name": "stderr",
     "output_type": "stream",
     "text": [
      " 79%|██████████████████████████████▉        | 397/500 [1:59:54<30:43, 17.90s/it]"
     ]
    },
    {
     "name": "stdout",
     "output_type": "stream",
     "text": [
      "Epoch 397 \t\t Training Loss: 1.098427368061883 \t\t Validation Loss: 1.1122620820999145\n"
     ]
    },
    {
     "name": "stderr",
     "output_type": "stream",
     "text": [
      " 80%|███████████████████████████████        | 398/500 [2:00:12<30:25, 17.90s/it]"
     ]
    },
    {
     "name": "stdout",
     "output_type": "stream",
     "text": [
      "Epoch 398 \t\t Training Loss: 1.100480582032885 \t\t Validation Loss: 1.111402678489685\n"
     ]
    },
    {
     "name": "stderr",
     "output_type": "stream",
     "text": [
      " 80%|███████████████████████████████        | 399/500 [2:00:30<30:03, 17.86s/it]"
     ]
    },
    {
     "name": "stdout",
     "output_type": "stream",
     "text": [
      "Epoch 399 \t\t Training Loss: 1.0983127781323023 \t\t Validation Loss: 1.1067353248596192\n"
     ]
    },
    {
     "name": "stderr",
     "output_type": "stream",
     "text": [
      " 80%|███████████████████████████████▏       | 400/500 [2:00:48<29:55, 17.96s/it]"
     ]
    },
    {
     "name": "stdout",
     "output_type": "stream",
     "text": [
      "Epoch 400 \t\t Training Loss: 1.099270156451634 \t\t Validation Loss: 1.1103445053100587\n"
     ]
    },
    {
     "name": "stderr",
     "output_type": "stream",
     "text": [
      " 80%|███████████████████████████████▎       | 401/500 [2:01:06<29:32, 17.91s/it]"
     ]
    },
    {
     "name": "stdout",
     "output_type": "stream",
     "text": [
      "Epoch 401 \t\t Training Loss: 1.0998196133545466 \t\t Validation Loss: 1.1101768970489503\n"
     ]
    },
    {
     "name": "stderr",
     "output_type": "stream",
     "text": [
      " 80%|███████████████████████████████▎       | 402/500 [2:01:24<29:06, 17.82s/it]"
     ]
    },
    {
     "name": "stdout",
     "output_type": "stream",
     "text": [
      "Epoch 402 \t\t Training Loss: 1.101216128894261 \t\t Validation Loss: 1.1097893476486207\n"
     ]
    },
    {
     "name": "stderr",
     "output_type": "stream",
     "text": [
      " 81%|███████████████████████████████▍       | 403/500 [2:01:42<28:48, 17.82s/it]"
     ]
    },
    {
     "name": "stdout",
     "output_type": "stream",
     "text": [
      "Epoch 403 \t\t Training Loss: 1.0997177447591509 \t\t Validation Loss: 1.1017162561416627\n"
     ]
    },
    {
     "name": "stderr",
     "output_type": "stream",
     "text": [
      " 81%|███████████████████████████████▌       | 404/500 [2:01:59<28:24, 17.76s/it]"
     ]
    },
    {
     "name": "stdout",
     "output_type": "stream",
     "text": [
      "Epoch 404 \t\t Training Loss: 1.099883986370904 \t\t Validation Loss: 1.1050034761428833\n"
     ]
    },
    {
     "name": "stderr",
     "output_type": "stream",
     "text": [
      " 81%|███████████████████████████████▌       | 405/500 [2:02:17<28:06, 17.76s/it]"
     ]
    },
    {
     "name": "stdout",
     "output_type": "stream",
     "text": [
      "Epoch 405 \t\t Training Loss: 1.0987743139266968 \t\t Validation Loss: 1.1083032131195067\n"
     ]
    },
    {
     "name": "stderr",
     "output_type": "stream",
     "text": [
      " 81%|███████████████████████████████▋       | 406/500 [2:02:35<27:55, 17.82s/it]"
     ]
    },
    {
     "name": "stdout",
     "output_type": "stream",
     "text": [
      "Epoch 406 \t\t Training Loss: 1.0991115357194627 \t\t Validation Loss: 1.1057573318481446\n"
     ]
    },
    {
     "name": "stderr",
     "output_type": "stream",
     "text": [
      " 81%|███████████████████████████████▋       | 407/500 [2:02:53<27:33, 17.77s/it]"
     ]
    },
    {
     "name": "stdout",
     "output_type": "stream",
     "text": [
      "Epoch 407 \t\t Training Loss: 1.0993963394846236 \t\t Validation Loss: 1.105999517440796\n"
     ]
    },
    {
     "name": "stderr",
     "output_type": "stream",
     "text": [
      " 82%|███████████████████████████████▊       | 408/500 [2:03:11<27:23, 17.86s/it]"
     ]
    },
    {
     "name": "stdout",
     "output_type": "stream",
     "text": [
      "Epoch 408 \t\t Training Loss: 1.0988110516752516 \t\t Validation Loss: 1.1061533451080323\n"
     ]
    },
    {
     "name": "stderr",
     "output_type": "stream",
     "text": [
      " 82%|███████████████████████████████▉       | 409/500 [2:03:29<27:15, 17.97s/it]"
     ]
    },
    {
     "name": "stdout",
     "output_type": "stream",
     "text": [
      "Epoch 409 \t\t Training Loss: 1.0993546843528748 \t\t Validation Loss: 1.105542254447937\n"
     ]
    },
    {
     "name": "stderr",
     "output_type": "stream",
     "text": [
      " 82%|███████████████████████████████▉       | 410/500 [2:03:46<26:39, 17.77s/it]"
     ]
    },
    {
     "name": "stdout",
     "output_type": "stream",
     "text": [
      "Epoch 410 \t\t Training Loss: 1.0996926043714796 \t\t Validation Loss: 1.1069463968276978\n"
     ]
    },
    {
     "name": "stderr",
     "output_type": "stream",
     "text": [
      " 82%|████████████████████████████████       | 411/500 [2:04:04<26:20, 17.76s/it]"
     ]
    },
    {
     "name": "stdout",
     "output_type": "stream",
     "text": [
      "Epoch 411 \t\t Training Loss: 1.099786034652165 \t\t Validation Loss: 1.1070008754730225\n"
     ]
    },
    {
     "name": "stderr",
     "output_type": "stream",
     "text": [
      " 82%|████████████████████████████████▏      | 412/500 [2:04:21<25:52, 17.64s/it]"
     ]
    },
    {
     "name": "stdout",
     "output_type": "stream",
     "text": [
      "Epoch 412 \t\t Training Loss: 1.0988823899200983 \t\t Validation Loss: 1.1073745012283325\n"
     ]
    },
    {
     "name": "stderr",
     "output_type": "stream",
     "text": [
      " 83%|████████████████████████████████▏      | 413/500 [2:04:39<25:29, 17.59s/it]"
     ]
    },
    {
     "name": "stdout",
     "output_type": "stream",
     "text": [
      "Epoch 413 \t\t Training Loss: 1.0993112964289529 \t\t Validation Loss: 1.1076915264129639\n"
     ]
    },
    {
     "name": "stderr",
     "output_type": "stream",
     "text": [
      " 83%|████████████████████████████████▎      | 414/500 [2:04:56<25:13, 17.60s/it]"
     ]
    },
    {
     "name": "stdout",
     "output_type": "stream",
     "text": [
      "Epoch 414 \t\t Training Loss: 1.0998473508017403 \t\t Validation Loss: 1.1063687324523925\n"
     ]
    },
    {
     "name": "stderr",
     "output_type": "stream",
     "text": [
      " 83%|████████████████████████████████▎      | 415/500 [2:05:14<24:56, 17.61s/it]"
     ]
    },
    {
     "name": "stdout",
     "output_type": "stream",
     "text": [
      "Epoch 415 \t\t Training Loss: 1.0982100410120827 \t\t Validation Loss: 1.1055894851684571\n"
     ]
    },
    {
     "name": "stderr",
     "output_type": "stream",
     "text": [
      " 83%|████████████████████████████████▍      | 416/500 [2:05:31<24:36, 17.58s/it]"
     ]
    },
    {
     "name": "stdout",
     "output_type": "stream",
     "text": [
      "Epoch 416 \t\t Training Loss: 1.0982149498803275 \t\t Validation Loss: 1.1068231344223023\n"
     ]
    },
    {
     "name": "stderr",
     "output_type": "stream",
     "text": [
      " 83%|████████████████████████████████▌      | 417/500 [2:05:50<24:38, 17.81s/it]"
     ]
    },
    {
     "name": "stdout",
     "output_type": "stream",
     "text": [
      "Epoch 417 \t\t Training Loss: 1.099986038037709 \t\t Validation Loss: 1.1109271049499512\n"
     ]
    },
    {
     "name": "stderr",
     "output_type": "stream",
     "text": [
      " 84%|████████████████████████████████▌      | 418/500 [2:06:08<24:18, 17.78s/it]"
     ]
    },
    {
     "name": "stdout",
     "output_type": "stream",
     "text": [
      "Epoch 418 \t\t Training Loss: 1.0980854204722814 \t\t Validation Loss: 1.1049646854400634\n"
     ]
    },
    {
     "name": "stderr",
     "output_type": "stream",
     "text": [
      " 84%|████████████████████████████████▋      | 419/500 [2:06:25<23:52, 17.69s/it]"
     ]
    },
    {
     "name": "stdout",
     "output_type": "stream",
     "text": [
      "Epoch 419 \t\t Training Loss: 1.0992996054036277 \t\t Validation Loss: 1.1073534965515137\n"
     ]
    },
    {
     "name": "stderr",
     "output_type": "stream",
     "text": [
      " 84%|████████████████████████████████▊      | 420/500 [2:06:42<23:28, 17.61s/it]"
     ]
    },
    {
     "name": "stdout",
     "output_type": "stream",
     "text": [
      "Epoch 420 \t\t Training Loss: 1.1003465354442596 \t\t Validation Loss: 1.1071467876434327\n"
     ]
    },
    {
     "name": "stderr",
     "output_type": "stream",
     "text": [
      " 84%|████████████████████████████████▊      | 421/500 [2:07:00<23:17, 17.69s/it]"
     ]
    },
    {
     "name": "stdout",
     "output_type": "stream",
     "text": [
      "Epoch 421 \t\t Training Loss: 1.0985854991844721 \t\t Validation Loss: 1.103725838661194\n"
     ]
    },
    {
     "name": "stderr",
     "output_type": "stream",
     "text": [
      " 84%|████████████████████████████████▉      | 422/500 [2:07:19<23:12, 17.85s/it]"
     ]
    },
    {
     "name": "stdout",
     "output_type": "stream",
     "text": [
      "Epoch 422 \t\t Training Loss: 1.098967386143548 \t\t Validation Loss: 1.1102136373519897\n"
     ]
    },
    {
     "name": "stderr",
     "output_type": "stream",
     "text": [
      " 85%|████████████████████████████████▉      | 423/500 [2:07:37<23:03, 17.97s/it]"
     ]
    },
    {
     "name": "stdout",
     "output_type": "stream",
     "text": [
      "Epoch 423 \t\t Training Loss: 1.0982705056667328 \t\t Validation Loss: 1.1087307453155517\n"
     ]
    },
    {
     "name": "stderr",
     "output_type": "stream",
     "text": [
      " 85%|█████████████████████████████████      | 424/500 [2:07:55<22:42, 17.92s/it]"
     ]
    },
    {
     "name": "stdout",
     "output_type": "stream",
     "text": [
      "Epoch 424 \t\t Training Loss: 1.0987907946109772 \t\t Validation Loss: 1.1092413425445558\n"
     ]
    },
    {
     "name": "stderr",
     "output_type": "stream",
     "text": [
      " 85%|█████████████████████████████████▏     | 425/500 [2:08:12<22:22, 17.91s/it]"
     ]
    },
    {
     "name": "stdout",
     "output_type": "stream",
     "text": [
      "Epoch 425 \t\t Training Loss: 1.0981598326138087 \t\t Validation Loss: 1.1119211912155151\n"
     ]
    },
    {
     "name": "stderr",
     "output_type": "stream",
     "text": [
      " 85%|█████████████████████████████████▏     | 426/500 [2:08:30<22:00, 17.85s/it]"
     ]
    },
    {
     "name": "stdout",
     "output_type": "stream",
     "text": [
      "Epoch 426 \t\t Training Loss: 1.0994859891278403 \t\t Validation Loss: 1.1093024253845214\n"
     ]
    },
    {
     "name": "stderr",
     "output_type": "stream",
     "text": [
      " 85%|█████████████████████████████████▎     | 427/500 [2:08:48<21:39, 17.80s/it]"
     ]
    },
    {
     "name": "stdout",
     "output_type": "stream",
     "text": [
      "Epoch 427 \t\t Training Loss: 1.0994611552783422 \t\t Validation Loss: 1.107515525817871\n"
     ]
    },
    {
     "name": "stderr",
     "output_type": "stream",
     "text": [
      " 86%|█████████████████████████████████▍     | 428/500 [2:09:06<21:25, 17.85s/it]"
     ]
    },
    {
     "name": "stdout",
     "output_type": "stream",
     "text": [
      "Epoch 428 \t\t Training Loss: 1.0998020086969649 \t\t Validation Loss: 1.1078722476959229\n"
     ]
    },
    {
     "name": "stderr",
     "output_type": "stream",
     "text": [
      " 86%|█████████████████████████████████▍     | 429/500 [2:09:24<21:05, 17.82s/it]"
     ]
    },
    {
     "name": "stdout",
     "output_type": "stream",
     "text": [
      "Epoch 429 \t\t Training Loss: 1.0992184153624944 \t\t Validation Loss: 1.1051153182983398\n"
     ]
    },
    {
     "name": "stderr",
     "output_type": "stream",
     "text": [
      " 86%|█████████████████████████████████▌     | 430/500 [2:09:42<20:50, 17.87s/it]"
     ]
    },
    {
     "name": "stdout",
     "output_type": "stream",
     "text": [
      "Epoch 430 \t\t Training Loss: 1.0998240837029047 \t\t Validation Loss: 1.1100406169891357\n"
     ]
    },
    {
     "name": "stderr",
     "output_type": "stream",
     "text": [
      " 86%|█████████████████████████████████▌     | 431/500 [2:10:00<20:35, 17.91s/it]"
     ]
    },
    {
     "name": "stdout",
     "output_type": "stream",
     "text": [
      "Epoch 431 \t\t Training Loss: 1.1036954053810664 \t\t Validation Loss: 1.1069520950317382\n"
     ]
    },
    {
     "name": "stderr",
     "output_type": "stream",
     "text": [
      " 86%|█████████████████████████████████▋     | 432/500 [2:10:18<20:18, 17.92s/it]"
     ]
    },
    {
     "name": "stdout",
     "output_type": "stream",
     "text": [
      "Epoch 432 \t\t Training Loss: 1.0993988726820265 \t\t Validation Loss: 1.1037850379943848\n"
     ]
    },
    {
     "name": "stderr",
     "output_type": "stream",
     "text": [
      " 87%|█████████████████████████████████▊     | 433/500 [2:10:35<19:53, 17.81s/it]"
     ]
    },
    {
     "name": "stdout",
     "output_type": "stream",
     "text": [
      "Epoch 433 \t\t Training Loss: 1.0996406461511339 \t\t Validation Loss: 1.1054006338119506\n"
     ]
    },
    {
     "name": "stderr",
     "output_type": "stream",
     "text": [
      " 87%|█████████████████████████████████▊     | 434/500 [2:10:53<19:39, 17.87s/it]"
     ]
    },
    {
     "name": "stdout",
     "output_type": "stream",
     "text": [
      "Epoch 434 \t\t Training Loss: 1.09883194736072 \t\t Validation Loss: 1.1054614543914796\n"
     ]
    },
    {
     "name": "stderr",
     "output_type": "stream",
     "text": [
      " 87%|█████████████████████████████████▉     | 435/500 [2:11:11<19:17, 17.80s/it]"
     ]
    },
    {
     "name": "stdout",
     "output_type": "stream",
     "text": [
      "Epoch 435 \t\t Training Loss: 1.099463335105351 \t\t Validation Loss: 1.1063835382461549\n"
     ]
    },
    {
     "name": "stderr",
     "output_type": "stream",
     "text": [
      " 87%|██████████████████████████████████     | 436/500 [2:11:28<18:49, 17.65s/it]"
     ]
    },
    {
     "name": "stdout",
     "output_type": "stream",
     "text": [
      "Epoch 436 \t\t Training Loss: 1.0998638101986475 \t\t Validation Loss: 1.115685796737671\n"
     ]
    },
    {
     "name": "stderr",
     "output_type": "stream",
     "text": [
      " 87%|██████████████████████████████████     | 437/500 [2:11:46<18:30, 17.63s/it]"
     ]
    },
    {
     "name": "stdout",
     "output_type": "stream",
     "text": [
      "Epoch 437 \t\t Training Loss: 1.0998497647898537 \t\t Validation Loss: 1.108133029937744\n"
     ]
    },
    {
     "name": "stderr",
     "output_type": "stream",
     "text": [
      " 88%|██████████████████████████████████▏    | 438/500 [2:12:03<18:13, 17.64s/it]"
     ]
    },
    {
     "name": "stdout",
     "output_type": "stream",
     "text": [
      "Epoch 438 \t\t Training Loss: 1.101447194814682 \t\t Validation Loss: 1.1102058649063111\n"
     ]
    },
    {
     "name": "stderr",
     "output_type": "stream",
     "text": [
      " 88%|██████████████████████████████████▏    | 439/500 [2:12:21<17:56, 17.65s/it]"
     ]
    },
    {
     "name": "stdout",
     "output_type": "stream",
     "text": [
      "Epoch 439 \t\t Training Loss: 1.0966527249131883 \t\t Validation Loss: 1.1094122171401977\n"
     ]
    },
    {
     "name": "stderr",
     "output_type": "stream",
     "text": [
      " 88%|██████████████████████████████████▎    | 440/500 [2:12:39<17:38, 17.65s/it]"
     ]
    },
    {
     "name": "stdout",
     "output_type": "stream",
     "text": [
      "Epoch 440 \t\t Training Loss: 1.098714794431414 \t\t Validation Loss: 1.1148521423339843\n"
     ]
    },
    {
     "name": "stderr",
     "output_type": "stream",
     "text": [
      " 88%|██████████████████████████████████▍    | 441/500 [2:12:56<17:19, 17.62s/it]"
     ]
    },
    {
     "name": "stdout",
     "output_type": "stream",
     "text": [
      "Epoch 441 \t\t Training Loss: 1.0989836071218764 \t\t Validation Loss: 1.1095020771026611\n"
     ]
    },
    {
     "name": "stderr",
     "output_type": "stream",
     "text": [
      " 88%|██████████████████████████████████▍    | 442/500 [2:13:14<17:04, 17.67s/it]"
     ]
    },
    {
     "name": "stdout",
     "output_type": "stream",
     "text": [
      "Epoch 442 \t\t Training Loss: 1.1006800745214735 \t\t Validation Loss: 1.1176630496978759\n"
     ]
    },
    {
     "name": "stderr",
     "output_type": "stream",
     "text": [
      " 89%|██████████████████████████████████▌    | 443/500 [2:13:32<16:47, 17.68s/it]"
     ]
    },
    {
     "name": "stdout",
     "output_type": "stream",
     "text": [
      "Epoch 443 \t\t Training Loss: 1.0977338893072945 \t\t Validation Loss: 1.1081517934799194\n"
     ]
    },
    {
     "name": "stderr",
     "output_type": "stream",
     "text": [
      " 89%|██████████████████████████████████▋    | 444/500 [2:13:49<16:31, 17.70s/it]"
     ]
    },
    {
     "name": "stdout",
     "output_type": "stream",
     "text": [
      "Epoch 444 \t\t Training Loss: 1.1002465656825475 \t\t Validation Loss: 1.1139776706695557\n"
     ]
    },
    {
     "name": "stderr",
     "output_type": "stream",
     "text": [
      " 89%|██████████████████████████████████▋    | 445/500 [2:14:07<16:12, 17.69s/it]"
     ]
    },
    {
     "name": "stdout",
     "output_type": "stream",
     "text": [
      "Epoch 445 \t\t Training Loss: 1.0992803360734666 \t\t Validation Loss: 1.1066062211990357\n"
     ]
    },
    {
     "name": "stderr",
     "output_type": "stream",
     "text": [
      " 89%|██████████████████████████████████▊    | 446/500 [2:14:25<15:53, 17.65s/it]"
     ]
    },
    {
     "name": "stdout",
     "output_type": "stream",
     "text": [
      "Epoch 446 \t\t Training Loss: 1.0982831929411208 \t\t Validation Loss: 1.1109493255615235\n"
     ]
    },
    {
     "name": "stderr",
     "output_type": "stream",
     "text": [
      " 89%|██████████████████████████████████▊    | 447/500 [2:14:43<15:44, 17.82s/it]"
     ]
    },
    {
     "name": "stdout",
     "output_type": "stream",
     "text": [
      "Epoch 447 \t\t Training Loss: 1.0996926639761244 \t\t Validation Loss: 1.112659764289856\n"
     ]
    },
    {
     "name": "stderr",
     "output_type": "stream",
     "text": [
      " 90%|██████████████████████████████████▉    | 448/500 [2:15:00<15:20, 17.70s/it]"
     ]
    },
    {
     "name": "stdout",
     "output_type": "stream",
     "text": [
      "Epoch 448 \t\t Training Loss: 1.0973322263785772 \t\t Validation Loss: 1.1097701072692872\n"
     ]
    },
    {
     "name": "stderr",
     "output_type": "stream",
     "text": [
      " 90%|███████████████████████████████████    | 449/500 [2:15:18<15:01, 17.68s/it]"
     ]
    },
    {
     "name": "stdout",
     "output_type": "stream",
     "text": [
      "Epoch 449 \t\t Training Loss: 1.1006424171583993 \t\t Validation Loss: 1.1147401332855225\n"
     ]
    },
    {
     "name": "stderr",
     "output_type": "stream",
     "text": [
      " 90%|███████████████████████████████████    | 450/500 [2:15:36<14:48, 17.77s/it]"
     ]
    },
    {
     "name": "stdout",
     "output_type": "stream",
     "text": [
      "Epoch 450 \t\t Training Loss: 1.0989762502057212 \t\t Validation Loss: 1.1076285362243652\n"
     ]
    },
    {
     "name": "stderr",
     "output_type": "stream",
     "text": [
      " 90%|███████████████████████████████████▏   | 451/500 [2:15:53<14:27, 17.71s/it]"
     ]
    },
    {
     "name": "stdout",
     "output_type": "stream",
     "text": [
      "Epoch 451 \t\t Training Loss: 1.0985606610774994 \t\t Validation Loss: 1.1050443172454834\n"
     ]
    },
    {
     "name": "stderr",
     "output_type": "stream",
     "text": [
      " 90%|███████████████████████████████████▎   | 452/500 [2:16:11<14:09, 17.70s/it]"
     ]
    },
    {
     "name": "stdout",
     "output_type": "stream",
     "text": [
      "Epoch 452 \t\t Training Loss: 1.0992599853447504 \t\t Validation Loss: 1.1143428087234497\n"
     ]
    },
    {
     "name": "stderr",
     "output_type": "stream",
     "text": [
      " 91%|███████████████████████████████████▎   | 453/500 [2:16:29<13:56, 17.80s/it]"
     ]
    },
    {
     "name": "stdout",
     "output_type": "stream",
     "text": [
      "Epoch 453 \t\t Training Loss: 1.0980949018682753 \t\t Validation Loss: 1.1110590934753417\n"
     ]
    },
    {
     "name": "stderr",
     "output_type": "stream",
     "text": [
      " 91%|███████████████████████████████████▍   | 454/500 [2:16:47<13:42, 17.88s/it]"
     ]
    },
    {
     "name": "stdout",
     "output_type": "stream",
     "text": [
      "Epoch 454 \t\t Training Loss: 1.098723543541772 \t\t Validation Loss: 1.1114552974700929\n"
     ]
    },
    {
     "name": "stderr",
     "output_type": "stream",
     "text": [
      " 91%|███████████████████████████████████▍   | 455/500 [2:17:05<13:26, 17.93s/it]"
     ]
    },
    {
     "name": "stdout",
     "output_type": "stream",
     "text": [
      "Epoch 455 \t\t Training Loss: 1.097016372850963 \t\t Validation Loss: 1.1093552350997924\n"
     ]
    },
    {
     "name": "stderr",
     "output_type": "stream",
     "text": [
      " 91%|███████████████████████████████████▌   | 456/500 [2:17:23<13:02, 17.77s/it]"
     ]
    },
    {
     "name": "stdout",
     "output_type": "stream",
     "text": [
      "Epoch 456 \t\t Training Loss: 1.1011084956782204 \t\t Validation Loss: 1.116653561592102\n"
     ]
    },
    {
     "name": "stderr",
     "output_type": "stream",
     "text": [
      " 91%|███████████████████████████████████▋   | 457/500 [2:17:40<12:39, 17.66s/it]"
     ]
    },
    {
     "name": "stdout",
     "output_type": "stream",
     "text": [
      "Epoch 457 \t\t Training Loss: 1.100302015032087 \t\t Validation Loss: 1.1062222719192505\n"
     ]
    },
    {
     "name": "stderr",
     "output_type": "stream",
     "text": [
      " 92%|███████████████████████████████████▋   | 458/500 [2:17:58<12:21, 17.66s/it]"
     ]
    },
    {
     "name": "stdout",
     "output_type": "stream",
     "text": [
      "Epoch 458 \t\t Training Loss: 1.0990251174994878 \t\t Validation Loss: 1.1057589292526244\n"
     ]
    },
    {
     "name": "stderr",
     "output_type": "stream",
     "text": [
      " 92%|███████████████████████████████████▊   | 459/500 [2:18:15<12:04, 17.67s/it]"
     ]
    },
    {
     "name": "stdout",
     "output_type": "stream",
     "text": [
      "Epoch 459 \t\t Training Loss: 1.0977320117609841 \t\t Validation Loss: 1.1109996080398559\n"
     ]
    },
    {
     "name": "stderr",
     "output_type": "stream",
     "text": [
      " 92%|███████████████████████████████████▉   | 460/500 [2:18:33<11:45, 17.63s/it]"
     ]
    },
    {
     "name": "stdout",
     "output_type": "stream",
     "text": [
      "Epoch 460 \t\t Training Loss: 1.0983024324689592 \t\t Validation Loss: 1.1124608755111693\n"
     ]
    },
    {
     "name": "stderr",
     "output_type": "stream",
     "text": [
      " 92%|███████████████████████████████████▉   | 461/500 [2:18:51<11:32, 17.76s/it]"
     ]
    },
    {
     "name": "stdout",
     "output_type": "stream",
     "text": [
      "Epoch 461 \t\t Training Loss: 1.0980220649923598 \t\t Validation Loss: 1.1112292528152465\n"
     ]
    },
    {
     "name": "stderr",
     "output_type": "stream",
     "text": [
      " 92%|████████████████████████████████████   | 462/500 [2:19:09<11:16, 17.80s/it]"
     ]
    },
    {
     "name": "stdout",
     "output_type": "stream",
     "text": [
      "Epoch 462 \t\t Training Loss: 1.0993012019566126 \t\t Validation Loss: 1.1153020143508912\n"
     ]
    },
    {
     "name": "stderr",
     "output_type": "stream",
     "text": [
      " 93%|████████████████████████████████████   | 463/500 [2:19:27<11:00, 17.85s/it]"
     ]
    },
    {
     "name": "stdout",
     "output_type": "stream",
     "text": [
      "Epoch 463 \t\t Training Loss: 1.100409414087023 \t\t Validation Loss: 1.1110002756118775\n"
     ]
    },
    {
     "name": "stderr",
     "output_type": "stream",
     "text": [
      " 93%|████████████████████████████████████▏  | 464/500 [2:19:44<10:36, 17.68s/it]"
     ]
    },
    {
     "name": "stdout",
     "output_type": "stream",
     "text": [
      "Epoch 464 \t\t Training Loss: 1.0970919302531652 \t\t Validation Loss: 1.1069177865982056\n"
     ]
    },
    {
     "name": "stderr",
     "output_type": "stream",
     "text": [
      " 93%|████████████████████████████████████▎  | 465/500 [2:20:02<10:20, 17.74s/it]"
     ]
    },
    {
     "name": "stdout",
     "output_type": "stream",
     "text": [
      "Epoch 465 \t\t Training Loss: 1.09754855292184 \t\t Validation Loss: 1.1091789960861207\n"
     ]
    },
    {
     "name": "stderr",
     "output_type": "stream",
     "text": [
      " 93%|████████████████████████████████████▎  | 466/500 [2:20:20<10:02, 17.73s/it]"
     ]
    },
    {
     "name": "stdout",
     "output_type": "stream",
     "text": [
      "Epoch 466 \t\t Training Loss: 1.1001026970999581 \t\t Validation Loss: 1.1149797201156617\n"
     ]
    },
    {
     "name": "stderr",
     "output_type": "stream",
     "text": [
      " 93%|████████████████████████████████████▍  | 467/500 [2:20:38<09:51, 17.92s/it]"
     ]
    },
    {
     "name": "stdout",
     "output_type": "stream",
     "text": [
      "Epoch 467 \t\t Training Loss: 1.0996401437691279 \t\t Validation Loss: 1.1107821226119996\n"
     ]
    },
    {
     "name": "stderr",
     "output_type": "stream",
     "text": [
      " 94%|████████████████████████████████████▌  | 468/500 [2:20:56<09:33, 17.92s/it]"
     ]
    },
    {
     "name": "stdout",
     "output_type": "stream",
     "text": [
      "Epoch 468 \t\t Training Loss: 1.0971174921308244 \t\t Validation Loss: 1.1090890407562255\n"
     ]
    },
    {
     "name": "stderr",
     "output_type": "stream",
     "text": [
      " 94%|████████████████████████████████████▌  | 469/500 [2:21:14<09:15, 17.91s/it]"
     ]
    },
    {
     "name": "stdout",
     "output_type": "stream",
     "text": [
      "Epoch 469 \t\t Training Loss: 1.0993237027100153 \t\t Validation Loss: 1.1130505561828614\n"
     ]
    },
    {
     "name": "stderr",
     "output_type": "stream",
     "text": [
      " 94%|████████████████████████████████████▋  | 470/500 [2:21:32<08:54, 17.82s/it]"
     ]
    },
    {
     "name": "stdout",
     "output_type": "stream",
     "text": [
      "Epoch 470 \t\t Training Loss: 1.101338314158576 \t\t Validation Loss: 1.11551833152771\n"
     ]
    },
    {
     "name": "stderr",
     "output_type": "stream",
     "text": [
      " 94%|████████████████████████████████████▋  | 471/500 [2:21:50<08:42, 18.01s/it]"
     ]
    },
    {
     "name": "stdout",
     "output_type": "stream",
     "text": [
      "Epoch 471 \t\t Training Loss: 1.0989703110286169 \t\t Validation Loss: 1.1073358535766602\n"
     ]
    },
    {
     "name": "stderr",
     "output_type": "stream",
     "text": [
      " 94%|████████████████████████████████████▊  | 472/500 [2:22:07<08:20, 17.86s/it]"
     ]
    },
    {
     "name": "stdout",
     "output_type": "stream",
     "text": [
      "Epoch 472 \t\t Training Loss: 1.0982928020613534 \t\t Validation Loss: 1.1087610960006713\n"
     ]
    },
    {
     "name": "stderr",
     "output_type": "stream",
     "text": [
      " 95%|████████████████████████████████████▉  | 473/500 [2:22:25<08:00, 17.79s/it]"
     ]
    },
    {
     "name": "stdout",
     "output_type": "stream",
     "text": [
      "Epoch 473 \t\t Training Loss: 1.0984179547854833 \t\t Validation Loss: 1.1091310262680054\n"
     ]
    },
    {
     "name": "stderr",
     "output_type": "stream",
     "text": [
      " 95%|████████████████████████████████████▉  | 474/500 [2:22:42<07:38, 17.65s/it]"
     ]
    },
    {
     "name": "stdout",
     "output_type": "stream",
     "text": [
      "Epoch 474 \t\t Training Loss: 1.0992399454116821 \t\t Validation Loss: 1.1112408876419066\n"
     ]
    },
    {
     "name": "stderr",
     "output_type": "stream",
     "text": [
      " 95%|█████████████████████████████████████  | 475/500 [2:23:00<07:22, 17.69s/it]"
     ]
    },
    {
     "name": "stdout",
     "output_type": "stream",
     "text": [
      "Epoch 475 \t\t Training Loss: 1.0967639642102378 \t\t Validation Loss: 1.1084559440612793\n"
     ]
    },
    {
     "name": "stderr",
     "output_type": "stream",
     "text": [
      " 95%|█████████████████████████████████████▏ | 476/500 [2:23:18<07:04, 17.67s/it]"
     ]
    },
    {
     "name": "stdout",
     "output_type": "stream",
     "text": [
      "Epoch 476 \t\t Training Loss: 1.0979650148323603 \t\t Validation Loss: 1.1146701097488403\n"
     ]
    },
    {
     "name": "stderr",
     "output_type": "stream",
     "text": [
      " 95%|█████████████████████████████████████▏ | 477/500 [2:23:36<06:48, 17.75s/it]"
     ]
    },
    {
     "name": "stdout",
     "output_type": "stream",
     "text": [
      "Epoch 477 \t\t Training Loss: 1.0996990927628107 \t\t Validation Loss: 1.1104197025299072\n"
     ]
    },
    {
     "name": "stderr",
     "output_type": "stream",
     "text": [
      " 96%|█████████████████████████████████████▎ | 478/500 [2:23:54<06:32, 17.82s/it]"
     ]
    },
    {
     "name": "stdout",
     "output_type": "stream",
     "text": [
      "Epoch 478 \t\t Training Loss: 1.0997417654309953 \t\t Validation Loss: 1.1075911045074462\n"
     ]
    },
    {
     "name": "stderr",
     "output_type": "stream",
     "text": [
      " 96%|█████████████████████████████████████▎ | 479/500 [2:24:12<06:17, 17.99s/it]"
     ]
    },
    {
     "name": "stdout",
     "output_type": "stream",
     "text": [
      "Epoch 479 \t\t Training Loss: 1.0989713328225272 \t\t Validation Loss: 1.108420205116272\n"
     ]
    },
    {
     "name": "stderr",
     "output_type": "stream",
     "text": [
      " 96%|█████████████████████████████████████▍ | 480/500 [2:24:30<05:58, 17.92s/it]"
     ]
    },
    {
     "name": "stdout",
     "output_type": "stream",
     "text": [
      "Epoch 480 \t\t Training Loss: 1.0996419319084711 \t\t Validation Loss: 1.108189868927002\n"
     ]
    },
    {
     "name": "stderr",
     "output_type": "stream",
     "text": [
      " 96%|█████████████████████████████████████▌ | 481/500 [2:24:48<05:39, 17.86s/it]"
     ]
    },
    {
     "name": "stdout",
     "output_type": "stream",
     "text": [
      "Epoch 481 \t\t Training Loss: 1.1003025088991438 \t\t Validation Loss: 1.1020227432250977\n"
     ]
    },
    {
     "name": "stderr",
     "output_type": "stream",
     "text": [
      " 96%|█████████████████████████████████████▌ | 482/500 [2:25:05<05:20, 17.80s/it]"
     ]
    },
    {
     "name": "stdout",
     "output_type": "stream",
     "text": [
      "Epoch 482 \t\t Training Loss: 1.0995648120130812 \t\t Validation Loss: 1.1016003131866454\n"
     ]
    },
    {
     "name": "stderr",
     "output_type": "stream",
     "text": [
      " 97%|█████████████████████████████████████▋ | 483/500 [2:25:24<05:05, 17.95s/it]"
     ]
    },
    {
     "name": "stdout",
     "output_type": "stream",
     "text": [
      "Epoch 483 \t\t Training Loss: 1.0991403886250086 \t\t Validation Loss: 1.1094498872756957\n"
     ]
    },
    {
     "name": "stderr",
     "output_type": "stream",
     "text": [
      " 97%|█████████████████████████████████████▊ | 484/500 [2:25:42<04:47, 17.98s/it]"
     ]
    },
    {
     "name": "stdout",
     "output_type": "stream",
     "text": [
      "Epoch 484 \t\t Training Loss: 1.100274303129741 \t\t Validation Loss: 1.1092690467834472\n"
     ]
    },
    {
     "name": "stderr",
     "output_type": "stream",
     "text": [
      " 97%|█████████████████████████████████████▊ | 485/500 [2:25:59<04:27, 17.86s/it]"
     ]
    },
    {
     "name": "stdout",
     "output_type": "stream",
     "text": [
      "Epoch 485 \t\t Training Loss: 1.099568975823266 \t\t Validation Loss: 1.10576434135437\n"
     ]
    },
    {
     "name": "stderr",
     "output_type": "stream",
     "text": [
      " 97%|█████████████████████████████████████▉ | 486/500 [2:26:17<04:09, 17.80s/it]"
     ]
    },
    {
     "name": "stdout",
     "output_type": "stream",
     "text": [
      "Epoch 486 \t\t Training Loss: 1.0988028177193232 \t\t Validation Loss: 1.105729866027832\n"
     ]
    },
    {
     "name": "stderr",
     "output_type": "stream",
     "text": [
      " 97%|█████████████████████████████████████▉ | 487/500 [2:26:34<03:50, 17.71s/it]"
     ]
    },
    {
     "name": "stdout",
     "output_type": "stream",
     "text": [
      "Epoch 487 \t\t Training Loss: 1.0999509819916315 \t\t Validation Loss: 1.107844352722168\n"
     ]
    },
    {
     "name": "stderr",
     "output_type": "stream",
     "text": [
      " 98%|██████████████████████████████████████ | 488/500 [2:26:52<03:31, 17.66s/it]"
     ]
    },
    {
     "name": "stdout",
     "output_type": "stream",
     "text": [
      "Epoch 488 \t\t Training Loss: 1.10037647826331 \t\t Validation Loss: 1.103009533882141\n"
     ]
    },
    {
     "name": "stderr",
     "output_type": "stream",
     "text": [
      " 98%|██████████████████████████████████████▏| 489/500 [2:27:10<03:14, 17.68s/it]"
     ]
    },
    {
     "name": "stdout",
     "output_type": "stream",
     "text": [
      "Epoch 489 \t\t Training Loss: 1.0986678302288055 \t\t Validation Loss: 1.1035775184631347\n"
     ]
    },
    {
     "name": "stderr",
     "output_type": "stream",
     "text": [
      " 98%|██████████████████████████████████████▏| 490/500 [2:27:27<02:56, 17.64s/it]"
     ]
    },
    {
     "name": "stdout",
     "output_type": "stream",
     "text": [
      "Epoch 490 \t\t Training Loss: 1.0993176060063499 \t\t Validation Loss: 1.1092700004577636\n"
     ]
    },
    {
     "name": "stderr",
     "output_type": "stream",
     "text": [
      " 98%|██████████████████████████████████████▎| 491/500 [2:27:45<02:40, 17.79s/it]"
     ]
    },
    {
     "name": "stdout",
     "output_type": "stream",
     "text": [
      "Epoch 491 \t\t Training Loss: 1.098200227533068 \t\t Validation Loss: 1.1088669776916504\n"
     ]
    },
    {
     "name": "stderr",
     "output_type": "stream",
     "text": [
      " 98%|██████████████████████████████████████▍| 492/500 [2:28:03<02:21, 17.66s/it]"
     ]
    },
    {
     "name": "stdout",
     "output_type": "stream",
     "text": [
      "Epoch 492 \t\t Training Loss: 1.0969034390790122 \t\t Validation Loss: 1.1075481176376343\n"
     ]
    },
    {
     "name": "stderr",
     "output_type": "stream",
     "text": [
      " 99%|██████████████████████████████████████▍| 493/500 [2:28:21<02:04, 17.72s/it]"
     ]
    },
    {
     "name": "stdout",
     "output_type": "stream",
     "text": [
      "Epoch 493 \t\t Training Loss: 1.1001709273883276 \t\t Validation Loss: 1.1151453971862793\n"
     ]
    },
    {
     "name": "stderr",
     "output_type": "stream",
     "text": [
      " 99%|██████████████████████████████████████▌| 494/500 [2:28:38<01:46, 17.71s/it]"
     ]
    },
    {
     "name": "stdout",
     "output_type": "stream",
     "text": [
      "Epoch 494 \t\t Training Loss: 1.0981285529477256 \t\t Validation Loss: 1.1125287771224976\n"
     ]
    },
    {
     "name": "stderr",
     "output_type": "stream",
     "text": [
      " 99%|██████████████████████████████████████▌| 495/500 [2:28:56<01:28, 17.66s/it]"
     ]
    },
    {
     "name": "stdout",
     "output_type": "stream",
     "text": [
      "Epoch 495 \t\t Training Loss: 1.0992637915270669 \t\t Validation Loss: 1.108001160621643\n"
     ]
    },
    {
     "name": "stderr",
     "output_type": "stream",
     "text": [
      " 99%|██████████████████████████████████████▋| 496/500 [2:29:13<01:10, 17.67s/it]"
     ]
    },
    {
     "name": "stdout",
     "output_type": "stream",
     "text": [
      "Epoch 496 \t\t Training Loss: 1.1007495011602129 \t\t Validation Loss: 1.10775146484375\n"
     ]
    },
    {
     "name": "stderr",
     "output_type": "stream",
     "text": [
      " 99%|██████████████████████████████████████▊| 497/500 [2:29:31<00:52, 17.65s/it]"
     ]
    },
    {
     "name": "stdout",
     "output_type": "stream",
     "text": [
      "Epoch 497 \t\t Training Loss: 1.0995180010795593 \t\t Validation Loss: 1.1041037321090699\n"
     ]
    },
    {
     "name": "stderr",
     "output_type": "stream",
     "text": [
      "100%|██████████████████████████████████████▊| 498/500 [2:29:49<00:35, 17.63s/it]"
     ]
    },
    {
     "name": "stdout",
     "output_type": "stream",
     "text": [
      "Epoch 498 \t\t Training Loss: 1.0986364952155523 \t\t Validation Loss: 1.113127303123474\n"
     ]
    },
    {
     "name": "stderr",
     "output_type": "stream",
     "text": [
      "100%|██████████████████████████████████████▉| 499/500 [2:30:06<00:17, 17.61s/it]"
     ]
    },
    {
     "name": "stdout",
     "output_type": "stream",
     "text": [
      "Epoch 499 \t\t Training Loss: 1.0985225566795893 \t\t Validation Loss: 1.109253191947937\n"
     ]
    },
    {
     "name": "stderr",
     "output_type": "stream",
     "text": [
      "100%|███████████████████████████████████████| 500/500 [2:30:24<00:00, 18.05s/it]"
     ]
    },
    {
     "name": "stdout",
     "output_type": "stream",
     "text": [
      "Epoch 500 \t\t Training Loss: 1.1000402101448603 \t\t Validation Loss: 1.1141369342803955\n"
     ]
    },
    {
     "name": "stderr",
     "output_type": "stream",
     "text": [
      "\n"
     ]
    }
   ],
   "source": [
    "from tqdm import tqdm \n",
    "\n",
    "# initialize list of losses vs. epochs\n",
    "train_loss_list = []\n",
    "train_acc_list = []\n",
    "val_loss_list = []\n",
    "val_acc_list = []\n",
    "\n",
    "def train(model, train_loader, validloader, optimizer, criterion, max_epochs=50):\n",
    "    epoch_num=1\n",
    "    for epoch in tqdm(range(max_epochs)):\n",
    "        #  initialize average loss value\n",
    "        train_loss_mean = 0\n",
    "        valid_loss_mean = 0\n",
    "        # Train 1 Epoch: loop over batches\n",
    "        for batch_idx, batch in enumerate(train_loader):\n",
    "            # Train 1 batch\n",
    "            # organize batch to samples and tragets\n",
    "            samples, targets = batch\n",
    "            # zero the optimizer gradients\n",
    "            optimizer.zero_grad()\n",
    "            # Forward pass\n",
    "            outputs = model(samples)\n",
    "            # Calculate loss\n",
    "            loss=criterion(outputs, targets)\n",
    "            # Back-propagation\n",
    "            loss.backward()\n",
    "            # optimizer step\n",
    "            optimizer.step()\n",
    "            # aggregate loss\n",
    "            train_loss_mean += loss.item()\n",
    "        #train_loss_mean /= (batch_idx + 1)\n",
    "        \n",
    "        \n",
    "        model.eval()     # Optional when not using Model Specific layer\n",
    "        for data, labels in validloader:\n",
    "            # Forward Pass\n",
    "            target = model(data)\n",
    "            # Find the Loss\n",
    "            loss = criterion(target,labels)\n",
    "            # Calculate Loss\n",
    "            valid_loss_mean += loss.item()\n",
    "        \n",
    "        # Normalize loss\n",
    "        train_loss_mean /= len(train_loader)\n",
    "        valid_loss_mean /= len(validloader)\n",
    "        \n",
    "        print(f'Epoch {epoch_num} \\t\\t Training Loss: {(train_loss_mean)} \\t\\t Validation Loss: {(valid_loss_mean)}')\n",
    "        #print('Loss: {}, Epoch: {}'.format(loss_mean, epoch_num))\n",
    "        epoch_num+=1\n",
    "        # Add loss to list\n",
    "        train_loss_list.append(train_loss_mean)\n",
    "        val_loss_list.append(valid_loss_mean)\n",
    "    return train_loss_list,val_loss_list\n",
    "train_loss_list, val_loss_list = train(model,train_dataloader,validation_dataloader,optimizer,criterion,max_epochs)"
   ]
  },
  {
   "cell_type": "code",
   "execution_count": 309,
   "id": "7f6c5b95-59c7-42b8-a7f6-04ee01c1cd42",
   "metadata": {},
   "outputs": [
    {
     "data": {
      "image/png": "[encoded data removed]",
      "text/plain": [
       "<Figure size 432x288 with 1 Axes>"
      ]
     },
     "metadata": {
      "needs_background": "light"
     },
     "output_type": "display_data"
    }
   ],
   "source": [
    "import matplotlib.pyplot as plt\n",
    "import math\n",
    "def plot_loss(train_loss_list,val_loss_list):\n",
    "    epochs_axis=np.arange(len(train_loss_list))+1\n",
    "    xticks = range(math.floor(min(epochs_axis)), math.ceil(max(epochs_axis))+1,int(len(train_loss_list)/5))\n",
    "    plt.figure()\n",
    "    plt.plot(epochs_axis,train_loss_list)\n",
    "    plt.plot(epochs_axis,val_loss_list)\n",
    "    plt.title('Loss Curve - {} Epochs'.format(len(epochs_axis)))\n",
    "    plt.xticks(xticks)\n",
    "    plt.show()\n",
    "\n",
    "plot_loss(train_loss_list,val_loss_list)"
   ]
  },
  {
   "cell_type": "code",
   "execution_count": 310,
   "id": "108ae8d3-8f53-46d6-b922-43c900d0a6d6",
   "metadata": {},
   "outputs": [],
   "source": [
    "PATH = './dudi_resnet18_500ep_1e-1lr.pth'\n",
    "torch.save(model.state_dict(), PATH)\n",
    "#model.load_state_dict(torch.load(PATH))"
   ]
  },
  {
   "cell_type": "code",
   "execution_count": 319,
   "id": "59f66fa5-6c20-414a-abd6-f5ce2fa9565f",
   "metadata": {},
   "outputs": [],
   "source": [
    "#Load test dataset\n",
    "test_data = CustomImageDataset(test_annotations_file_path,test_dataset_path,preprocess)\n",
    "test_dataloader = DataLoader(test_data, batch_size=batch_size, shuffle=True)"
   ]
  },
  {
   "cell_type": "code",
   "execution_count": 320,
   "id": "05692e50-b132-4d57-bd88-2f66b7d71d9d",
   "metadata": {},
   "outputs": [],
   "source": [
    "dataiter = iter(test_dataloader)\n",
    "images, labels = dataiter.next()"
   ]
  },
  {
   "cell_type": "code",
   "execution_count": 321,
   "id": "a21369ab-874c-4379-86fd-b99495e9fce2",
   "metadata": {},
   "outputs": [
    {
     "name": "stderr",
     "output_type": "stream",
     "text": [
      "Clipping input data to the valid range for imshow with RGB data ([0..1] for floats or [0..255] for integers).\n"
     ]
    },
    {
     "data": {
      "image/png": "[encoded data removed]",
      "text/plain": [
       "<Figure size 1080x1080 with 1 Axes>"
      ]
     },
     "metadata": {
      "needs_background": "light"
     },
     "output_type": "display_data"
    },
    {
     "name": "stdout",
     "output_type": "stream",
     "text": [
      "GroundTruth:  benign malignant benign malignant malignant\n"
     ]
    }
   ],
   "source": [
    "#Show test images and their label\n",
    "num_images_to_show=5\n",
    "imshow(torchvision.utils.make_grid(images[0:num_images_to_show]))\n",
    "print('GroundTruth: ', ' '.join(f'{classes[labels[j]]:5s}' for j in range(num_images_to_show)))"
   ]
  },
  {
   "cell_type": "code",
   "execution_count": 322,
   "id": "9164e9a6-c66b-4e97-8273-2d950a8dd766",
   "metadata": {},
   "outputs": [],
   "source": [
    "outputs = model(images)"
   ]
  },
  {
   "cell_type": "code",
   "execution_count": 323,
   "id": "3ef80a3e-f5d0-40c8-a8cb-8c62540f4dd9",
   "metadata": {
    "tags": []
   },
   "outputs": [
    {
     "name": "stdout",
     "output_type": "stream",
     "text": [
      "Predicted:  malignant malignant malignant malignant malignant\n"
     ]
    }
   ],
   "source": [
    "#Print test images predictions\n",
    "_, predicted = torch.max(outputs, 1)\n",
    "\n",
    "print('Predicted: ', ' '.join(f'{classes[predicted[j]]:5s}'\n",
    "                              for j in range(5)))"
   ]
  },
  {
   "cell_type": "code",
   "execution_count": 324,
   "id": "60f46d39-d830-4e27-b110-8441d0b20820",
   "metadata": {},
   "outputs": [
    {
     "name": "stdout",
     "output_type": "stream",
     "text": [
      "Accuracy of the network on the train images: 35 %\n"
     ]
    }
   ],
   "source": [
    "#Accuracy of total train images\n",
    "correct = 0\n",
    "total = 0\n",
    "# since we're not training, we don't need to calculate the gradients for our outputs\n",
    "with torch.no_grad():\n",
    "    for data in train_dataloader:\n",
    "        images, labels = data\n",
    "        # calculate outputs by running images through the network\n",
    "        outputs = model(images)\n",
    "        # the class with the highest energy is what we choose as prediction\n",
    "        _, predicted = torch.max(outputs.data, 1)\n",
    "        total += labels.size(0)\n",
    "        correct += (predicted == labels).sum().item()\n",
    "\n",
    "print(f'Accuracy of the network on the train images: {100 * correct // total} %')"
   ]
  },
  {
   "cell_type": "code",
   "execution_count": 318,
   "id": "db405251-49f9-4128-ac95-33770aed51d5",
   "metadata": {},
   "outputs": [
    {
     "name": "stdout",
     "output_type": "stream",
     "text": [
      "Accuracy of the network on the test images: 22 %\n"
     ]
    }
   ],
   "source": [
    "#Accuracy of total test images\n",
    "correct = 0\n",
    "total = 0\n",
    "# since we're not training, we don't need to calculate the gradients for our outputs\n",
    "with torch.no_grad():\n",
    "    for data in test_dataloader:\n",
    "        images, labels = data\n",
    "        # calculate outputs by running images through the network\n",
    "        outputs = model(images)\n",
    "        # the class with the highest energy is what we choose as prediction\n",
    "        _, predicted = torch.max(outputs.data, 1)\n",
    "        total += labels.size(0)\n",
    "        correct += (predicted == labels).sum().item()\n",
    "\n",
    "print(f'Accuracy of the network on the test images: {100 * correct // total} %')"
   ]
  },
  {
   "cell_type": "code",
   "execution_count": 685,
   "id": "d6304046-e18b-4a5d-996a-b60abb53ec11",
   "metadata": {},
   "outputs": [
    {
     "name": "stdout",
     "output_type": "stream",
     "text": [
      "Accuracy of train for class: benign is 89.7 %\n",
      "Accuracy of train for class: normal is 100.0 %\n",
      "Accuracy of train for class: malignant is 99.1 %\n"
     ]
    }
   ],
   "source": [
    "#Accuracy of train images by class\n",
    "correct_pred = {classname: 0 for classname in classes}\n",
    "total_pred = {classname: 0 for classname in classes}\n",
    "\n",
    "with torch.no_grad():\n",
    "    for data in train_dataloader:\n",
    "        images, labels = data\n",
    "        outputs = model(images)\n",
    "        _, predictions = torch.max(outputs, 1)\n",
    "        # collect the correct predictions for each class\n",
    "        for label, prediction in zip(labels, predictions):\n",
    "            if label == prediction:\n",
    "                correct_pred[classes[label-1]] += 1\n",
    "            total_pred[classes[label-1]] += 1\n",
    "\n",
    "for classname, correct_count in correct_pred.items():\n",
    "    accuracy = 100 * float(correct_count) / total_pred[classname]\n",
    "    print(f'Accuracy of train for class: {classname:5s} is {accuracy:.1f} %')"
   ]
  },
  {
   "cell_type": "code",
   "execution_count": 686,
   "id": "4eb8fbd3-4816-4d3c-b5a3-1014abdd4302",
   "metadata": {
    "tags": []
   },
   "outputs": [
    {
     "name": "stdout",
     "output_type": "stream",
     "text": [
      "Accuracy of test for class: benign is 61.5 %\n",
      "Accuracy of test for class: normal is 79.6 %\n",
      "Accuracy of test for class: malignant is 53.3 %\n"
     ]
    }
   ],
   "source": [
    "#Accuracy of test images by class\n",
    "correct_pred = {classname: 0 for classname in classes}\n",
    "total_pred = {classname: 0 for classname in classes}\n",
    "\n",
    "with torch.no_grad():\n",
    "    for data in test_dataloader:\n",
    "        images, labels = data\n",
    "        outputs = model(images)\n",
    "        _, predictions = torch.max(outputs, 1)\n",
    "        # collect the correct predictions for each class\n",
    "        for label, prediction in zip(labels, predictions):\n",
    "            if label == prediction:\n",
    "                correct_pred[classes[label-1]] += 1\n",
    "            total_pred[classes[label-1]] += 1\n",
    "\n",
    "for classname, correct_count in correct_pred.items():\n",
    "    accuracy = 100 * float(correct_count) / total_pred[classname]\n",
    "    print(f'Accuracy of test for class: {classname:5s} is {accuracy:.1f} %')"
   ]
  },
  {
   "cell_type": "code",
   "execution_count": 687,
   "id": "3f9d49d5-9c95-4dd9-b47a-25e10f34642e",
   "metadata": {},
   "outputs": [
    {
     "data": {
      "text/plain": [
       "<AxesSubplot:>"
      ]
     },
     "execution_count": 687,
     "metadata": {},
     "output_type": "execute_result"
    },
    {
     "data": {
      "image/png": "[encoded data removed]",
      "text/plain": [
       "<Figure size 864x504 with 2 Axes>"
      ]
     },
     "metadata": {
      "needs_background": "light"
     },
     "output_type": "display_data"
    }
   ],
   "source": [
    "#Confusion matrix\n",
    "from sklearn.metrics import confusion_matrix\n",
    "import seaborn as sn\n",
    "import pandas as pd\n",
    "\n",
    "y_pred = []\n",
    "y_true = []\n",
    "\n",
    "# iterate over test data\n",
    "for inputs, labels in test_dataloader:\n",
    "        output = model(inputs) # Feed Network\n",
    "        labels = labels.data.cpu().numpy()\n",
    "        y_true.extend(labels) # Save Truth\n",
    "        output = (torch.max(torch.exp(output), 1)[1]).data.cpu().numpy()\n",
    "        y_pred.extend(output) # Save Prediction\n",
    "        \n",
    "\n",
    "\n",
    "\n",
    "# Build confusion matrix\n",
    "cf_matrix = confusion_matrix(y_true, y_pred)\n",
    "df_cm = pd.DataFrame(cf_matrix/np.sum(cf_matrix) *10, index = [i for i in classes],\n",
    "                     columns = [i for i in classes])\n",
    "plt.figure(figsize = (12,7))\n",
    "sn.heatmap(df_cm, annot=True)\n",
    "#plt.savefig('output.png')"
   ]
  },
  {
   "cell_type": "markdown",
   "id": "b28f6420-7b92-442c-a968-fa83a0ddde03",
   "metadata": {},
   "source": [
    "Intermediate Summary:\n",
    "Net results are not good enough, it seems from confusion matrix that model is biased to classify to benign label. Here are some possible issues and solutions.\n",
    "\n",
    "| Possible issue | Possible solution |\n",
    "| --- | --- |\n",
    "| Lack of data | Download more data. Change train to test ratio and check again. |\n",
    "| --- | --- |\n",
    "| Transform Parameters | Change Resize method. Change normalize value (mean,std.) |\n",
    "| --- | --- |\n",
    "| Hyper Parameters | Change learning rate, batch size, loss function, optimizer. |\n",
    "| --- | --- |\n",
    "| Classes similarity | Train and test the model for normal and malignant (best and worst case). Without benign (middle case). |\n",
    "\n",
    "\n",
    "\n",
    "\n",
    "\n",
    "\n",
    "\n",
    "\n",
    "\n",
    "\n",
    "\n"
   ]
  }
 ],
 "metadata": {
  "kernelspec": {
   "display_name": "Python 3 (ipykernel)",
   "language": "python",
   "name": "python3"
  },
  "language_info": {
   "codemirror_mode": {
    "name": "ipython",
    "version": 3
   },
   "file_extension": ".py",
   "mimetype": "text/x-python",
   "name": "python",
   "nbconvert_exporter": "python",
   "pygments_lexer": "ipython3",
   "version": "3.8.5"
  }
 },
 "nbformat": 4,
 "nbformat_minor": 5
}
