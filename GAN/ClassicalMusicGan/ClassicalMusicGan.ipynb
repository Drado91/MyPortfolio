{
 "cells": [
  {
   "cell_type": "code",
   "execution_count": 11,
   "id": "f82677d8",
   "metadata": {},
   "outputs": [
    {
     "name": "stdout",
     "output_type": "stream",
     "text": [
      "Collecting torch\n",
      "  Downloading torch-1.12.1-cp39-none-macosx_10_9_x86_64.whl (133.8 MB)\n",
      "\u001B[K     |████████████████████████████████| 133.8 MB 2.1 MB/s eta 0:00:01\n",
      "\u001B[?25hRequirement already satisfied: typing-extensions in /Users/drado/opt/anaconda3/lib/python3.9/site-packages (from torch) (4.1.1)\n",
      "Installing collected packages: torch\n",
      "Successfully installed torch-1.12.1\n",
      "Note: you may need to restart the kernel to use updated packages.\n"
     ]
    }
   ],
   "source": [
    "pip install torch"
   ]
  },
  {
   "cell_type": "code",
   "execution_count": 1,
   "id": "6a454418-6b6e-4e3a-90f1-b7dcab7ea8d3",
   "metadata": {},
   "outputs": [],
   "source": [
    "from __future__ import division\n",
    "import sys\n",
    "import argparse\n",
    "import numpy as np\n",
    "import pretty_midi\n",
    "import librosa\n",
    "import librosa.display\n",
    "import numpy as np\n",
    "import matplotlib.pyplot as plt\n",
    "import pandas as pd\n",
    "import torch\n",
    "import datetime\n",
    "import os"
   ]
  },
  {
   "cell_type": "code",
   "execution_count": null,
   "id": "1bb3bc1b",
   "metadata": {},
   "outputs": [],
   "source": []
  },
  {
   "cell_type": "code",
   "execution_count": 4,
   "id": "09d429c6-f4dd-48e2-92e1-9ef9011bb35c",
   "metadata": {},
   "outputs": [
    {
     "name": "stdout",
     "output_type": "stream",
     "text": [
      "Finito_musicnet_midis\n",
      "Finito_Mozart\n"
     ]
    },
    {
     "name": "stderr",
     "output_type": "stream",
     "text": [
      "/Users/drado/opt/anaconda3/lib/python3.9/site-packages/pretty_midi/pretty_midi.py:97: RuntimeWarning: Tempo, Key or Time signature change events found on non-zero tracks.  This is not a valid type 0 or type 1 MIDI file.  Tempo, Key or Time Signature may be wrong.\n",
      "  warnings.warn(\n"
     ]
    },
    {
     "name": "stdout",
     "output_type": "stream",
     "text": [
      "Finito_Ravel\n",
      "Finito_Dvorak\n",
      "Finito_Beethoven\n",
      "Finito_Haydn\n",
      "Finito_Schubert\n",
      "Finito_Cambini\n",
      "could not read Bach_2310_prelude15\n",
      "could not read Bach_2292_prelude19\n",
      "could not read Bach_2227_fugue6\n",
      "could not read Bach_2211_fugue12\n",
      "could not read Bach_2305_prelude14\n",
      "could not read Bach_2230_prelude20\n",
      "could not read Bach_2194_prelude13\n",
      "Finito_Bach\n",
      "Finito_Brahms\n",
      "Finito_Faure\n"
     ]
    }
   ],
   "source": [
    "\"\"\"\n",
    "Read data from dataset root path\n",
    "1. For each composer read midi file\n",
    "2. Get piano roll matrix out of midi file\n",
    "3. Creates dataset of [name, piano roll matrix, path]\n",
    "\"\"\"\n",
    "\n",
    "root=os.getcwd()+'/musicnet_midis'\n",
    "data=[]\n",
    "for path, subdirs, files in os.walk(root):\n",
    "    sub_dir_str=path.split('/')[-1]\n",
    "    for name in files:\n",
    "        sample_path=os.path.join(path, name)\n",
    "        sample_name=sub_dir_str + '_' + name.split('.')[0]\n",
    "        try:\n",
    "            piano_roll_matrix = pretty_midi.PrettyMIDI(sample_path).get_piano_roll(100)\n",
    "            data.append([sample_name, piano_roll_matrix, sample_path])\n",
    "        except:\n",
    "            print('could not read {}'.format(sample_name))\n",
    "    print('Finito_{}'.format(sub_dir_str))\n",
    "data_pd=pd.DataFrame(data)"
   ]
  },
  {
   "cell_type": "code",
   "execution_count": 5,
   "id": "bb11a150-a9af-48ce-ba13-9b4c12463735",
   "metadata": {},
   "outputs": [
    {
     "data": {
      "text/html": [
       "<div>\n",
       "<style scoped>\n",
       "    .dataframe tbody tr th:only-of-type {\n",
       "        vertical-align: middle;\n",
       "    }\n",
       "\n",
       "    .dataframe tbody tr th {\n",
       "        vertical-align: top;\n",
       "    }\n",
       "\n",
       "    .dataframe thead th {\n",
       "        text-align: right;\n",
       "    }\n",
       "</style>\n",
       "<table border=\"1\" class=\"dataframe\">\n",
       "  <thead>\n",
       "    <tr style=\"text-align: right;\">\n",
       "      <th></th>\n",
       "      <th>0</th>\n",
       "      <th>1</th>\n",
       "      <th>2</th>\n",
       "    </tr>\n",
       "  </thead>\n",
       "  <tbody>\n",
       "    <tr>\n",
       "      <th>0</th>\n",
       "      <td>Mozart_1828_k542_2</td>\n",
       "      <td>[[0.0, 0.0, 0.0, 0.0, 0.0, 0.0, 0.0, 0.0, 0.0,...</td>\n",
       "      <td>/Users/drado/GitCode/Portfolio/GAN/ClassicalMu...</td>\n",
       "    </tr>\n",
       "    <tr>\n",
       "      <th>1</th>\n",
       "      <td>Mozart_1893_k564_3</td>\n",
       "      <td>[[0.0, 0.0, 0.0, 0.0, 0.0, 0.0, 0.0, 0.0, 0.0,...</td>\n",
       "      <td>/Users/drado/GitCode/Portfolio/GAN/ClassicalMu...</td>\n",
       "    </tr>\n",
       "    <tr>\n",
       "      <th>2</th>\n",
       "      <td>Mozart_1817_k3752</td>\n",
       "      <td>[[0.0, 0.0, 0.0, 0.0, 0.0, 0.0, 0.0, 0.0, 0.0,...</td>\n",
       "      <td>/Users/drado/GitCode/Portfolio/GAN/ClassicalMu...</td>\n",
       "    </tr>\n",
       "  </tbody>\n",
       "</table>\n",
       "</div>"
      ],
      "text/plain": [
       "                    0                                                  1  \\\n",
       "0  Mozart_1828_k542_2  [[0.0, 0.0, 0.0, 0.0, 0.0, 0.0, 0.0, 0.0, 0.0,...   \n",
       "1  Mozart_1893_k564_3  [[0.0, 0.0, 0.0, 0.0, 0.0, 0.0, 0.0, 0.0, 0.0,...   \n",
       "2   Mozart_1817_k3752  [[0.0, 0.0, 0.0, 0.0, 0.0, 0.0, 0.0, 0.0, 0.0,...   \n",
       "\n",
       "                                                   2  \n",
       "0  /Users/drado/GitCode/Portfolio/GAN/ClassicalMu...  \n",
       "1  /Users/drado/GitCode/Portfolio/GAN/ClassicalMu...  \n",
       "2  /Users/drado/GitCode/Portfolio/GAN/ClassicalMu...  "
      ]
     },
     "execution_count": 5,
     "metadata": {},
     "output_type": "execute_result"
    }
   ],
   "source": [
    "data_pd.head(3)"
   ]
  },
  {
   "cell_type": "code",
   "execution_count": 7,
   "id": "14bf8cfb-e9ff-4f9f-bf69-784f748c664e",
   "metadata": {},
   "outputs": [],
   "source": [
    "fsr = 100 #midi sampling frequency\n",
    "def plot_piano_roll(m, start_pitch, end_pitch, fs=100):\n",
    "    # Use librosa's specshow function for displaying the piano roll\n",
    "    midi_data=pretty_midi.PrettyMIDI(m[2])\n",
    "    librosa.display.specshow(midi_data.get_piano_roll(fs)[start_pitch:end_pitch],\n",
    "                             hop_length=1, sr=fs, x_axis='time', y_axis='cqt_note',\n",
    "                             fmin=pretty_midi.note_number_to_hz(start_pitch))\n",
    "    plt.title(m[0])\n",
    "    plt.figure(figsize=(8, 4))"
   ]
  },
  {
   "cell_type": "code",
   "execution_count": 8,
   "id": "a415cd23-cdc2-46f4-9e22-c55332031a4b",
   "metadata": {
    "tags": []
   },
   "outputs": [
    {
     "name": "stderr",
     "output_type": "stream",
     "text": [
      "/Users/drado/opt/anaconda3/lib/python3.9/site-packages/librosa/util/decorators.py:88: UserWarning: Frequency axis exceeds Nyquist. Did you remember to set all spectrogram parameters in specshow?\n",
      "  return f(*args, **kwargs)\n"
     ]
    },
    {
     "data": {
      "text/plain": [
       "'0:02:32.690000'"
      ]
     },
     "execution_count": 8,
     "metadata": {},
     "output_type": "execute_result"
    },
    {
     "data": {
      "image/png": "[encoded data removed]",
      "text/plain": [
       "<Figure size 432x288 with 1 Axes>"
      ]
     },
     "metadata": {
      "needs_background": "light"
     },
     "output_type": "display_data"
    },
    {
     "data": {
      "text/plain": [
       "<Figure size 576x288 with 0 Axes>"
      ]
     },
     "metadata": {},
     "output_type": "display_data"
    }
   ],
   "source": [
    "#Get one random sample, plot it's piano roll matrix.\n",
    "random_m_idx=np.random.randint(0, high=data_pd.shape[0], size=None, dtype=int)\n",
    "random_m=data_pd.iloc[random_m_idx]\n",
    "plot_piano_roll(random_m,32,100)\n",
    "random_m[0]\n",
    "len_sec=random_m[1].shape[1]/fsr\n",
    "str(datetime.timedelta(seconds=len_sec))"
   ]
  },
  {
   "cell_type": "code",
   "execution_count": 48,
   "id": "9c130110",
   "metadata": {},
   "outputs": [],
   "source": [
    "x=data_pd.iloc[:,1][5][:,500:744]\n",
    "torch."
   ]
  },
  {
   "cell_type": "code",
   "execution_count": 46,
   "id": "d190caca-6192-4c2a-81a8-e5e257b5dffe",
   "metadata": {},
   "outputs": [],
   "source": [
    "#Create dataset class\n",
    "class MyDataset():\n",
    "  def __init__(self,dataframe):  \n",
    "    self.data=dataframe.iloc[:,1]\n",
    "    self.names=dataframe.iloc[:,0]\n",
    " \n",
    "  def __len__(self):\n",
    "    return len(self.data)\n",
    "   \n",
    "  def __getitem__(self,idx):\n",
    "    return torch.self.data[idx][:,500:744]\n"
   ]
  },
  {
   "cell_type": "code",
   "execution_count": 47,
   "id": "f8dfbee8-a809-4f14-b373-ecfc5a94b114",
   "metadata": {},
   "outputs": [],
   "source": [
    "dataset=MyDataset(data_pd)"
   ]
  },
  {
   "cell_type": "code",
   "execution_count": 109,
   "id": "a5e2f7d9-fd12-450b-b212-1a315a3d6e84",
   "metadata": {},
   "outputs": [
    {
     "data": {
      "text/plain": [
       "(128, 25370)"
      ]
     },
     "execution_count": 109,
     "metadata": {},
     "output_type": "execute_result"
    }
   ],
   "source": []
  },
  {
   "cell_type": "code",
   "execution_count": null,
   "id": "f87aca1a-fb7d-4fb7-82ab-d9a7b6ab16e0",
   "metadata": {},
   "outputs": [],
   "source": []
  }
 ],
 "metadata": {
  "kernelspec": {
   "display_name": "Python 3 (ipykernel)",
   "language": "python",
   "name": "python3"
  },
  "language_info": {
   "codemirror_mode": {
    "name": "ipython",
    "version": 3
   },
   "file_extension": ".py",
   "mimetype": "text/x-python",
   "name": "python",
   "nbconvert_exporter": "python",
   "pygments_lexer": "ipython3",
   "version": "3.9.12"
  }
 },
 "nbformat": 4,
 "nbformat_minor": 5
}
