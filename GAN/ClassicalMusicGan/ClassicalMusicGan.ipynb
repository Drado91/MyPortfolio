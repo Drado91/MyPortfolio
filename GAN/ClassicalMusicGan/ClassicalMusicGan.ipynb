{
 "cells": [
  {
   "cell_type": "code",
   "execution_count": 3,
   "id": "6a454418-6b6e-4e3a-90f1-b7dcab7ea8d3",
   "metadata": {},
   "outputs": [],
   "source": [
    "from __future__ import division\n",
    "import sys\n",
    "import argparse\n",
    "import numpy as np\n",
    "import pretty_midi\n",
    "import librosa\n",
    "import librosa.display\n",
    "import numpy as np\n",
    "import matplotlib.pyplot as plt\n",
    "import pandas as pd\n",
    "import torch\n",
    "import datetime\n",
    "import os"
   ]
  },
  {
   "cell_type": "code",
   "execution_count": 4,
   "id": "09d429c6-f4dd-48e2-92e1-9ef9011bb35c",
   "metadata": {},
   "outputs": [
    {
     "name": "stdout",
     "output_type": "stream",
     "text": [
      "Finito_musicnet_midis\n",
      "could not read musicnet_midis\\Bach_2194_prelude13\n"
     ]
    },
    {
     "name": "stderr",
     "output_type": "stream",
     "text": [
      "c:\\users\\dudirado\\documents\\github\\myportfolio\\venv\\lib\\site-packages\\pretty_midi\\pretty_midi.py:97: RuntimeWarning: Tempo, Key or Time signature change events found on non-zero tracks.  This is not a valid type 0 or type 1 MIDI file.  Tempo, Key or Time Signature may be wrong.\n",
      "  warnings.warn(\n"
     ]
    },
    {
     "name": "stdout",
     "output_type": "stream",
     "text": [
      "could not read musicnet_midis\\Bach_2211_fugue12\n",
      "could not read musicnet_midis\\Bach_2227_fugue6\n",
      "could not read musicnet_midis\\Bach_2230_prelude20\n",
      "could not read musicnet_midis\\Bach_2292_prelude19\n",
      "could not read musicnet_midis\\Bach_2305_prelude14\n",
      "could not read musicnet_midis\\Bach_2310_prelude15\n",
      "Finito_musicnet_midis\\Bach\n",
      "Finito_musicnet_midis\\Beethoven\n",
      "Finito_musicnet_midis\\Brahms\n",
      "Finito_musicnet_midis\\Cambini\n",
      "Finito_musicnet_midis\\Dvorak\n",
      "Finito_musicnet_midis\\Faure\n",
      "Finito_musicnet_midis\\Haydn\n",
      "Finito_musicnet_midis\\Mozart\n",
      "Finito_musicnet_midis\\Ravel\n",
      "Finito_musicnet_midis\\Schubert\n"
     ]
    }
   ],
   "source": [
    "data_pdos.getcwd()+'/musicnet_midis'\n",
    "data=[]\n",
    "for path, subdirs, files in os.walk(root):\n",
    "    sub_dir_str=path.split('/')[-1]\n",
    "    for name in files:\n",
    "        sample_path=os.path.join(path, name)\n",
    "        sample_name=sub_dir_str + '_' + name.split('.')[0]\n",
    "        try:\n",
    "            piano_roll_matrix = pretty_midi.PrettyMIDI(sample_path).get_piano_roll(100)\n",
    "            data.append([sample_name, piano_roll_matrix, sample_path])\n",
    "        except:\n",
    "            print('could not read {}'.format(sample_name))\n",
    "    print('Finito_{}'.format(sub_dir_str))\n",
    "data_pd=pd.DataFrame(data)"
   ]
  },
  {
   "cell_type": "code",
   "execution_count": 6,
   "id": "bb11a150-a9af-48ce-ba13-9b4c12463735",
   "metadata": {},
   "outputs": [
    {
     "data": {
      "text/html": [
       "<div>\n",
       "<style scoped>\n",
       "    .dataframe tbody tr th:only-of-type {\n",
       "        vertical-align: middle;\n",
       "    }\n",
       "\n",
       "    .dataframe tbody tr th {\n",
       "        vertical-align: top;\n",
       "    }\n",
       "\n",
       "    .dataframe thead th {\n",
       "        text-align: right;\n",
       "    }\n",
       "</style>\n",
       "<table border=\"1\" class=\"dataframe\">\n",
       "  <thead>\n",
       "    <tr style=\"text-align: right;\">\n",
       "      <th></th>\n",
       "      <th>0</th>\n",
       "      <th>1</th>\n",
       "      <th>2</th>\n",
       "    </tr>\n",
       "  </thead>\n",
       "  <tbody>\n",
       "    <tr>\n",
       "      <th>0</th>\n",
       "      <td>musicnet_midis\\Bach_2186_vs6_1</td>\n",
       "      <td>[[0.0, 0.0, 0.0, 0.0, 0.0, 0.0, 0.0, 0.0, 0.0,...</td>\n",
       "      <td>C:\\Users\\DUDIRADO\\Documents\\GitHub\\MyPortfolio...</td>\n",
       "    </tr>\n",
       "    <tr>\n",
       "      <th>1</th>\n",
       "      <td>musicnet_midis\\Bach_2191_vs6_5</td>\n",
       "      <td>[[0.0, 0.0, 0.0, 0.0, 0.0, 0.0, 0.0, 0.0, 0.0,...</td>\n",
       "      <td>C:\\Users\\DUDIRADO\\Documents\\GitHub\\MyPortfolio...</td>\n",
       "    </tr>\n",
       "    <tr>\n",
       "      <th>2</th>\n",
       "      <td>musicnet_midis\\Bach_2195_fugue3</td>\n",
       "      <td>[[0.0, 0.0, 0.0, 0.0, 0.0, 0.0, 0.0, 0.0, 0.0,...</td>\n",
       "      <td>C:\\Users\\DUDIRADO\\Documents\\GitHub\\MyPortfolio...</td>\n",
       "    </tr>\n",
       "  </tbody>\n",
       "</table>\n",
       "</div>"
      ],
      "text/plain": [
       "                                 0  \\\n",
       "0   musicnet_midis\\Bach_2186_vs6_1   \n",
       "1   musicnet_midis\\Bach_2191_vs6_5   \n",
       "2  musicnet_midis\\Bach_2195_fugue3   \n",
       "\n",
       "                                                   1  \\\n",
       "0  [[0.0, 0.0, 0.0, 0.0, 0.0, 0.0, 0.0, 0.0, 0.0,...   \n",
       "1  [[0.0, 0.0, 0.0, 0.0, 0.0, 0.0, 0.0, 0.0, 0.0,...   \n",
       "2  [[0.0, 0.0, 0.0, 0.0, 0.0, 0.0, 0.0, 0.0, 0.0,...   \n",
       "\n",
       "                                                   2  \n",
       "0  C:\\Users\\DUDIRADO\\Documents\\GitHub\\MyPortfolio...  \n",
       "1  C:\\Users\\DUDIRADO\\Documents\\GitHub\\MyPortfolio...  \n",
       "2  C:\\Users\\DUDIRADO\\Documents\\GitHub\\MyPortfolio...  "
      ]
     },
     "execution_count": 6,
     "metadata": {},
     "output_type": "execute_result"
    }
   ],
   "source": [
    "data_pd.head(3)"
   ]
  },
  {
   "cell_type": "code",
   "execution_count": 7,
   "id": "14bf8cfb-e9ff-4f9f-bf69-784f748c664e",
   "metadata": {},
   "outputs": [],
   "source": [
    "fsr = 100 #midi sampling frequency\n",
    "def plot_piano_roll(m, start_pitch, end_pitch, fs=100):\n",
    "    # Use librosa's specshow function for displaying the piano roll\n",
    "    midi_data=pretty_midi.PrettyMIDI(m[2])\n",
    "    librosa.display.specshow(midi_data.get_piano_roll(fs)[start_pitch:end_pitch],\n",
    "                             hop_length=1, sr=fs, x_axis='time', y_axis='cqt_note',\n",
    "                             fmin=pretty_midi.note_number_to_hz(start_pitch))\n",
    "    plt.title(m[0])\n",
    "    plt.figure(figsize=(8, 4))"
   ]
  },
  {
   "cell_type": "code",
   "execution_count": 8,
   "id": "a415cd23-cdc2-46f4-9e22-c55332031a4b",
   "metadata": {
    "tags": []
   },
   "outputs": [
    {
     "name": "stderr",
     "output_type": "stream",
     "text": [
      "c:\\users\\dudirado\\documents\\github\\myportfolio\\venv\\lib\\site-packages\\pretty_midi\\pretty_midi.py:97: RuntimeWarning: Tempo, Key or Time signature change events found on non-zero tracks.  This is not a valid type 0 or type 1 MIDI file.  Tempo, Key or Time Signature may be wrong.\n",
      "  warnings.warn(\n",
      "c:\\users\\dudirado\\documents\\github\\myportfolio\\venv\\lib\\site-packages\\librosa\\util\\decorators.py:88: UserWarning: Frequency axis exceeds Nyquist. Did you remember to set all spectrogram parameters in specshow?\n",
      "  return f(*args, **kwargs)\n"
     ]
    },
    {
     "data": {
      "text/plain": [
       "'0:07:35.440000'"
      ]
     },
     "execution_count": 8,
     "metadata": {},
     "output_type": "execute_result"
    },
    {
     "data": {
      "image/png": "[encoded data removed]",
      "text/plain": [
       "<Figure size 640x480 with 1 Axes>"
      ]
     },
     "metadata": {},
     "output_type": "display_data"
    },
    {
     "data": {
      "text/plain": [
       "<Figure size 800x400 with 0 Axes>"
      ]
     },
     "metadata": {},
     "output_type": "display_data"
    }
   ],
   "source": [
    "random_m_idx=np.random.randint(0, high=data_pd.shape[0], size=None, dtype=int)\n",
    "random_m=data_pd.iloc[random_m_idx]\n",
    "plot_piano_roll(random_m,32,100)\n",
    "random_m[0]\n",
    "len_sec=random_m[1].shape[1]/fsr\n",
    "str(datetime.timedelta(seconds=len_sec))"
   ]
  },
  {
   "cell_type": "code",
   "execution_count": 102,
   "id": "d190caca-6192-4c2a-81a8-e5e257b5dffe",
   "metadata": {},
   "outputs": [],
   "source": [
    "class MyDataset():\n",
    "  def __init__(self,dataframe):  \n",
    "    self.data=torch.tensor(dataframe[1])\n",
    " \n",
    "  def __len__(self):\n",
    "    return len(self.y_train)\n",
    "   \n",
    "  def __getitem__(self,idx):\n",
    "    return self.x_train[idx],self.y_train[idx]\n"
   ]
  },
  {
   "cell_type": "code",
   "execution_count": 103,
   "id": "f8dfbee8-a809-4f14-b373-ecfc5a94b114",
   "metadata": {},
   "outputs": [
    {
     "ename": "ValueError",
     "evalue": "expected sequence of length 25142 at dim 2 (got 25370)",
     "output_type": "error",
     "traceback": [
      "\u001b[0;31m---------------------------------------------------------------------------\u001b[0m",
      "\u001b[0;31mValueError\u001b[0m                                Traceback (most recent call last)",
      "Input \u001b[0;32mIn [103]\u001b[0m, in \u001b[0;36m<cell line: 1>\u001b[0;34m()\u001b[0m\n\u001b[0;32m----> 1\u001b[0m x\u001b[38;5;241m=\u001b[39m\u001b[43mMyDataset\u001b[49m\u001b[43m(\u001b[49m\u001b[43mdata_pd\u001b[49m\u001b[43m)\u001b[49m\n",
      "Input \u001b[0;32mIn [102]\u001b[0m, in \u001b[0;36mMyDataset.__init__\u001b[0;34m(self, dataframe)\u001b[0m\n\u001b[1;32m      2\u001b[0m \u001b[38;5;28;01mdef\u001b[39;00m \u001b[38;5;21m__init__\u001b[39m(\u001b[38;5;28mself\u001b[39m,dataframe):  \n\u001b[0;32m----> 3\u001b[0m   \u001b[38;5;28mself\u001b[39m\u001b[38;5;241m.\u001b[39mdata\u001b[38;5;241m=\u001b[39m\u001b[43mtorch\u001b[49m\u001b[38;5;241;43m.\u001b[39;49m\u001b[43mtensor\u001b[49m\u001b[43m(\u001b[49m\u001b[43mdataframe\u001b[49m\u001b[43m[\u001b[49m\u001b[38;5;241;43m1\u001b[39;49m\u001b[43m]\u001b[49m\u001b[43m)\u001b[49m\n",
      "\u001b[0;31mValueError\u001b[0m: expected sequence of length 25142 at dim 2 (got 25370)"
     ]
    }
   ],
   "source": [
    "x=MyDataset(data_pd)"
   ]
  },
  {
   "cell_type": "code",
   "execution_count": 109,
   "id": "a5e2f7d9-fd12-450b-b212-1a315a3d6e84",
   "metadata": {},
   "outputs": [
    {
     "data": {
      "text/plain": [
       "(128, 25370)"
      ]
     },
     "execution_count": 109,
     "metadata": {},
     "output_type": "execute_result"
    }
   ],
   "source": [
    "data_pd[1][1].shape"
   ]
  },
  {
   "cell_type": "code",
   "execution_count": null,
   "id": "f87aca1a-fb7d-4fb7-82ab-d9a7b6ab16e0",
   "metadata": {},
   "outputs": [],
   "source": []
  }
 ],
 "metadata": {
  "kernelspec": {
   "display_name": "Python 3 (ipykernel)",
   "language": "python",
   "name": "python3"
  },
  "language_info": {
   "codemirror_mode": {
    "name": "ipython",
    "version": 3
   },
   "file_extension": ".py",
   "mimetype": "text/x-python",
   "name": "python",
   "nbconvert_exporter": "python",
   "pygments_lexer": "ipython3",
   "version": "3.8.8"
  }
 },
 "nbformat": 4,
 "nbformat_minor": 5
}
